{
  "cells": [
    {
      "cell_type": "markdown",
      "metadata": {
        "id": "1d1Cb8XK6DM8"
      },
      "source": [
        "# Examples of Three Types of Modeling"
      ]
    },
    {
      "cell_type": "markdown",
      "metadata": {
        "id": "56q_Vjdq6DM_"
      },
      "source": [
        "We will categorize mathematical models as three types:\n",
        "\n",
        "1. Monte Carlo models\n",
        "1. empirical models\n",
        "1. dynamic models\n",
        "\n",
        "\n",
        "Let's demonstrate and play with each of these types of models. To start, run the code cell below to load in some packages."
      ]
    },
    {
      "cell_type": "code",
      "execution_count": null,
      "metadata": {
        "id": "YO50kmLf6DM_"
      },
      "outputs": [],
      "source": [
        "# import packages\n",
        "import random\n",
        "import matplotlib.pyplot as plt\n",
        "import numpy as np\n",
        "from scipy.optimize import curve_fit"
      ]
    },
    {
      "cell_type": "markdown",
      "source": [
        "## Emperical Model\n",
        "\n",
        "An **emperical model** is a mathematical function obtained by finding the best-fit function that describes data. Here is an example of fitting a curve to recent annual global surface temperature.\n",
        "\n",
        "The code below will fetch and plot the annual global surface temperature anomaly using land and sea data as a function of year from [Berkeley Earth](https://berkeley-earth-temperature-hr.s3.amazonaws.com/Global_TAVG_annual.txt). Temperature anomaly is the difference in the temperature measurement from a standard. In this case, the standard (reference) temperature is the Jan 1951-Dec 1980 average.\n",
        "\n",
        "This script was generated using a large language model and then modified slighly. You can see the text conversation used to generate the script [here](https://chat.openai.com/share/5ce5fe49-10e4-44bf-b8f9-f154cd73212c). Like I did here, I expect you to cite your use of LLM in your own work in this class and provide links to the transcripts when relavent. The specifics of the script are not important. We will be focusing on the data and our soon to be described model."
      ],
      "metadata": {
        "id": "EOyExsNfDl1W"
      }
    },
    {
      "cell_type": "code",
      "source": [
        "from matplotlib.ticker import MultipleLocator\n",
        "import requests\n",
        "\n",
        "# Define the URL for the data file\n",
        "url = \"https://berkeley-earth-temperature-hr.s3.amazonaws.com/Global_TAVG_annual.txt\"\n",
        "\n",
        "# Function to skip lines starting with '%'\n",
        "def skip_comments(file):\n",
        "    for line in file:\n",
        "        if not line.startswith('%'):\n",
        "            yield line\n",
        "\n",
        "# Initialize empty lists for years and temperatures\n",
        "years = []\n",
        "temperatures = []\n",
        "errors = []\n",
        "\n",
        "# Fetch data from the URL\n",
        "response = requests.get(url)\n",
        "\n",
        "# Check if the request was successful\n",
        "if response.status_code == 200:\n",
        "    # Decode the content and split it into lines\n",
        "    lines = response.text.splitlines()\n",
        "\n",
        "\n",
        "    # Iterate through non-comment lines and extract data\n",
        "    for line in skip_comments(lines):\n",
        "        data = line.split()  # Split the line into columns\n",
        "        if(len(data) == 0):\n",
        "          continue\n",
        "        year = int(data[0])  # Year is in the first column\n",
        "        temperature = float(data[1])  # Temperature is in the second column\n",
        "        error = float(data[2])  # Error is in the third column\n",
        "\n",
        "        # Append data to the respective lists\n",
        "        years.append(year)\n",
        "        temperatures.append(temperature)\n",
        "        errors.append(error)\n",
        "\n",
        "\n",
        "    # Convert lists to numpy arrays for plotting\n",
        "    years = np.array(years)\n",
        "    temperatures = np.array(temperatures)\n",
        "    errors = np.array(errors)\n",
        "\n",
        "    # Filter data from 1960 to 2023\n",
        "    mask = (years >= 1960) & (years <= 2020)\n",
        "    years_filtered = years[mask]\n",
        "    temperatures_filtered = temperatures[mask]\n",
        "\n",
        "    # Define a quadratic function for fitting\n",
        "    def quadratic_fit(x, a, b, c):\n",
        "        return a * x**2 + b * x + c\n",
        "\n",
        "    # Fit the data with the quadratic function\n",
        "    popt, _ = curve_fit(quadratic_fit, years_filtered, temperatures_filtered)\n",
        "\n",
        "    # Create a plot\n",
        "    plt.figure(figsize=(10, 6))\n",
        "    plt.errorbar(years, temperatures, yerr=errors, fmt='o-', color='black', label='Annual Temperature Anomaly (°C)')\n",
        "\n",
        "    # Generate values for the fitted curve\n",
        "    curve_years = np.linspace(1960, 2020, 1000)\n",
        "    fitted_curve = quadratic_fit(curve_years, *popt)\n",
        "\n",
        "    # Plot the fitted curve\n",
        "    plt.plot(curve_years, fitted_curve, '-', label='Quadratic Fit', color='red')\n",
        "\n",
        "    plt.title('Land + Ocean temperature anomaly')\n",
        "    plt.xlabel('Year')\n",
        "    plt.ylabel('Annual Temperature Anomaly (°C)')\n",
        "    plt.grid(True)\n",
        "    plt.legend()\n",
        "    ax = plt.gca()\n",
        "    ax.xaxis.set_major_locator(MultipleLocator(20))\n",
        "    plt.show()\n",
        "\n",
        "   # Print out the fit parameters\n",
        "    a, b, c = popt\n",
        "    print(f\"Quadratic Fit Parameters:\")\n",
        "    print(f\"A: {a:.4e}\")\n",
        "    print(f'B: {b:.4e}')\n",
        "    print(f'C: {c:.4e}')\n",
        "else:\n",
        "    print(\"Failed to fetch data. Status code:\", response.status_code)\n"
      ],
      "metadata": {
        "id": "ea1L6Hqu_bOs"
      },
      "execution_count": null,
      "outputs": []
    },
    {
      "cell_type": "markdown",
      "metadata": {
        "id": "6n4Q_AKR6DNA"
      },
      "source": [
        "The last part of this graph, since around 1960, can be approximated by a quadratic of the form:\n",
        "\n",
        "$$y = A x^2 + Bx + C$$\n",
        "\n",
        "where $y$ is the variable on the vertical axis, $x$ is the variable on the horizontal axis, and $A$, $B$, and $C$ are the **curve fit parameters** that determine the shape of the function.\n",
        "\n",
        "However, in this case the variable plotted on the vertical axis is temperature anomaly, which we we call $T$, and the variable plotted on the horizontal axis is year, which we will call $t$. The best-fit function for years after 1960 is\n",
        "\n",
        "$$T = \\left(1.5269\\times 10^{-4}\\ \\frac{^\\circ\\mathrm{C}}{y^2}\\right)t^2 + \\left(-0.058845\\ \\frac{^\\circ\\mathrm{C}}{y}\\right)t + 566.69\\ ^\\circ\\mathrm{C}$$\n",
        "\n",
        "where $T$ is the global temperature anomaly in degrees Celsius, and $t$ is the year number."
      ]
    },
    {
      "cell_type": "markdown",
      "metadata": {
        "id": "vwC-AUOZ6DNB"
      },
      "source": [
        "### Example\n",
        "\n",
        "This mathematical function is called the **emperical model**, and it can be used to calculate the temperature in any year from 1960 to 2023. Define the values of the fit parameters `A`, `B`, and `C` and the year `t`. Then calculate the temperature anomaly for that year using:\n",
        "\n",
        "```python\n",
        "T = A*t**2 + B*t + C\n",
        "```\n",
        "\n",
        "Note that in Python, the operator `**` is used to raise a quantity to a power. Let's calculate the temperature anomaly in 1980."
      ]
    },
    {
      "cell_type": "code",
      "execution_count": null,
      "metadata": {
        "id": "1Xhfp-I96DNB"
      },
      "outputs": [],
      "source": [
        "A = 1.5269e-04\n",
        "B = -5.8845e-01\n",
        "C = 5.6669e+02\n",
        "\n",
        "t = 1980\n",
        "\n",
        "T = A*t**2 + B*t + C\n",
        "\n",
        "print(\"The temperature in {:.0f} is {:.2f} degrees Celsius.\".format(t, T))"
      ]
    },
    {
      "cell_type": "markdown",
      "metadata": {
        "id": "nGogRfa06DNB"
      },
      "source": [
        "I am going to define this in a Python function that you can call in order to print the temperature for any year."
      ]
    },
    {
      "cell_type": "code",
      "execution_count": null,
      "metadata": {
        "id": "grzJfuFZ6DNC"
      },
      "outputs": [],
      "source": [
        "def temp(t=1980):\n",
        "    A = 1.5269e-04\n",
        "    B = -5.8845e-01\n",
        "    C = 5.6669e+02\n",
        "\n",
        "    T = A*t**2 + B*t + C\n",
        "\n",
        "    return T"
      ]
    },
    {
      "cell_type": "markdown",
      "metadata": {
        "id": "4QnyvnYh6DNC"
      },
      "source": [
        "Now you can call this function with the year as the argument. Here is the temperature anomaly in 1980."
      ]
    },
    {
      "cell_type": "code",
      "execution_count": null,
      "metadata": {
        "id": "F4D0qLAc6DNC"
      },
      "outputs": [],
      "source": [
        "temp(1980)"
      ]
    },
    {
      "cell_type": "markdown",
      "metadata": {
        "id": "m9Sb4UBM6DNC"
      },
      "source": [
        "**It is best to present your results in written form in a markdown cell.** For instance, you can write: \"Our emperical model predicts the annual global surface temperature anomaly in 1980 to be 0.165 degrees Celsius.\""
      ]
    },
    {
      "cell_type": "markdown",
      "metadata": {
        "id": "3B1Dolb16DND"
      },
      "source": [
        "### Exercise 1\n",
        "\n",
        "Compare your prediction to the measured temperature anomaly in 1980. What is the difference in the prediction and the measured temperature anomaly?"
      ]
    },
    {
      "cell_type": "markdown",
      "metadata": {
        "id": "HE-04LfH6DND"
      },
      "source": [
        "### Exercise 2\n",
        "\n",
        "In the cell below, run the command `temp(1980)` again, but change the year to 1940."
      ]
    },
    {
      "cell_type": "code",
      "execution_count": null,
      "metadata": {
        "id": "IXLxoJtO6DND"
      },
      "outputs": [],
      "source": []
    },
    {
      "cell_type": "markdown",
      "metadata": {
        "id": "cslgGPGl6DND"
      },
      "source": [
        "What temperature anomaly does the model predict in 1940?\n",
        "\n",
        "Compare the predicted temperature anomaly to the measured temperature anomaly. Why is the prediction so far off?"
      ]
    },
    {
      "cell_type": "markdown",
      "metadata": {
        "id": "M_CaDtVD6DND"
      },
      "source": [
        "### Exercise 3\n",
        "\n",
        "If this trend continues, what will be the temperature anomaly in 2050?\n",
        "\n",
        "Is your prediction valid?"
      ]
    },
    {
      "cell_type": "code",
      "execution_count": null,
      "metadata": {
        "id": "HYCf3-Jl6DND"
      },
      "outputs": [],
      "source": []
    },
    {
      "cell_type": "markdown",
      "metadata": {
        "id": "KZ_gtUvq6DND"
      },
      "source": [
        "### Exercise 4\n",
        "\n",
        "Under what circumstances can an emperical model be used?\n",
        "\n",
        "What are the ethical considerations in using an emperical model to make predictions?"
      ]
    },
    {
      "cell_type": "markdown",
      "metadata": {
        "id": "kPJX2jY_6DND"
      },
      "source": [
        "## Dynamic Model\n",
        "\n",
        "A dynamic model is a set of mathematical equations based on theoretical relationships that describe how a system **evolves** over time. We will study dynamic models in biology, finance, and physics.\n",
        "\n",
        "In this example, we calculate the trajectory of a baseball after the collision with a bat. First, run the cell below which defines the model. (It produces no output until it's called in a later cell.)"
      ]
    },
    {
      "cell_type": "code",
      "execution_count": null,
      "metadata": {
        "id": "hVVnzJNL6DND"
      },
      "outputs": [],
      "source": [
        "def baseball(v_mph=100, theta_deg=30):\n",
        "\n",
        "    ## define constants\n",
        "    m = 0.15 # kg\n",
        "    g = 9.8 # N/kg\n",
        "    dt = 0.01 # s\n",
        "\n",
        "    rho=1.225 #kg/m^3\n",
        "    Cd=0.3 #drag coeff\n",
        "    R=0.074/2 #radius in m\n",
        "    A = np.pi*R**2 #cross-sectional area of the ball\n",
        "\n",
        "    # define variables and their initial values\n",
        "    v = v_mph/2.23694 # m/s\n",
        "    theta = theta_deg #deg\n",
        "    vx = v*np.cos(theta*np.pi/180)\n",
        "    vy = v*np.cos(np.pi/2-theta*np.pi/180)\n",
        "    x = 0 # m\n",
        "    y = 1 # m\n",
        "    t = 0 # s\n",
        "\n",
        "    # create empty lists for storing data\n",
        "    tdata = []\n",
        "    xdata = []\n",
        "    ydata = []\n",
        "    vxdata = []\n",
        "    vydata = []\n",
        "\n",
        "    # append initial values of t and P to our lists\n",
        "    tdata.append(t)\n",
        "    xdata.append(x)\n",
        "    ydata.append(y)\n",
        "    vydata.append(vy)\n",
        "    vxdata.append(vx)\n",
        "\n",
        "    # loop\n",
        "    while y>=0:\n",
        "        Fnet_x = - 1/2*rho*A*Cd*v*vx\n",
        "        Fnet_y = -m*g - 1/2*rho*A*Cd*v*vy\n",
        "        vx = vx + (Fnet_x/m)*dt\n",
        "        vy = vy + (Fnet_y/m)*dt\n",
        "        v = np.sqrt(vx**2 + vy**2)\n",
        "        x = x + vx*dt\n",
        "        y = y + vy*dt\n",
        "        t = t + dt\n",
        "\n",
        "        vxdata.append(vx)\n",
        "        vydata.append(vy)\n",
        "        xdata.append(x)\n",
        "        ydata.append(y)\n",
        "        tdata.append(t)\n",
        "\n",
        "    # plot the calculated data\n",
        "    plt.figure()\n",
        "    plt.title('Path of a baseball')\n",
        "    plt.xlabel('x (m)')\n",
        "    plt.ylabel('y (m)')\n",
        "    plt.grid(which='both', axis='both')\n",
        "    plt.plot(xdata,ydata,'b-')\n",
        "    plt.show()\n",
        "\n",
        "    # print the final x\n",
        "    print(\"At t = {:.3f} s, x = {:.1f} m = {:.1f} ft.\".format(t, x, x*3.2808))\n"
      ]
    },
    {
      "cell_type": "markdown",
      "metadata": {
        "id": "zrSPo6iW6DND"
      },
      "source": [
        "The two variables we will vary in our model are:\n",
        "\n",
        "- the launch speed of the baseball in miles per hour (mph) (i.e. the baseball's speed just after it leaves the bat)\n",
        "- the launch angle of the baseball in degrees (i.e. the angle at which it leaves the bat)\n",
        "\n",
        "The model produces a trajectory (y position vs. x position) showing the path of the ball. The time and the horizontal distance at which the ball lands is shown. The ball is assumed to leave the bat at a height of 1 m from the ground. Our model includes the forces of gravity and air resistance. It does **not** include the effect of air due to the spin of the ball. In other words, in our model, a baseball hit with back spin and a baseball hit with top spin would travel the same distance, if all other variables are the same.\n",
        "\n",
        "To run the model and view the output, use the function:\n",
        "\n",
        "```python\n",
        "baseball(speed, angle)\n",
        "```\n",
        "\n",
        "where `speed` represents the launch speed of the ball in mph and `angle` represents the launch angle in degrees. For example, `baseball(100,45)` will show you the trajectory for a baseball launched with a speed of 100 mph at an of angle 45 degrees. Run the cell below to see the result."
      ]
    },
    {
      "cell_type": "code",
      "execution_count": null,
      "metadata": {
        "id": "mhYDGnly6DND"
      },
      "outputs": [],
      "source": [
        "baseball(100,45)"
      ]
    },
    {
      "cell_type": "markdown",
      "metadata": {
        "id": "kI3YiBCB6DND"
      },
      "source": [
        "### Exercise 1\n",
        "\n",
        "Copy the code above calling the function `baseball()` and paste it into the cell below. Change the angle to 40 degrees, but leave the launch speed at 100 mph. Does the baseball travel farther or less far?"
      ]
    },
    {
      "cell_type": "code",
      "execution_count": null,
      "metadata": {
        "id": "oJ2uCQVa6DNE"
      },
      "outputs": [],
      "source": []
    },
    {
      "cell_type": "markdown",
      "metadata": {
        "id": "O91noIcN6DNE"
      },
      "source": [
        "### Exercise 2\n",
        "\n",
        "Copy the code above and paste it into the cell below. Using a launch speed of 100 mph, find the angle at which the baseball travels the farthest. (In mathematics, this is called an *optimization* problem.)"
      ]
    },
    {
      "cell_type": "code",
      "execution_count": null,
      "metadata": {
        "id": "mfkSaAYh6DNE"
      },
      "outputs": [],
      "source": []
    },
    {
      "cell_type": "markdown",
      "metadata": {
        "id": "UYmY-ziD6DNE"
      },
      "source": [
        "### Exercise 3\n",
        "\n",
        "Go to [this web site](https://www.onlyhomers.com/database) that all home runs  in MLB in 2024. Select one of the home runs, and write below (in this cell), its launch speed, its launch angle, and its distance."
      ]
    },
    {
      "cell_type": "markdown",
      "metadata": {
        "id": "SVwnR_BW6DNE"
      },
      "source": [
        "### Exercise 4\n",
        "\n",
        "Use our model of a baseball to predict the distance of the home run, given the same launch speed and launch angle from the previous exercise. Your code should be in the cell below. Compare your predicted distance to the actual distance.\n",
        "\n",
        "How far off is your prediction?\n",
        "\n",
        "In general, how does one improve a model so the prediction is closer to the value measured?"
      ]
    },
    {
      "cell_type": "code",
      "execution_count": null,
      "metadata": {
        "id": "571hdD6D6DNE"
      },
      "outputs": [],
      "source": []
    },
    {
      "cell_type": "markdown",
      "metadata": {
        "id": "6C7DOy376DNE"
      },
      "source": [
        "## Monte Carlo Model\n",
        "\n",
        "A Monte Carlo model is a description of a system based on a set of rules and random processes.\n",
        "\n",
        "**History note**: The Monte Carlo method was first developed by nuclear physicists working on the Manhattan Project in the 1940s. While designing the first nuclear weapons they ran into a problem. They could not empirically model how neutrons (the particles that drive the explosive reaction in a nuclear bomb) would travel through the core of nuclear weapon. Around the same time, the first computers were also becoming available. One physicist working on the project, Stan Ulam, had the idea that they could use computers and random numbers to model the interactions. Because it was the Manhattan Project and everything was secret it needed a code name. Stan's uncle was a gambler who had a penchant for hitting up family members for money because he \"just had to go to Monte Carlo\", his preferred gambling establishment in Monaco. For next week, we will be reading an article about this first Monte-Carlo simulation and using it as an example to flesh out the modeling process for this class of model.\n",
        "\n",
        "In this example inspired by an article in [Towards AI on medium.com](https://medium.com/towards-artificial-intelligence/monte-carlo-simulation-an-in-depth-tutorial-with-python-bcf6eb7856c8#6185), we will explore the general question: \"How do casinos earn money?\" In this case, we have a simplified casino game where a player selects a chip from a bag of chips. The rules are:\n",
        "\n",
        "- There are chips containing numbers ranging from 1–100 in a bag.\n",
        "- Players can bet on even or odd chips. If they win, they double the money waged. If they lose, they lose the money waged.\n",
        "- In this game, 10 and 11 are special numbers. If we bet on evens, then 10 will be counted as an odd number, and if we bet on odds, then 11 will be counted as an even number. Therefore:\n",
        "  - if we bet on even numbers and we get 10 then we lose.\n",
        "  - if we bet on odd numbers and we get 11 then we lose.\n",
        "\n",
        "As a result of these rules, there are 100 possible outcomes when you select a chip from the bag. In 49 of the possible outcomes, you will win. In 51 of the possible outcomes you will lose. Therefore, the house (i.e. casino) always has a higher probability of winning than you do.\n",
        "\n",
        "The probability you will win is $49/100 = 0.49$ or 49%.\n",
        "\n",
        "The probability you will lose is $51/100 = 0.51$ or 51%.\n",
        "\n",
        "The difference in the proabilities (2%) is in favor of the house and is called the **house edge**. Another way to think about it is, for every \\\\$100 you bet, the house earns \\\\$2. Sure the house doesn't win every bet. But on average, for a large amount of money wagered, the house will win 2% of money wagered which is \\\\$2 on every \\\\$100.\n",
        "\n",
        "**Your job as a casino consultant is to simulate a person who starts with \\\\$10,000 and bets \\\\$100 per draw of a chip for a total of 50 bets.**"
      ]
    },
    {
      "cell_type": "markdown",
      "metadata": {
        "id": "9dHLdm_r6DNE"
      },
      "source": [
        "### Exercise 1\n",
        "\n",
        "How much money do you expect the house to earn, on average, for this customer?"
      ]
    },
    {
      "cell_type": "markdown",
      "metadata": {
        "id": "aI1nJepG6DNE"
      },
      "source": [
        "### Define the Model\n",
        "\n",
        "Run the code block below which implements the model in Python."
      ]
    },
    {
      "cell_type": "code",
      "execution_count": null,
      "metadata": {
        "id": "pWJMGCwK6DNE"
      },
      "outputs": [],
      "source": [
        "def bet(choice=\"Even\"):\n",
        "\n",
        "    #Get random number between 1-100.\n",
        "    note = random.randint(1,100)\n",
        "\n",
        "    #For even :\n",
        "    if choice==\"Even\":\n",
        "        # 10 is not considered an even number.\n",
        "        if note%2!=0 or note==10:\n",
        "            return False\n",
        "        elif note%2==0:\n",
        "            return True\n",
        "\n",
        "    #For odd :\n",
        "    elif choice==\"Odd\":\n",
        "        # 11 is not considered an odd number.\n",
        "        if note%2==0 or note==11:\n",
        "            return False\n",
        "        elif note%2==1:\n",
        "            return True\n",
        "\n",
        "#Main function :\n",
        "def play(bet_money, total_bets, choice=\"Even\"):\n",
        "\n",
        "    total_money = 0\n",
        "    num_of_plays = []\n",
        "    money = []\n",
        "\n",
        "    for play in range(total_bets):\n",
        "        #Win :\n",
        "        if bet(choice):\n",
        "            #Add money to our funds\n",
        "            total_money = total_money + bet_money\n",
        "            #Append the play number\n",
        "            num_of_plays.append(play)\n",
        "            #Append the new fund amount\n",
        "            money.append(total_money)\n",
        "\n",
        "        #Lose :\n",
        "        else:\n",
        "            #Subtract money from our funds\n",
        "            total_money = total_money - bet_money\n",
        "            #Append the play number\n",
        "            num_of_plays.append(play)\n",
        "            #Append the new fund amount\n",
        "            money.append(total_money)\n",
        "\n",
        "    #Plot the data :\n",
        "    plt.figure()\n",
        "    plt.ylabel('Change in Player Money ($)')\n",
        "    plt.xlabel('Number of bets')\n",
        "    plt.plot(num_of_plays,money)\n",
        "    plt.show()\n",
        "\n",
        "    return(total_money)"
      ]
    },
    {
      "cell_type": "markdown",
      "metadata": {
        "id": "jv0akjQ36DNE"
      },
      "source": [
        "### Run the Model\n",
        "\n",
        "Run the Python function `play()` with the following syntax:\n",
        "\n",
        "```\n",
        "play(bet_money, total_bets, choice=\"Even\")\n",
        "```\n",
        "\n",
        "where `bet_money` is the amount of money the person bets each time a chip is drawn, `total_bets` is the total number of times a chip will be drawn and `choice` is \"Even\" for a bet on an even chip and \"Odd\" for a bet on an odd chip.\n",
        "\n",
        "The result is a graph that shows the total money made (positive) or lost (negative) after each bet by the player."
      ]
    },
    {
      "cell_type": "code",
      "execution_count": null,
      "metadata": {
        "id": "BW_Et09E6DNE"
      },
      "outputs": [],
      "source": [
        "gambler_profit = play(100, 50, \"Even\")\n",
        "print(\"The gambler gains (or loses if negative) ${:.0f}\".format(gambler_profit))"
      ]
    },
    {
      "cell_type": "markdown",
      "metadata": {
        "id": "gzlx_e5D6DNE"
      },
      "source": [
        "### Exercise 2\n",
        "\n",
        "For $100 waged, we expect the player to lose \\\\$2 on each bet, or \\\\$100 on 50 bets. But sometimes the player makes or loses much more than this.\n",
        "\n",
        "**Over the long run, by continuing to place more and more bets, do we expect the player to earn money or lose money?**\n",
        "\n",
        "Investigate this question with your model. Copy the previous cell of code and paste it below. Instead of 50 bets, run it for 100 bets."
      ]
    },
    {
      "cell_type": "code",
      "execution_count": null,
      "metadata": {
        "id": "FpTJ1loT6DNF"
      },
      "outputs": [],
      "source": []
    },
    {
      "cell_type": "markdown",
      "metadata": {
        "id": "wQ5NJa7E6DNF"
      },
      "source": [
        "Copy the previous cell of code and paste it below. Instead of 100 bets, run it for 500 bets."
      ]
    },
    {
      "cell_type": "code",
      "execution_count": null,
      "metadata": {
        "id": "HUU32loh6DNF"
      },
      "outputs": [],
      "source": []
    },
    {
      "cell_type": "markdown",
      "metadata": {
        "id": "MUxJCCpw6DNN"
      },
      "source": [
        "Run it for 1000 bets."
      ]
    },
    {
      "cell_type": "code",
      "execution_count": null,
      "metadata": {
        "id": "W2CekrFU6DNN"
      },
      "outputs": [],
      "source": []
    },
    {
      "cell_type": "markdown",
      "metadata": {
        "id": "EZfwjTw96DNN"
      },
      "source": [
        "Run it for 10,000 bets."
      ]
    },
    {
      "cell_type": "code",
      "execution_count": null,
      "metadata": {
        "id": "I20zQoC56DNN"
      },
      "outputs": [],
      "source": []
    },
    {
      "cell_type": "markdown",
      "metadata": {
        "id": "Ko-ohKe96DNN"
      },
      "source": [
        "Run it for 100,000 bets."
      ]
    },
    {
      "cell_type": "code",
      "execution_count": null,
      "metadata": {
        "id": "iF5wVgvz6DNN"
      },
      "outputs": [],
      "source": []
    },
    {
      "cell_type": "markdown",
      "metadata": {
        "id": "jJ1eFFVA6DNN"
      },
      "source": [
        "If you are a gambler, should you bet fewer times or more times?"
      ]
    },
    {
      "cell_type": "markdown",
      "metadata": {
        "id": "HxivOEbG6DNN"
      },
      "source": [
        "If waging \\$100 per bet, we expect the player to lose \\$2 per bet. How much did this gambler lose per bet for 100,000 bets the last time you ran your model?"
      ]
    },
    {
      "cell_type": "markdown",
      "metadata": {
        "id": "1ekD2faW6DNN"
      },
      "source": [
        "What do you expect the slope of the graph to be?"
      ]
    },
    {
      "cell_type": "markdown",
      "metadata": {
        "id": "69-gy83l6DNN"
      },
      "source": [
        "For 50 bets, do you expect the same slope as for 100,000? Why or why not?"
      ]
    },
    {
      "cell_type": "code",
      "execution_count": null,
      "metadata": {
        "id": "HPXZk7n_6DNN"
      },
      "outputs": [],
      "source": []
    }
  ],
  "metadata": {
    "kernelspec": {
      "display_name": "Python 3",
      "language": "python",
      "name": "python3"
    },
    "language_info": {
      "codemirror_mode": {
        "name": "ipython",
        "version": 3
      },
      "file_extension": ".py",
      "mimetype": "text/x-python",
      "name": "python",
      "nbconvert_exporter": "python",
      "pygments_lexer": "ipython3",
      "version": "3.8.3"
    },
    "colab": {
      "provenance": []
    }
  },
  "nbformat": 4,
  "nbformat_minor": 0
}