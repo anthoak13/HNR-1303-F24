{
  "cells": [
    {
      "cell_type": "markdown",
      "metadata": {
        "id": "yLLnjQKKWG7h"
      },
      "source": [
        "# SIR Model\n",
        "\n",
        "- **S**useptible:\n",
        "- **I**nfected:\n",
        "- **R**emoved:\n",
        "\n",
        "Total population is $N=S+I+R$\n",
        "\n",
        "---\n",
        "\n",
        "## Question (narrative, no math)\n",
        "What are the two processes (or interactions) in the model? That is, what are the two ways individuals can move from one group to another?\n",
        "\n",
        "1. \n",
        "1. \n",
        "\n",
        "---\n",
        "\n",
        "## Question (math)\n",
        "How can we model these two interactions mathmatically? Why do these two expressions have the form that they do?\n",
        "\n",
        "1. \n",
        "1. \n",
        "\n",
        "---\n",
        "\n",
        "## Question (narrative, no math)\n",
        "\n",
        "What is the total rate of change for the population, $\\dot{N}$? \n",
        "\n",
        "\n",
        "## Question (math)\n",
        "What does the previous answer about $\\dot{N}$ imply for the rate of change of $I$?\n",
        "\n",
        "\n",
        "\n",
        "---\n",
        "\n",
        "## Nomenclature\n",
        "\n",
        "- $r_{S,I}$: Transmission coefficient\n",
        "- $r_{I,R}$: Recovery rate\n",
        "\n",
        "Based on your experience from last class, which do you expect to be larger?\n",
        "\n"
      ]
    },
    {
      "cell_type": "code",
      "execution_count": null,
      "metadata": {
        "id": "DpqC8jwAWA-7"
      },
      "outputs": [],
      "source": []
    }
  ],
  "metadata": {
    "colab": {
      "authorship_tag": "ABX9TyNNpWEm3gqVOFMfaXOSB/pN",
      "provenance": []
    },
    "kernelspec": {
      "display_name": "Python 3",
      "name": "python3"
    },
    "language_info": {
      "name": "python"
    }
  },
  "nbformat": 4,
  "nbformat_minor": 0
}
