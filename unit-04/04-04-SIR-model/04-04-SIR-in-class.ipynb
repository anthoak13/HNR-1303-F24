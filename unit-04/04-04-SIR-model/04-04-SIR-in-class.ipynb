{
  "nbformat": 4,
  "nbformat_minor": 0,
  "metadata": {
    "colab": {
      "provenance": [],
      "authorship_tag": "ABX9TyNNpWEm3gqVOFMfaXOSB/pN"
    },
    "kernelspec": {
      "name": "python3",
      "display_name": "Python 3"
    },
    "language_info": {
      "name": "python"
    }
  },
  "cells": [
    {
      "cell_type": "markdown",
      "source": [
        "# SIR Model\n",
        "\n",
        "- **S**useptible:\n",
        "- **I**nfected:\n",
        "- **R**emoved:\n",
        "\n",
        "Total population is $N=S+I+R$\n",
        "\n",
        "---\n",
        "\n",
        "## Question (narrative, no math)\n",
        "What are the two processes (or interactions) in the model? That is, what are the two ways individuals can move from one group to another?\n",
        "\n",
        "1. S to I\n",
        "1. I to R\n",
        "\n",
        "---\n",
        "\n",
        "## Question (math)\n",
        "How can we model these two interactions mathmatically? Why do these two expressions have the form that they do?\n",
        "\n",
        "1. $\\dot{S}=-r_{S,I}IS$\n",
        "1. $\\dot{R}=r_{I,R}I$\n",
        "\n",
        "---\n",
        "\n",
        "## Question (narrative, no math)\n",
        "\n",
        "What is the total rate of change for the population, $\\dot{N}$? $0$\n",
        "\n",
        "\n",
        "## Question (math)\n",
        "What does the previous answer about $\\dot{N}$ imply for the rate of change of $I$?\n",
        "\n",
        "$$ \\begin{aligned}\n",
        "\\dot{I} &=  -\\dot{S} - \\dot{R}\\\\\n",
        "\\dot{I} &= -r_{S,I}IS + r_{I,R}I\n",
        "\\end{aligned}$$\n",
        "\n",
        "---\n",
        "\n",
        "## Nomenclature\n",
        "\n",
        "- $r_{S,I}$: Transmission coefficient\n",
        "- $r_{I,R}$: Recovery rate\n",
        "\n",
        "Based on your experience from last class, which do you expect to be larger?\n",
        "\n",
        "$r_{I,R}$ will be larger since it is multiplied by just $I$ compared to $r_{S,I}$ which is multiplied by both $I$ and $S$."
      ],
      "metadata": {
        "id": "yLLnjQKKWG7h"
      }
    },
    {
      "cell_type": "code",
      "execution_count": null,
      "metadata": {
        "id": "DpqC8jwAWA-7"
      },
      "outputs": [],
      "source": []
    }
  ]
}