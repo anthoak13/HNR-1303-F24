{
  "cells": [
    {
      "cell_type": "markdown",
      "metadata": {
        "id": "6OUnjAH9pYUx"
      },
      "source": [
        "## New groups\n",
        "\n",
        "Group Number | Names\n",
        "--- | ---\n",
        "1 | Ryan and Aliyah\n",
        "2 | Paul and Brandon\n",
        "3 | Lily and  Gray\n",
        "4 | Sterling and Heather\n",
        "5 | Dalila and Sara\n",
        "6 | Nora,  Izzy J., and Daniel  \n",
        "7 | Frank and  Jessie\n",
        "8 | Sawyer, Evan and Izzy W."
      ]
    },
    {
      "cell_type": "code",
      "execution_count": null,
      "metadata": {
        "vscode": {
          "languageId": "plaintext"
        },
        "id": "yM0H47gJwUMQ"
      },
      "outputs": [],
      "source": []
    },
    {
      "cell_type": "markdown",
      "metadata": {
        "id": "VheTYqpVwUMR"
      },
      "source": [
        "## Anatomy of Monte-Carlo Model\n",
        "\n",
        "- Defined by randomness, usually a simulation (can't do experiment for some reason)\n",
        "- Define variables to represent inputs and outputs\n",
        "- Define a single trial (different answer each time b/c random)\n",
        "- Loop over many trial (law of large numbers)\n",
        "- Reprorting\n"
      ]
    },
    {
      "cell_type": "markdown",
      "metadata": {
        "id": "HDkrDixwwUMR"
      },
      "source": [
        "## Anatomy of Emperical Model\n",
        "\n",
        "- Input: data and equation to fit\n",
        "- Output: Fit parmeters\n",
        "- Deterministic (no randomness, same model and data leads to same fit parameters)\n",
        "- Report (usually plot model and data. Also report fit parameters with units)"
      ]
    },
    {
      "cell_type": "markdown",
      "metadata": {
        "id": "HjN0qd2swUMS"
      },
      "source": [
        "## Dynamic models (copied from your day's notebook)\n",
        "The fundamental idea behind dynamic models is:\n",
        "\n",
        "$$\\mathrm{future\\ value} = \\mathrm{value\\ now} + \\mathrm{its\\ change}$$\n",
        "\n",
        "Often a model includes *approximations* (or constraints). And often a model is used to make predictions which are compared to experimental measurements. When a model predicts experimental measurements, it gives us confidence that we understand the theory behind the model.\n",
        "\n",
        "The model oftens describes the rate of change in a value. In this case, the *change* in a value is its *rate of change* times a time interval.\n",
        "\n",
        "$$\\mathrm{change} = \\mathrm{(rate\\ of\\ change)*(time\\ interval)}$$\n",
        "\n",
        "Putting this together, we have\n",
        "\n",
        "$$\\mathrm{future\\ value} = \\mathrm{value\\ now} + \\mathrm{(rate\\ of\\ change)*(time\\ interval)}$$\n"
      ]
    },
    {
      "cell_type": "markdown",
      "metadata": {
        "id": "JtI4MujPwUMU"
      },
      "source": [
        "## Anatomy of Dynamic Model"
      ]
    },
    {
      "cell_type": "markdown",
      "metadata": {
        "id": "ecaAEycIwUMV"
      },
      "source": [
        "### Example\n",
        "Projectile motion\n",
        "\n",
        "$$\\vec{F}_{net} = m\\vec{a}$$\n",
        "$$m\\vec{a} = m\\vec{g}$$\n",
        "$$\\vec{a} = 9.8 m/s^2 \\text{down}$$\n",
        "\n",
        "Acceleration tells us how velocity is changing.\n",
        "\n",
        "Suppose a ball with initial velocity 9.8 m/s up, how fast is moving 1 second later?\n",
        "\n",
        "1. Define what is changing and hten the rate of changing.\n",
        "  - Want velocity at some later time\n",
        "  - rate of change of velocity = 9.8 m/s^2\n",
        "2. Define initial conditions\n",
        "  - At t = 0s, then v = 9.8 m/s\n",
        "3. Pick a timestep (usually a small number)\n",
        " - $\\Delta t = 0.1$ seconds"
      ]
    },
    {
      "cell_type": "code",
      "source": [
        "v = -2 # Initial velocity in m/s\n",
        "t = 0 # Initial time in seconds\n",
        "\n",
        "rate = -9.8 # rate of change m/s^2\n",
        "dt = 0.1 # timestep in s\n",
        "\n",
        "while t < 1:\n",
        "  change = rate * dt\n",
        "  v = v + change\n",
        "  t = t + dt\n",
        "  print(f\"At t = {t} s, v = {v} m/s\")\n",
        "\n"
      ],
      "metadata": {
        "id": "lpGYtxut4UsX",
        "outputId": "093020e0-a73e-4222-f4e8-46fcc48def7e",
        "colab": {
          "base_uri": "https://localhost:8080/"
        }
      },
      "execution_count": 2,
      "outputs": [
        {
          "output_type": "stream",
          "name": "stdout",
          "text": [
            "At t = 0.1 s, v = -2.98 m/s\n",
            "At t = 0.2 s, v = -3.96 m/s\n",
            "At t = 0.30000000000000004 s, v = -4.94 m/s\n",
            "At t = 0.4 s, v = -5.920000000000001 m/s\n",
            "At t = 0.5 s, v = -6.900000000000001 m/s\n",
            "At t = 0.6 s, v = -7.880000000000002 m/s\n",
            "At t = 0.7 s, v = -8.860000000000001 m/s\n",
            "At t = 0.7999999999999999 s, v = -9.840000000000002 m/s\n",
            "At t = 0.8999999999999999 s, v = -10.820000000000002 m/s\n",
            "At t = 0.9999999999999999 s, v = -11.800000000000002 m/s\n",
            "At t = 1.0999999999999999 s, v = -12.780000000000003 m/s\n"
          ]
        }
      ]
    },
    {
      "cell_type": "markdown",
      "metadata": {
        "id": "FF7MjeGKwUMV"
      },
      "source": [
        "\n"
      ]
    }
  ],
  "metadata": {
    "colab": {
      "provenance": []
    },
    "kernelspec": {
      "display_name": "Python 3",
      "name": "python3"
    },
    "language_info": {
      "name": "python"
    }
  },
  "nbformat": 4,
  "nbformat_minor": 0
}