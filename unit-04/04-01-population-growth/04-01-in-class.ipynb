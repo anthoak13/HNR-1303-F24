{
  "cells": [
    {
      "cell_type": "markdown",
      "metadata": {
        "id": "6OUnjAH9pYUx"
      },
      "source": [
        "## New groups\n",
        "\n",
        "Group Number | Names\n",
        "--- | ---\n",
        "1 | Ryan and Aliyah\n",
        "2 | Paul and Brandon\n",
        "3 | Lily and  Gray\n",
        "4 | Sterling and Heather\n",
        "5 | Dalila and Sara\n",
        "6 | Nora,  Izzy J., and Daniel  \n",
        "7 | Frank and  Jessie\n",
        "8 | Sawyer, Evan and Izzy W."
      ]
    },
    {
      "cell_type": "code",
      "execution_count": null,
      "metadata": {
        "vscode": {
          "languageId": "plaintext"
        }
      },
      "outputs": [],
      "source": []
    },
    {
      "cell_type": "markdown",
      "metadata": {},
      "source": []
    },
    {
      "cell_type": "markdown",
      "metadata": {},
      "source": [
        "## Anatomy of Monte-Carlo Model\n",
        "\n",
        "- \n",
        "- \n"
      ]
    },
    {
      "cell_type": "markdown",
      "metadata": {},
      "source": [
        "## Anatomy of Emperical Model\n",
        "\n",
        "- \n",
        "- "
      ]
    },
    {
      "cell_type": "markdown",
      "metadata": {},
      "source": [
        "## Dynamic models (copied from your day's notebook)\n",
        "The fundamental idea behind dynamic models is:\n",
        "\n",
        "$$\\mathrm{future\\ value} = \\mathrm{value\\ now} + \\mathrm{its\\ change}$$\n",
        "\n",
        "Often a model includes *approximations* (or constraints). And often a model is used to make predictions which are compared to experimental measurements. When a model predicts experimental measurements, it gives us confidence that we understand the theory behind the model.\n",
        "\n",
        "The model oftens describes the rate of change in a value. In this case, the *change* in a value is its *rate of change* times a time interval.\n",
        "\n",
        "$$\\mathrm{change} = \\mathrm{(rate\\ of\\ change)*(time\\ interval)}$$\n",
        "\n",
        "Putting this together, we have\n",
        "\n",
        "$$\\mathrm{future\\ value} = \\mathrm{value\\ now} + \\mathrm{(rate\\ of\\ change)*(time\\ interval)}$$\n"
      ]
    },
    {
      "cell_type": "markdown",
      "metadata": {},
      "source": [
        "## Anatomy of Dynamic Model"
      ]
    },
    {
      "cell_type": "markdown",
      "metadata": {},
      "source": [
        "### Example\n",
        "Projectile motion"
      ]
    },
    {
      "cell_type": "markdown",
      "metadata": {},
      "source": []
    }
  ],
  "metadata": {
    "colab": {
      "authorship_tag": "ABX9TyNUIHG2t1mZHGrlZO2roSZs",
      "provenance": []
    },
    "kernelspec": {
      "display_name": "Python 3",
      "name": "python3"
    },
    "language_info": {
      "name": "python"
    }
  },
  "nbformat": 4,
  "nbformat_minor": 0
}
