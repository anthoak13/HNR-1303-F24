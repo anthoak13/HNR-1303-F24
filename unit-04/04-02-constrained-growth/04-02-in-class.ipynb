{
  "cells": [
    {
      "cell_type": "markdown",
      "metadata": {
        "id": "6OUnjAH9pYUx"
      },
      "source": [
        "## New groups\n",
        "\n",
        "Group Number | Names\n",
        "--- | ---\n",
        "1 | Ryan and Aliyah\n",
        "2 | Paul and Brandon\n",
        "3 | Lily and  Gray\n",
        "4 | Sterling and Heather\n",
        "5 | Dalila and Sara\n",
        "6 | Nora,  Izzy J., and Daniel  \n",
        "7 | Frank and  Jessie\n",
        "8 | Sawyer, Evan and Izzy W."
      ]
    },
    {
      "cell_type": "markdown",
      "metadata": {
        "id": "VheTYqpVwUMR"
      },
      "source": [
        "### From 02-03: Anatomy of a Monte Carlo program\n",
        "\n",
        "- Define inputs to the model (in the form of variables)\n",
        "- Define the outputs of the model (in the form of variables)\n",
        "- How do run a single trial? (could be single random number for dice throw, or $(x,y)$ position for dart throw, or a random walk for a single mosquito). The single trial is usually where the randomization is.\n",
        "- Run many trials in a loop (enough that the Law of Large numbers takes hold so the results are interpretable)\n",
        "- For each trial, evaluate the results and save results in our outputs.\n",
        "- After running all trials calculate the output we are intrested in studying if needed (this might be percentage or the profit in some fundraiser)\n",
        "- Report (print results or graph)\n"
      ]
    },
    {
      "cell_type": "markdown",
      "metadata": {
        "id": "JtI4MujPwUMU"
      },
      "source": [
        "## Anatomy of Dynamic Model\n",
        "\n",
        "- Define inputs (initial values and rate of change)\n",
        "  - rate of change is the model.\n",
        "- Define any constants in the model\n",
        "- If we want to graph, need to create empty lists to store time and value of interest.\n",
        "- Use a loop to run time\n",
        "  - Find the change in initial value over timestep (`rate * dt`)\n",
        "  - If we want to graph, record current value\n",
        "- Report\n",
        "  - Graph or output value at final time"
      ]
    },
    {
      "cell_type": "markdown",
      "metadata": {
        "id": "HjN0qd2swUMS"
      },
      "source": [
        "### Dynamic models (copied from your yesterday's notebook)\n",
        "The fundamental idea behind dynamic models is:\n",
        "\n",
        "$$\\mathrm{future\\ value} = \\mathrm{value\\ now} + \\mathrm{its\\ change}$$\n",
        "\n",
        "Often a model includes *approximations* (or constraints). And often a model is used to make predictions which are compared to experimental measurements. When a model predicts experimental measurements, it gives us confidence that we understand the theory behind the model.\n",
        "\n",
        "The model oftens describes the rate of change in a value. In this case, the *change* in a value is its *rate of change* times a time interval.\n",
        "\n",
        "$$\\mathrm{change} = \\mathrm{(rate\\ of\\ change)*(time\\ interval)}$$\n",
        "\n",
        "Putting this together, we have\n",
        "\n",
        "$$\\mathrm{future\\ value} = \\mathrm{value\\ now} + \\mathrm{(rate\\ of\\ change)*(time\\ interval)}$$\n"
      ]
    },
    {
      "cell_type": "markdown",
      "metadata": {
        "id": "rMDf916_D6oo"
      },
      "source": [
        "## Modifying a model: Constrained growth\n",
        "\n",
        "Population growth:\n",
        "\n",
        "Rate of change = rate of births + rate of deaths\n",
        "\n",
        "\n",
        "$$\\dot{P} = \\text{birth} + \\text{death}$$\n",
        "\n",
        "rate of birth $rP$.\n",
        "\n",
        "Rate of death might depend on:\n",
        "- Could be $-rP$, depends on population and $r$\n",
        "- Could depend on birth rate $t_{life span}$ years ago. $rP(t-t_{lifespan})$\n",
        "- External resources (carrying capacity idea)\n",
        "  - Assume maximum population is $M$\n",
        "  - What is the rate of change when $P << M$ => $\\dot{P} = rP$\n",
        "  - What is the rate of change when $P=M$ => $\\dot{P} = 0$\n",
        "  - What is the rate of change when $P >> M$ => $\\dot{P} ∝ -rP$\n",
        "\n",
        "  Find $\\dot{P}$ such that all of these are true.\n",
        "\n",
        "$$\\dot{P} = rP -  rP\\frac{P}{M}$$"
      ]
    }
  ],
  "metadata": {
    "colab": {
      "provenance": []
    },
    "kernelspec": {
      "display_name": "Python 3",
      "name": "python3"
    },
    "language_info": {
      "name": "python"
    }
  },
  "nbformat": 4,
  "nbformat_minor": 0
}