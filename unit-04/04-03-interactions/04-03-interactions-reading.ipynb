{
  "nbformat": 4,
  "nbformat_minor": 0,
  "metadata": {
    "colab": {
      "provenance": [],
      "authorship_tag": "ABX9TyN4q7YB/wiaJ28BdZpxLcTN"
    },
    "kernelspec": {
      "name": "python3",
      "display_name": "Python 3"
    },
    "language_info": {
      "name": "python"
    }
  },
  "cells": [
    {
      "cell_type": "markdown",
      "source": [
        "# Dynamic Models and Interactions\n",
        "\n",
        "As the name would imply, dynamic models study how a system developes over time. We've seen one major example of a dynamic model so far, the [epidemic model](https://www.youtube.com/watch?v=gxAaO2rsdIs) we examined the first week of class.\n",
        "\n",
        "**Dynamic systems**, which change over time are usually incredibly complex. Think about all of the individual interactions happening in the Sanderson's epidemic model (and that was with a small population!). The complexity makes it incredibly difficult to write down closed expressions for how the model will develop over time; however, often we can describe the *average* interactions between participants in the model.\n",
        "\n",
        "In a dynamic model, our goal is to come up with an expression for how things are *changing* over time. For example, if we are studying the dynamics of a population, we want to know how quickly the population is growing or shrinking at any moment. Instead of saying \"the rate of change of the population\" repeatedly, we simplify this by writing $\\dot{P}$, where $\\dot{}$ means \"rate of change'\"and $P$ represents the population. So, $\\dot{P}$ is read as \"the rate of change of the population.\" This gives us a concise way to talk about changes in the population over time.\n",
        "\n",
        "## Unconstrained growth\n",
        "\n",
        "The simplest case of a dynamic model is **unconstrained growth** this is also known as **exponential growth**. In this case, there is only a single interaction of the population with itself (birth). If we think about what the functional form of this interaction should be we can start to tease out what it should look like.\n",
        "\n",
        "- Births cause the population to increase, so it should be a positive number\n",
        "- The number of births should depend on the population. The more individuals in the group, the greater chance for there to be births.\n",
        "- There must be some parameter that accounts for how often individuals reproduce (on average)\n",
        "\n",
        "One possible model that meets all those criteria is\n",
        "\n",
        "$$\\dot{P} = +r_bP$$\n",
        "\n",
        "**How does this model correspond to the three requirements listed above?**"
      ],
      "metadata": {
        "id": "CZBXBqjSZN5A"
      }
    },
    {
      "cell_type": "markdown",
      "source": [
        "\n",
        "## Adding interactions\n",
        "\n",
        "One of the powerful tools of dynamic models is it is easy to add additional interactions. This section will describe a few different ways we can model other interactions with the environment or other populations.\n",
        "\n",
        "### Interactions with the environment\n",
        "\n",
        "In our previous example, our model was composed of a single interaction of the population with itself (reproduction). In any real-world population, it will not be able to grow forever. Eventually, the individuals in the population will have to start to compete for resources (space, food, water, etc.). We can think of this as an *interaction with the environment*.\n",
        "\n",
        "A common way to model this to introduce a **carrying capacity** or the maximum number of individuals the environment can sustain indefinitely. Let's call the carrying capacity of the model, $M$. We can now think about what the requirements of our model are.\n",
        "\n",
        "- When the population is small compared to the carrying capacity, the model should look like unconstrained growth (there is not competition yet)\n",
        "- When the population is at the carrying capacity, the population should be constant\n",
        "- When the population is larger than the carrying capacity, the population should be decreasing.\n",
        "\n",
        "One possible model that meets all of these requirements is\n",
        "\n",
        "$$\\dot{P} = +rP - r\\frac{P}{M}P$$\n",
        "\n",
        "**How does this model correspond to the three requirements listed above? Can you demonstrate that it meets all three criteria?**\n",
        "\n",
        "### Interactions with an external factor\n",
        "\n",
        "Let's look at another example of how we can modify the model. Suppose now we are modeling the population of deer ($P_d$) on an isolated lake. The carrying capacity of the island is $M_d$ and they have a growth rate of $r_d$. To help control the population, the government allows recreational hunting of the deer. We would like to model the population with this new interaction. Let's think about how we can model the impact of humans.\n",
        "\n",
        "Hunting is a stochastic (random) process, meaning that each hunting event involves some probability of encountering a deer and some probability of successfully removing it from the population. This randomness makes the outcome of each hunting attempt unpredictable, but we can model the average behavior using probabilities.\"\n",
        "\n",
        "Each time someone goes hunting, there is some probability they will encounter a deer. That probability should be related to how many deer are on the island. If there are twice as many deer, the change of encountering one is twice as high.\n",
        "\n",
        "Each time someone encounters a deer, there is some probability they successfully remove the deer from the population (i.e. kill it). On average, this should be a constant percentage (it would depend on things that are not changing over time like the skill of the hunter).\n",
        "\n",
        "We can model this interaction as a third term to our model. Let's assume the chance that you encounter any given deer is $r_{enc}$. In other words, if there was only one deer on the island, the chance you would find it is $r_{enc}$. The chance that you would find a deer if there were 10 deer on the island is then $10r_{enc}$. Generalizing this, we can say **the probability of encountering a deer is $r_{enc}P_d$**.\n",
        "\n",
        "Suppose we only are successful 50% of the time. We can define a probability for removing the deer after we have encounted it $r_{hunt}=0.5$.\n",
        "\n",
        "Our new interaction term would then be\n",
        "\n",
        "$$-r_{enc}r_{hunt}P_d = -r_hP_d$$\n",
        "since both $r_{enc}$ and $r_{hunt}$ are constants that describe the interaction between hunters and deer, we can combine them into a single constant, $r$, to keep the model concise and easier to work with. Our overall model with all three interactions is then\n",
        "\n",
        "$$\\dot{P_d} = r_dP_d - r_d\\frac{P}{M}P_d - r_hP_d$$\n",
        "\n",
        "### Interactions with another population\n",
        "\n",
        "Let's go one step further and introduce a new animal onto our island, coyotes. Coyotes are a [natural predator of white-tail deer](https://www.pgc.pa.gov/Wildlife/WildlifeSpecies/White-tailedDeer/Pages/PredationDeerPopulation.aspx) along, I suppose, with the humans we are letting on the island.\n",
        "\n",
        "Unlike the hunting example above, the number of predators will change over time unlike our goverment mandated hunting limits. That means we now have 2 populations we need to model. Deer ($P_d$) and coyotes ($P_c$). Let's start by just considering the impact of the coyote population on the deer.\n",
        "\n",
        "Like our hunting example, the chance a coyote manages to catch and eat a deer is a stochastic (random) process. Let's define some probabilities that reflect this. Let's call the probability any individual coyote encounters any individual deer $r_{enc}$. If there are $P_d$ deer, the probability any individual coyote encounters *any* deer is $r_{enc}P_d$. Likewise, if there are $P_c$ coyotes, the probability that *any* coyote encounters *any* deer is then $r_{enc}P_dP_c$.\n",
        "\n",
        "Just like the hunting example, there is also some probability (we will call $r_{kill}$) that the coyote successfully eats the deer it finds. Let's say that happens 1% of the time, then $r_{kill} = 0.01$.\n",
        "\n",
        "Putting it all together, our new interaction term for coyote predation on deer would be\n",
        "\n",
        "$$ -r_{enc}r_{kill}P_dP_c = -r_{dc}P_dP_c$$\n",
        "since both $r_{enc}$ and $r_{kill}$ are constants that describe the interaction between hunters and deer, we can combine them into a single constant, $r_{dc}$, to keep the model concise and easier to work with. Our overall model with all three interactions is then\n",
        "\n",
        "$$\\dot{P_d} = r_dP_d - r_d\\frac{P_d}{M_d}P_d - r_hP_d  - r_{dc}P_dP_c$$\n",
        "\n",
        "This is starting to get ugly. Let's summarize all of the interation terms in our model.\n",
        "\n",
        "|Term|Description|Interaction Type|\n",
        "|---|---|---|\n",
        "| $r_dP_d$ | Natural growth of the deer population, proportional to current population size | Reproduction |\n",
        "| $-r_d \\frac{P_d}{M_d} P_d$ | Reduction in deer population due to environmental limitations (carrying capacity) | Environmental constraint |\n",
        "| $-r_h P_d$ | Reduction in deer population due to human hunting | External factor (hunting) |\n",
        "| $-r_{dc} P_d P_c$ | Reduction in deer population due to coyote predation | Predation (coyote on deer) |\n",
        "\n",
        "**What to all of the model parameters correspond to? Given our discussion, what would reasonable values be for these parameters (make assumptions for the individual probabilities discussed, and then calcualte the sumamry parmaters $r, r_{dc}$, etc.)?**\n",
        "\n",
        "We need to write down a model for the coyote population as well. Let's take as our model for the population of the coyotes the following\n",
        "\n",
        "$$ \\dot{P}_c = r_{c,birth}P_dP_c - r_{c,death}P_c$$\n",
        "\n",
        "**What would each term in this model correspond to in the context of our problem? Fill in the table below**\n",
        "\n",
        "|  Term  |Description|Interaction Type|\n",
        "|---|---|---|\n",
        "| $r_{c,birth}P_d P_c$ |  | Predator-prey interaction |\n",
        "| $-r_{c,death}P_c$ | | Natural death rate |\n"
      ],
      "metadata": {
        "id": "CwtoKCZZk3ZA"
      }
    },
    {
      "cell_type": "code",
      "execution_count": null,
      "metadata": {
        "id": "ctuO-gIvZKb3"
      },
      "outputs": [],
      "source": []
    }
  ]
}