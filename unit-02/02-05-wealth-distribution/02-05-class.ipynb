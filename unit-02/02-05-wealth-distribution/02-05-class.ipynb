{
  "nbformat": 4,
  "nbformat_minor": 0,
  "metadata": {
    "colab": {
      "provenance": [],
      "authorship_tag": "ABX9TyP+xeGT4J+jFGgeZ4uxWmav"
    },
    "kernelspec": {
      "name": "python3",
      "display_name": "Python 3"
    },
    "language_info": {
      "name": "python"
    }
  },
  "cells": [
    {
      "cell_type": "markdown",
      "source": [
        "# Administration\n",
        "\n",
        "- Unit 2 Assesment\n",
        "  - Today is final day of new material\n",
        "  - Wed will be review day\n",
        "  - Group portion of exam will be availible from Friday morning at 8 am.\n",
        "  - Group portion is due at start of class Monday 9/16, one notebook will be handed in per group and it will be scored as a group.\n",
        "  - Individual portion will be availible from the start of class Monday 9/16 and will be due 11:59 pm on Tuesday 9/17.\n",
        "\n",
        "# Agent based models\n",
        "\n",
        "Agent\n",
        "- State (some memory or knowledge about what has happened to them before)\n",
        "- Have defined interactions (they can interact with either the enviroment or each other)\n",
        "\n",
        "\n",
        "## Examples\n",
        "\n"
      ],
      "metadata": {
        "id": "ffn9S56d9h35"
      }
    },
    {
      "cell_type": "code",
      "source": [],
      "metadata": {
        "id": "s4T1Z6wL_bZu"
      },
      "execution_count": null,
      "outputs": []
    }
  ]
}