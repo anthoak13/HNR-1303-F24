{
  "cells": [
    {
      "cell_type": "markdown",
      "metadata": {
        "id": "8IaoN-Nbeh23"
      },
      "source": [
        "Run the cell below if you need to install the `mplEasyAnimate` package. The [mplEasyAnimate](https://github.com/tboudreaux/mpl_animate) package was created by HPU alumnus Emily Boudreaux."
      ]
    },
    {
      "cell_type": "code",
      "execution_count": null,
      "metadata": {
        "id": "5izBDCDfeh24"
      },
      "outputs": [],
      "source": [
        "!pip install mplEasyAnimate"
      ]
    },
    {
      "cell_type": "markdown",
      "metadata": {
        "id": "6qhy08p0eh25"
      },
      "source": [
        "Import packages"
      ]
    },
    {
      "cell_type": "code",
      "execution_count": 3,
      "metadata": {
        "id": "aqt430Y6eh26"
      },
      "outputs": [],
      "source": [
        "import numpy as np\n",
        "import matplotlib.pyplot as plt\n",
        "import random as rand\n",
        "\n",
        "## the packages below are used to create an animation as a mp4 file and display it in the notebook\n",
        "from IPython.display import HTML\n",
        "from mplEasyAnimate import animation\n",
        "from tqdm import tqdm\n",
        "from base64 import b64encode"
      ]
    },
    {
      "cell_type": "markdown",
      "metadata": {
        "id": "UG2KrgOTeh26"
      },
      "source": [
        "# Agent-based Model of Wealth Distribution\n",
        "\n",
        "We previously defined a Monte Carlo model as a description of a system based on a set of rules and random processes. In this model, we will create and study a very simple economic system that consists of 100 *agents* (i.e. persons) who initially have 10,000 dollars each. Two agents, chosen at random, conduct a transaction. They flip a coin, and the winner receives an amount of money equal to 10% of the poorer person's money. Therefore, each agent can only win or lose 10% of the poorer person's wealth.\n",
        "\n",
        "After a long time, what does the wealth distribution look like? Will nearly everyone have close to 10,000 dollars, maybe a little more or a little less depending on their luck? Or will only a few luck individuals get nearly all of the money?"
      ]
    },
    {
      "cell_type": "markdown",
      "metadata": {
        "id": "UKuGdbAZeh27"
      },
      "source": [
        "## Functions\n",
        "\n",
        "- The `transact()` function below calculates the money gained or lost by two agents in an interaction (i.e. a single transaction).\n",
        "- The `runTransactions()` function runs `Ntrans` number of transactions by creating a loop and calling `transact()` for each transaction.\n",
        "- The `animTransactions()` function creates an animation. Do not create an animation for a large number of transactions because it will take a long time to create the video."
      ]
    },
    {
      "cell_type": "code",
      "execution_count": 15,
      "metadata": {
        "id": "2Cy6kbAjeh27"
      },
      "outputs": [],
      "source": [
        "def transact(N):\n",
        "    #N is the number of agents\n",
        "    global wealth #this is a list that contains the wealth of all N agents\n",
        "\n",
        "    # pick two agents\n",
        "    agent1 = rand.randint(0,N-1)\n",
        "    agent2 = rand.randint(0,N-1)\n",
        "\n",
        "    #if agent2 is same as agent1, pick again\n",
        "    while agent2 == agent1:\n",
        "        agent2 = rand.randint(0,N-1)\n",
        "\n",
        "    w1 = wealth[agent1]\n",
        "    w2 = wealth[agent2]\n",
        "\n",
        "    if w1 < w2: #determine the amount of the transaction, dw\n",
        "        dw = p*w1\n",
        "    else:\n",
        "        dw = p*w2\n",
        "\n",
        "    #randomly pick agent to win or lose and adjust wealth\n",
        "    luckyagent = rand.randint(1,2)\n",
        "    if luckyagent==1:\n",
        "        wealth[agent1] =  wealth[agent1] + dw\n",
        "        wealth[agent2] =  wealth[agent2] - dw\n",
        "    else:\n",
        "        wealth[agent1] =  wealth[agent1] - dw\n",
        "        wealth[agent2] =  wealth[agent2] + dw\n",
        "\n",
        "def runTransactions(Ntrans, Nagents):\n",
        "    for i in range(Ntrans):\n",
        "        transact(Nagents)\n",
        "\n",
        "\n",
        "    fig = plt.figure(figsize=(10,8))\n",
        "    plt.title(\"Wealth of Agents\")\n",
        "    plt.xlabel(\"Agent\")\n",
        "    plt.ylabel(\"Wealth\")\n",
        "    plt.bar(np.arange(1,Nagents+1), wealth, 0.5)\n",
        "    plt.show()\n",
        "\n",
        "def animTransactions(filename, Ntrans, Nagents):\n",
        "\n",
        "    with animation(filename, dpi=30) as anim:\n",
        "        t_offsets = np.arange(Ntrans+1)\n",
        "        i=0\n",
        "        for offset in tqdm(t_offsets):\n",
        "\n",
        "            #iterate the automata\n",
        "            if i>0:\n",
        "                transact(Nagents)\n",
        "\n",
        "            fig = plt.figure(figsize=(10,8))\n",
        "            plt.title(\"Wealth of Agents\")\n",
        "            plt.xlabel(\"Agent\")\n",
        "            plt.ylabel(\"Wealth\")\n",
        "            plt.bar(np.arange(1,Nagents+1), wealth, 0.5)\n",
        "            anim.add_frame(fig)\n",
        "            plt.close(fig)\n",
        "            i=i+1"
      ]
    },
    {
      "cell_type": "markdown",
      "metadata": {
        "id": "X5SakD9Deh28"
      },
      "source": [
        "## The Model\n",
        "\n",
        "Define the number of agents, the initial amount of money each agent has, the percentage of the poorer person's wealth exchanged, and the total number of transactions.\n",
        "\n",
        "At first use a small number of transactions so you can verify the model works. In the program below `Ntransactions` is set to 1. After running it, try 2, 4, 10, and 100 transactions."
      ]
    },
    {
      "cell_type": "code",
      "execution_count": null,
      "metadata": {
        "id": "d6obgG1Seh28"
      },
      "outputs": [],
      "source": [
        "Nagents = 100 #number of agents\n",
        "M0 = 10000 #initial amount of money for each agent\n",
        "p = 0.1 #percentage of poorer agent's wealth that is exchanged\n",
        "Ntransactions = 1 #total number of transactions\n",
        "\n",
        "\n",
        "#an array that stores the wealth of each agent\n",
        "wealth = M0*np.ones(Nagents)\n",
        "\n",
        "#run the model\n",
        "runTransactions(Ntransactions, Nagents)"
      ]
    },
    {
      "cell_type": "markdown",
      "metadata": {
        "id": "n_JLj3Gjeh29"
      },
      "source": [
        "## Animation\n",
        "\n",
        "The program below creates an animation. Do not run this for a very large number of transactions because it will take a long time to create the video."
      ]
    },
    {
      "cell_type": "code",
      "execution_count": null,
      "metadata": {
        "id": "xR2aDJY6eh2-"
      },
      "outputs": [],
      "source": [
        "Nagents = 100 #number of agents\n",
        "M0 = 10000 #initial amount of money for each agent\n",
        "p = 0.1 #percentage of poorer agent's wealth that is exchanged\n",
        "Ntransactions = 100 #total number of transactions\n",
        "\n",
        "\n",
        "#an array that stores the wealth of each agent\n",
        "wealth = M0*np.ones(Nagents)\n",
        "\n",
        "filename = 'wealth-evolution.mp4'\n",
        "animTransactions(filename, Ntransactions, Nagents)\n",
        "\n",
        "#display animation\n",
        "mp4 = open(filename,'rb').read()\n",
        "data_url = \"data:video/mp4;base64,\" + b64encode(mp4).decode()\n",
        "HTML(\"\"\"\n",
        "<video width=400 controls>\n",
        "      <source src=\"%s\" type=\"video/mp4\">\n",
        "</video>\n",
        "\"\"\" % data_url)"
      ]
    },
    {
      "cell_type": "markdown",
      "metadata": {
        "id": "XHk1ADI2eh3B"
      },
      "source": [
        "# Exercise 1\n",
        "\n",
        "1. Copy and paste the program for the model below.\n",
        "2. Start with 100 transactions. Then run your model with 1000 transactions and observe the result. Then run it with 10000 and 100000 transactions.\n",
        "\n",
        "What is the outcome for a large number of transactions?\n",
        "\n",
        "How many transactions are needed for one agent to have all the wealth? (**Note: the simulation takes approximately a minute to run for ten million transactions, so you probably should not exceed ten million transactions.**)"
      ]
    },
    {
      "cell_type": "code",
      "execution_count": 28,
      "metadata": {
        "id": "UNSAalzveh3B"
      },
      "outputs": [],
      "source": []
    },
    {
      "cell_type": "markdown",
      "metadata": {
        "id": "dFmhQEZHeh3B"
      },
      "source": [
        "# Exercise 2\n",
        "\n",
        "1. What is a research question we can investigate with our model? \n",
        "2. Write in words how we would have to modify the program to investigate this question. It helps to think of what you would tell a programmer what to do, such as \"After a transaction, the wealthier agent pays a tax that is given to the poorest of all the agents,\" for example."
      ]
    },
    {
      "cell_type": "markdown",
      "metadata": {
        "id": "pXywcV_Deh3C"
      },
      "source": [
        "# Exercise 3\n",
        "\n",
        "Investigate your research question. Ask Dr. Anthony for help with code if it requires additional knowledge to implement. Compare your results to the results of the earlier model and write a summary that describes what you investigated and what you found."
      ]
    },
    {
      "cell_type": "code",
      "execution_count": null,
      "metadata": {
        "id": "ccidHdPreh3C"
      },
      "outputs": [],
      "source": []
    }
  ],
  "metadata": {
    "colab": {
      "provenance": []
    },
    "kernelspec": {
      "display_name": "Python 3",
      "language": "python",
      "name": "python3"
    },
    "language_info": {
      "codemirror_mode": {
        "name": "ipython",
        "version": 3
      },
      "file_extension": ".py",
      "mimetype": "text/x-python",
      "name": "python",
      "nbconvert_exporter": "python",
      "pygments_lexer": "ipython3",
      "version": "3.10.6"
    }
  },
  "nbformat": 4,
  "nbformat_minor": 0
}
