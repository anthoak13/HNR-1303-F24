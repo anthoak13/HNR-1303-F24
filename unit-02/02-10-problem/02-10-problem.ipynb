{
 "cells": [
  {
   "cell_type": "markdown",
   "metadata": {},
   "source": [
    "# Unit 2 Assessment - Monte Carlo Simulations\n",
    "\n",
    "## Instructions\n",
    "\n",
    "In this assessment, you are going to investigate models that use random numbers. \n",
    "\n",
    "Scores are determined by:\n",
    "\n",
    "- Successfully starting the C Level = 50 pts\n",
    "- Perfectly completing the C Level = 75 pts\n",
    "- Perfectly completing the B and C Levels = 85 pts\n",
    "- Perfectly completing the A, B, and C Levels = 100 pts\n",
    "\n",
    "You may ask me for help **once**; however, you may ask for clarification as often as needed.\n",
    "\n",
    "Add additional cells for both code and markdown as needed. **Write answers to questions in narrative form in markdown.** You may print values you need in your code, and then use these values in a written response.\n",
    "\n",
    "All graphs should have correct titles and axis labels (with units).\n",
    "\n",
    "### **Using resources**\n",
    "\n",
    "You may use your Colab notebooks from class, any other notebook or reading I have given you, and any links to web sites I have provided. Basically, if it is linked on Blackboard then you can use it.\n",
    "\n",
    "You may not use any other person, website, book, or resource. This includes the AI features in Google Colab or any other generative AI tool (ChatGPT, etc.) You are responsible for using only approved resources. If you're unsure whether something is allowed, please ask me before using it.\n",
    "\n",
    "You can disable the Gemini AI assistance by going to settings and unchecking `Consented to use generative AI features` and checking `Hide generative AI features.` as seen below.\n",
    "\n",
    "\n",
    "### **Citing Sources**\n",
    "\n",
    "Citing sources isn't just about copying and pasting code—it's about giving credit whenever you use ideas, inspiration, or guidance from another source, even if you don't copy directly. Here's how to handle it:\n",
    "\n",
    "- **When to Cite**:\n",
    "  - If you refer to a **specific code example** from class materials, notebooks, or a reading.\n",
    "    - Example: \"I used the loop structure from the `02-01-random` notebook, exercise 1.\"\n",
    "  - When you use an **idea** or approach that you didn't come up with on your own, even if you modify it.\n",
    "    - Example: \"The way I calculated the probability of finding the area of a circle was based on the pre-class notebook for Day 3.\"\n",
    "  - **Even if you don't copy-paste** code, if something influenced your thinking or the way you structured your solution, it should be cited.\n",
    "  \n",
    "- **What doesn't need citation**:\n",
    "  - Basic ideas that come entirely from your own brain.\n",
    "  - Simple language constructs like loops, if-statements, or variables, unless they come directly from an example you're referencing.\n",
    "\n",
    "- **Key points**\n",
    "  - It's always better to cite than to leave something out. You won't lose points for over-citing and I will give you feedback on what citations are required or not.\n",
    "  - Don't just cite when you copy code—cite when ideas or problem-solving approaches come from an outside source.\n",
    "\n",
    "- **Examples of Correct Citations**:\n",
    "  - **Copied/Modified Code**: \"We used the code from the `randomwalk1D` function in the `02-03-random-walk` notebook to help structure our loop.\"\n",
    "  - **Concept or Inspiration**: \"We based our approach for determining the circle a dart landed in on the exmaple we did in class estimating $\\pi$. \"\n",
    "\n",
    "## Grade\n",
    "\n",
    "<font color=\"green\"></font>\n",
    "\n",
    "Level | Grade | Comment\n",
    "--- | --- | ---\n",
    "C (75 pts) | | \n",
    "B (10 pts) | | \n",
    "A (15 pts) | | \n",
    "Total | \n"
   ]
  },
  {
   "cell_type": "markdown",
   "metadata": {},
   "source": [
    "# Level C\n",
    "\n",
    "## Exercise 0\n",
    "\n",
    "1. Save a copy of this notebook to Google Drive. Have you already shared your Google Colabortory folder with \"hpuphysicsdepartment@gmail.com\"? If not, then be sure to share your folder.\n",
    "\n",
    "2. Add a text cell above and type your name as a level one heading in markdown. (A level one heading starts with # on its own line.)\n",
    "\n",
    "3. Run the `import` statements below to add packages."
   ]
  },
  {
   "cell_type": "code",
   "execution_count": 1,
   "metadata": {},
   "outputs": [],
   "source": [
    "import numpy as np\n",
    "import matplotlib.pyplot as plt\n",
    "from matplotlib import colors\n",
    "from matplotlib.ticker import MaxNLocator\n",
    "import random as rand"
   ]
  },
  {
   "cell_type": "markdown",
   "metadata": {},
   "source": [
    "## Exercise 1\n",
    "\n",
    "Print a random number (float) in the interval $[0,1)$."
   ]
  },
  {
   "cell_type": "code",
   "execution_count": null,
   "metadata": {},
   "outputs": [],
   "source": []
  },
  {
   "cell_type": "markdown",
   "metadata": {},
   "source": [
    "## Exercise 2\n",
    "\n",
    "Print a random number (float) in the interval $[1,6]$."
   ]
  },
  {
   "cell_type": "code",
   "execution_count": null,
   "metadata": {},
   "outputs": [],
   "source": []
  },
  {
   "cell_type": "markdown",
   "metadata": {},
   "source": [
    "## Exercise 3\n",
    "\n",
    "Print a random integer in the interval $[1,6]$. "
   ]
  },
  {
   "cell_type": "code",
   "execution_count": null,
   "metadata": {},
   "outputs": [],
   "source": []
  },
  {
   "cell_type": "markdown",
   "metadata": {},
   "source": [
    "## Exercise 4\n",
    "What is the relationship between randomness and Monte Carlo simulations? How can we get a meaningful answer to a question from a random process?"
   ]
  },
  {
   "cell_type": "markdown",
   "metadata": {},
   "source": [
    "## Exercise 5\n",
    "\n",
    "So far we have mostly considered 6-sided dice. Suppose instead you have a fair four sided die so you have an equal probability of getting a 1, 2, 3, or 4 whenever you roll the die. How would such a die be shaped? You do not have to give me the formal name, just describe it.\n"
   ]
  },
  {
   "cell_type": "markdown",
   "metadata": {},
   "source": [
    "## Exercise 6\n",
    "\n",
    "Write a brief program to roll a four sided die 100 times and count the number of times you roll a three. How many times do you roll a three?"
   ]
  },
  {
   "cell_type": "code",
   "execution_count": null,
   "metadata": {},
   "outputs": [],
   "source": []
  },
  {
   "cell_type": "markdown",
   "metadata": {},
   "source": [
    "## Exercise 7\n",
    "\n",
    "Copy your code from Exercise 6 and modify it to calculate the probability of rolling a three. What is the probability of rolling a three according to your model?"
   ]
  },
  {
   "cell_type": "code",
   "execution_count": null,
   "metadata": {},
   "outputs": [],
   "source": []
  },
  {
   "cell_type": "markdown",
   "metadata": {},
   "source": [
    "## Exercise 8\n",
    "\n",
    "Consider your model from exercise 7. **What change would you need to make to the model to increase the accuracy of your estimation?** Copy your code below and make whatever modifications are necessary to the model to increase the accuracy of your estimation for the probability of rolling a three and then **compare your new estimate to the true probability of rolling a three**."
   ]
  },
  {
   "cell_type": "code",
   "execution_count": null,
   "metadata": {},
   "outputs": [],
   "source": []
  },
  {
   "cell_type": "markdown",
   "metadata": {},
   "source": [
    "---\n",
    "# Level B"
   ]
  },
  {
   "cell_type": "markdown",
   "metadata": {},
   "source": [
    "\n",
    "[Brownian motion](https://en.wikipedia.org/wiki/Brownian_motion) was first described by the botanist Robert Brown in the 1820s. He observed that a piece of pollon sitting in some water would \"jitter\" around in a seamingly random way. Almost all small particles  in a liquid (think molecules and enzymes in cells) exibit similar behavior. There are some good visualizations of the process in the linked Wikipedia page. The physics of this process was described by Albert Einstein in 1905 in one of his first major scientific contributions. Einstein proposed that the motion of the pollen observed was due to many collisions with individual water molecules.\n",
    "\n",
    "Obviously we cannot simulate individual water at any large scale (in a teaspoon of water there are more than $10^{23}$ water molecules!). But we can still model the motion as a random walk. \n",
    "\n",
    "## The model\n",
    "In our model, we will track the 2D position of the piece of pollen observed by Robert Brown. At the start of the walk, the pollen is located at the origin $(x,y) = (0,0)$. At each timestep, the pollen will move in a random direction by 1 mm. We will run the model for 10 stages (that is, 10 timesteps) and record the final position of the pollen.\n",
    "\n",
    "I have written most of the model for you below. Run the code. The output is a plot showing where each piece of pollen ended up at the end of the 10 stages. Look at the output and make sure you understand what it is showing. Then read over the code and answer the questions below."
   ]
  },
  {
   "cell_type": "code",
   "execution_count": 3,
   "metadata": {},
   "outputs": [
    {
     "data": {
      "image/png": "[encoded data removed]",
      "text/plain": [
       "<Figure size 640x480 with 1 Axes>"
      ]
     },
     "metadata": {},
     "output_type": "display_data"
    }
   ],
   "source": [
    "NPollen = 100 #Number of pieces of pollen to simulate \n",
    "L = 1 # Distance of a step in mm\n",
    "NStages = 10 # Number times the particle moves\n",
    "\n",
    "final_pos_x = [] # Final x position of the pollen\n",
    "final_pos_y = [] # Final y position of the pollen\n",
    "\n",
    "# Define a function that simulated a random walk in 2D\n",
    "# returns the final position of the particle\n",
    "def randomWalk2D():\n",
    "    global NStages\n",
    "    x = 0\n",
    "    y = 0\n",
    "    for i in range(NStages):\n",
    "        dir = rand.uniform(0,2*np.pi) # Angle with respect to the x-axis the pollen moves in (between 0 and 2pi). \n",
    "        \n",
    "        #Calculate the new position of the particle\n",
    "        x = x + L*np.cos(dir)\n",
    "        y = y + L*np.sin(dir)\n",
    "    \n",
    "    #Return the final position of the particle\n",
    "    return x,y\n",
    "\n",
    "\n",
    "for i in range(NPollen):\n",
    "    pollen_x, pollen_y = randomWalk2D()\n",
    "    \n",
    "    final_pos_x.append(pollen_x)\n",
    "    final_pos_y.append(pollen_y)\n",
    "\n",
    "# Plot the final locations of the pollen\n",
    "plt.xlim(-L*NStages,L*NStages)\n",
    "plt.ylim(-L*NStages,L*NStages)\n",
    "plt.axis('square')\n",
    "plt.plot(final_pos_x,final_pos_y,'o')\n",
    "plt.xlabel(\"x position (mm)\")\n",
    "plt.ylabel(\"y position (mm)\")\n",
    "plt.show()"
   ]
  },
  {
   "cell_type": "markdown",
   "metadata": {},
   "source": [
    "## Exercise 1\n",
    "\n",
    "After reading the code, answer the following questions (remember to answer in **full sentences**):\n",
    "\n",
    "(a) How many pieces of pollen are we simulating? What is the name of the variable that represents the number of pieces of pollen that we are simulating?\n",
    "\n",
    "(b) How many steps does each piece of pollen take in the model? What variable represents this?\n",
    "\n",
    "(b) How far does the piece of pollen move each time step (or stage)? What variable represents this?\n",
    "\n",
    "(d) What line of code determines the direction the pollen moves each timestep? Explain what that line of code is doing.\n",
    "\n",
    "(e) We are storing the final x and y positions of each piece of pollen. What are the names of the variables that represent the lists of the final x and y positions of each piece of pollen?\n"
   ]
  },
  {
   "cell_type": "markdown",
   "metadata": {},
   "source": [
    "## Excercise 2\n",
    "\n",
    "Add code at the end of the model above to calculate and print the average x-position and average y-position of each piece of pollen. Note: This is two different averages, one for the x-position and a second for the y-positions.\n",
    "\n",
    "Report on your answers for the average final positions. How much do your answers vary each time you run the model?\n",
    "\n",
    "\n"
   ]
  },
  {
   "cell_type": "markdown",
   "metadata": {},
   "source": [
    "## Exercise 3\n",
    "\n",
    "Modify the model to reduce that variation and calculate the **expected** average x-position and average y-position. \n",
    "\n",
    "Report on your answers for the average final positions and how you modified the model. How much does it vary each time you run the model now? \n",
    "\n",
    "\n"
   ]
  },
  {
   "cell_type": "markdown",
   "metadata": {},
   "source": [
    "## Exercise 4\n",
    "\n",
    "Instead of calculating the average x and y positions of the final positions, let's calculate the average distance between where the pollen ends up and its initial starting position. If we call that distance $r$, then we can calculate it as\n",
    "\n",
    "$ r = \\sqrt{x^2 + y^2} $.\n",
    "\n",
    "Modify your model to also calculate the average distance between where the pollen ends up and its initial starting position. What is that average distance?\n"
   ]
  },
  {
   "cell_type": "markdown",
   "metadata": {},
   "source": [
    "## Exercise 5\n",
    "\n",
    "Compare the averages you obtained for the final x/y positions of the pollen and distance from the starting point to the pollen's final position? Are they in agreement with each other? How can we reconcile these two pieces of information together?"
   ]
  },
  {
   "cell_type": "markdown",
   "metadata": {},
   "source": [
    "# Level A\n",
    "\n"
   ]
  },
  {
   "cell_type": "markdown",
   "metadata": {},
   "source": [
    "In class, we discussed one way to estimate $\\pi$. In that example we threw darts at a board and found how many of them landed within some circle. \n",
    "\n",
    "It turns out, there are a large number of ways to estimate $\\pi$ using randomness. One of the more famous is a method [Buffon's Needle](https://en.wikipedia.org/wiki/Buffon%27s_needle_problem). It's based on a question asked by 18th century Frenchman [Georges-Louis Leclerc, Comte de Buffon](https://en.wikipedia.org/wiki/Georges-Louis_Leclerc,_Comte_de_Buffon):\n",
    "\n",
    "\"Suppose we have a floor made of parallel strips of wood, each the same width, and we drop a needle onto the floor. What is the probability that the needle will lie across a line between two strips?\"\n",
    "\n",
    "This question is illustrated in the figure below (it might hard to see dark mode, it's transparent and black). \n",
    "\n",
    "![Image depicting Buffon's Needle problem](https://upload.wikimedia.org/wikipedia/commons/thumb/5/58/Buffon_needle.svg/1920px-Buffon_needle.svg.png)\n",
    "\n",
    "\n",
    "As indicated by the figure, the answer to Buffon's question relies on two inputs: the length of the needle, $l$, and the width of the strips, $t$. As it turns out, the probability a needle crosses two strips, $p$ is given by:\n",
    "\n",
    "$$p = \\frac{2}{\\pi}\\frac{l}{t} $$\n",
    "\n",
    "By estimating the probability a needle intersects two strips using a monte-carlo simulation, we can use the  expression above to estimate the value of $\\pi$.\n",
    "\n",
    "I have written most of the model to estimate the probability for you below. Read through the code to understand what it is doing and then run the model. You should see a single need being placed on the board that is perfectly horizontal. "
   ]
  },
  {
   "cell_type": "code",
   "execution_count": 4,
   "metadata": {},
   "outputs": [
    {
     "name": "stdout",
     "output_type": "stream",
     "text": [
      "The divisions are at [-10.  -8.  -6.  -4.  -2.   0.   2.   4.   6.   8.  10.]\n",
      "The number of needles that intersect two strips is 0\n",
      "The probability of a needle intersecting two strips is 0.0\n"
     ]
    },
    {
     "data": {
      "image/png": "[encoded data removed]",
      "text/plain": [
       "<Figure size 640x480 with 1 Axes>"
      ]
     },
     "metadata": {},
     "output_type": "display_data"
    }
   ],
   "source": [
    "# A function to draw a needle onto the board\n",
    "# You will not need to modify this at all\n",
    "def drawNeedle(xpos, ypos, angle):\n",
    "    dx = l/2 * np.cos(angle) # Get the min x coordinate\n",
    "    dy = l/2 * np.sin(angle) # Get the max x coordinate\n",
    "    px = [x+dx, x-dx] # Create a list for plotting\n",
    "    py = [y+dy, y-dy] # Create a list for plotting\n",
    "    \n",
    "    plt.plot(px,py,'-',color='goldenrod')\n",
    "    \n",
    "N = 1 # Number of needles thrown\n",
    "Nint = 0 # Number of needles that intersect two boundries\n",
    "l = 1 # Length of a needle\n",
    "t = 2 # width of the strips\n",
    "Nstrips = 10 # Number of strips\n",
    "\n",
    "# Create a list of x-positions for the divisions between strips\n",
    "L = Nstrips*t # Length of the board\n",
    "divisions =  np.arange(-L/2, L/2+.00001,t) \n",
    "print(f\"The divisions are at {divisions}\")\n",
    "\n",
    "# Draw the board and divisions (we do this once before we draw any needles so the needles are on top)\n",
    "plt.xlim(-L/2,L/2)\n",
    "plt.ylim(-L/2,L/2) \n",
    "plt.axis('square')\n",
    "for div in divisions:\n",
    "    plt.plot([div,div],[-L/2,L/2],color='black')\n",
    "    \n",
    "\n",
    "### Begin Monte Carlo now that everything is setup\n",
    "for i in range(N):\n",
    "    #####\n",
    "    # Add code to randomize the position and angle of the needle\n",
    "    x = 0 # x position of the needle\n",
    "    y = 0 # y position of the needle\n",
    "    angle = 0 # Angle of the needle with respect to the x-axis in radians\n",
    "    #####\n",
    "    \n",
    "    # Draw the needle on the board. Comment this out when running with a large number of needles\n",
    "    drawNeedle(x,y,angle) \n",
    "    \n",
    "    # Calculate the min and max x positions of the needle\n",
    "    xmin = x - l/2 * np.abs(np.cos(angle))\n",
    "    xmax = x + l/2 * np.abs(np.cos(angle))\n",
    "    \n",
    "    # Check if the needle crosses any divisions\n",
    "    for div in divisions:\n",
    "        #####\n",
    "        # Add code to check if the needle crosses a division\n",
    "        # That is, check if div is between xmin and xmax\n",
    "        if False:\n",
    "        #####\n",
    "            # If the needle crosses a division, increment Nint and break the loop\n",
    "            Nint += 1\n",
    "            break\n",
    "        \n",
    "\n",
    "print(f\"The number of needles that intersect two strips is {Nint}\")\n",
    "print(f\"The probability of a needle intersecting two strips is {Nint/N}\")\n",
    "plt.show() \n",
    "    \n",
    "    "
   ]
  },
  {
   "cell_type": "markdown",
   "metadata": {},
   "source": [
    "# Exercise 1\n",
    "\n",
    "You will need to add in a few key lines of code to complete the model. Those lines are marked with comments that look like this\n",
    "```python\n",
    "#####\n",
    "# Instructions for what to do.\n",
    "#####\n",
    "```\n",
    "\n",
    "To start, let's get the needles to land all across the board and at different angles. Find the lines of code that correspond to the location of the needle being generated and the angle the needle makes with respect to the x-axis. Rather than setting those all to zero, replace those lines with code that will randomly select the position and angle. The angle must be in radians (recall, $360^\\circ = 2\\pi$ radians) and the needles should be randomly spread across the entire board with a uniform distribution. (*Hint*: How did you tackle this in your dart-throwing examples?)\n",
    "\n",
    "Verify your code works by running it multiple times and looking at the board. Are the needles evenly distributed? Are they at all different angles?"
   ]
  },
  {
   "cell_type": "markdown",
   "metadata": {},
   "source": [
    "# Exercise 2\n",
    "\n",
    "If you look at the output you'll notice it always says that are no needles crossing two strips, but that is clearly wrong.\n",
    "\n",
    "Find the lines of code that are checking if the needle crosses two strips and fix it so it is properly counting the events of intrest. The divisions between strips are all listed in the list `divisions` and so all we need to check is if a single division sits in between `xmin` and `xmax`. (*Hint*: This is a change to a single line of code in the model above.)\n",
    "\n",
    "Verify your code is working by running it with a small $N$ a few times and checking by eye if it is properly counting when needles cross divisions."
   ]
  },
  {
   "cell_type": "markdown",
   "metadata": {},
   "source": [
    "# Exercise 3\n",
    "\n",
    "Now that you have a fully working Monte Carlo model: What is your estimate for the probability that a needle crosses two strips? Make sure you have modified the model to make an **accurate** estimation of the probability (remember to comment out the line drawing the needles when using a large number of needles)! Compare that to the theoretical probability given by the expression $$p = \\frac{2}{\\pi}\\frac{l}{t}$$"
   ]
  },
  {
   "cell_type": "markdown",
   "metadata": {},
   "source": [
    "# Exercise 4\n",
    "\n",
    "On a piece of paper (you do not have to hand this in) re-arrange the above expression for the probability to come up with an expression for $\\pi$. That is, find $$\\pi = ...$$"
   ]
  },
  {
   "cell_type": "markdown",
   "metadata": {},
   "source": [
    "# Exercise 5\n",
    "\n",
    "At the end of your model above, calculate and print out your estimate for $\\pi$. What is your numeric estimate for $\\pi$? How does it compare to the true value?"
   ]
  },
  {
   "cell_type": "markdown",
   "metadata": {},
   "source": [
    "# Exercise 6\n",
    "\n",
    "Quantify the uncertainty in your estimation for $\\pi$. Copy your working model below, and use it to estimate the **standard deviation** of your estimation for $\\pi$. To do this, you will need to run the full simulation multiple times to get many \"measurements\". \n",
    "\n",
    "What is the standard deviation of your estimate for $\\pi$? \n",
    "\n",
    "**Hint**: If I were you, I would write out your plan for how to tackle this problem before starting. Then once you have a plan, begin modifying your code. I would also remove all of the visualization components (no drawing of the board or needles) to simplify things."
   ]
  },
  {
   "cell_type": "code",
   "execution_count": null,
   "metadata": {},
   "outputs": [],
   "source": []
  }
 ],
 "metadata": {
  "kernelspec": {
   "display_name": "Python 3",
   "language": "python",
   "name": "python3"
  },
  "language_info": {
   "codemirror_mode": {
    "name": "ipython",
    "version": 3
   },
   "file_extension": ".py",
   "mimetype": "text/x-python",
   "name": "python",
   "nbconvert_exporter": "python",
   "pygments_lexer": "ipython3",
   "version": "3.10.12"
  }
 },
 "nbformat": 4,
 "nbformat_minor": 4
}
