{
 "cells": [
  {
   "cell_type": "markdown",
   "metadata": {},
   "source": [
    "# Course Learning Objectives\n",
    "\n",
    "1. I can study a problem (i.e. question) in physics, biology, economics, or social sciences; apply simplifying assumptions; and develop a mathematical model (equations) to describe the system: Build a model of wealth inquality. \n",
    "\n",
    "1.  I can apply the appropriate mathematical technique to solve the equations. (This includes selected topics in calculus, vector algebra, linear algebra, numerical methods and statistics.)\n",
    "1.  I can graph model data, interpret the graph, and use the graph to make predictions: Number of 6s vs number rolls. Interpret probability as a function of number of trials.\n",
    "\n",
    "1.  I can compare measured data to model data and can judge the accuracy of the model: Comparison of mosquito deaths to given data.\n",
    "\n",
    "1.  I can refine a model based on a comparison with measured data or unreasonable predictions.\n",
    "1.  When necessary, I can write a computer program in Python to graph data or perform calculations.\n",
    "1.  I can use graphs, equations, and prose to write or present a data- and code-driven narrative to explain a model, predictions, and validation.\n",
    "1.  I can work in a group on a project to solve a problem using mathematical modeling and can demonstrate all aspects of modeling including construction, analysis, predictions, and refinement.\n",
    "1.  I can describe ethical implications of decisions made in the modeling process and how they affect conclusions and predictions made with the model: Write narrative about concerns raised by the model, or using the \"obvious\" conclusion of the model.\n",
    "\n",
    "1.  I can work productively in a group, constructively reflect on a working group dynamic, and develop/implement strategies to improve productivity in a group: Structure of assesment. Reflection on group.\n",
    " \n",
    "2.  I can describe the difference between traditional mathematical modeling and machine learning including their respective strengths and weaknesses."
   ]
  },
  {
   "cell_type": "code",
   "execution_count": null,
   "metadata": {},
   "outputs": [],
   "source": []
  }
 ],
 "metadata": {
  "language_info": {
   "name": "python"
  }
 },
 "nbformat": 4,
 "nbformat_minor": 2
}
