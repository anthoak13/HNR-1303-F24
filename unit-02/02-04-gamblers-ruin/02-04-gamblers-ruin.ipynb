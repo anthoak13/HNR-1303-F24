{
  "cells": [
    {
      "cell_type": "code",
      "execution_count": 1,
      "metadata": {
        "id": "fhFVdBspbrtB"
      },
      "outputs": [],
      "source": [
        "import numpy as np\n",
        "import matplotlib.pyplot as plt\n",
        "import random as rand"
      ]
    },
    {
      "cell_type": "markdown",
      "metadata": {
        "id": "9e7SCzjKbrtB"
      },
      "source": [
        "# Gambler's Ruin\n",
        "\n",
        "Suppose person A has 3 one-dollar bills and person B has 2 one-dollar bills. They play a game where they flip a coin. If it's heads, person B gives one dollar to person A. If it's tails, person A gives one dollar to person B. When one person has zero money (and the other person has 5 dollars), the game is over.\n",
        "\n",
        "## The Question\n",
        "\n",
        "What is the probability that person A loses (i.e. is *ruined*)?"
      ]
    },
    {
      "cell_type": "markdown",
      "metadata": {
        "id": "7-FpuS5UbrtC"
      },
      "source": [
        "## Develop a Plan\n",
        "\n",
        "Write in words how you will solve this problem computationally? Do not write code nor define variables. Rather, describe *how* you would determine the probability that person A looses.\n",
        "\n",
        "While writing your plan, think about the modeling cycle we have discussed before as well as the anatomy of a monte carlo model. Your response to this section should be narrative in nature, i.e. complete sentences. This should be a detailed response. \n",
        "\n",
        "# After you have written your plan come and talk to me or Clara before continuing."
      ]
    },
    {
      "cell_type": "markdown",
      "metadata": {
        "id": "nbESSmPhbrtD"
      },
      "source": [
        "## One Trial of the Game\n",
        "\n",
        "The function below conducts one trial of the game and returns the amount of money person A has at the end of the game. This trial is itself a mini monte carlo simulation. Come to a consensus in your groups which part of the code corresponds to the different parts of a monte-carlo simulation."
      ]
    },
    {
      "cell_type": "code",
      "execution_count": 2,
      "metadata": {
        "id": "hxDMDnrdbrtD"
      },
      "outputs": [],
      "source": [
        "def game():\n",
        "\n",
        "    moneyA = 3 #amount of money for person A\n",
        "    moneyB = 2 #amount of money for person B\n",
        "\n",
        "    while moneyA > 0 and moneyA < 5: #run loop while moneyA is between 0 and 5.\n",
        "\n",
        "        coin = rand.randint(0,1)\n",
        "        if coin == 0: #tails\n",
        "            moneyA = moneyA + 1\n",
        "            moneyB = moneyB - 1\n",
        "        else: #heads\n",
        "            moneyA = moneyA - 1\n",
        "            moneyB = moneyB + 1\n",
        "\n",
        "    return moneyA"
      ]
    },
    {
      "cell_type": "markdown",
      "metadata": {
        "id": "Gs0hU_SfbrtD"
      },
      "source": [
        "Calling `game()` will return the amount of money person A has at the end of the game."
      ]
    },
    {
      "cell_type": "code",
      "execution_count": 11,
      "metadata": {
        "colab": {
          "base_uri": "https://localhost:8080/"
        },
        "id": "sViPUgYbbrtE",
        "outputId": "1929a998-944c-46ab-e487-9c7a6fea5ceb"
      },
      "outputs": [
        {
          "name": "stdout",
          "output_type": "stream",
          "text": [
            "After a game, Person A has 0 dollars.\n"
          ]
        }
      ],
      "source": [
        "A = game()\n",
        "print(\"After a game, Person A has {:d} dollars.\".format(A))"
      ]
    },
    {
      "cell_type": "markdown",
      "metadata": {
        "id": "M4EmYTfabrtE"
      },
      "source": [
        "## Write Code\n",
        "\n",
        "Your program will have the following general structure:\n",
        "\n",
        "1. Define variables such as the number of trials (or experiments) you will run and what you need to track the outcomes.\n",
        "1. Define a loop.\n",
        "1. Inside the loop:\n",
        "    1. Conduct one trial (i.e. experiment) of the model.\n",
        "    1. Use conditional statement(s) to check for the occurrence of outcomes of intrest and count when they occur.\n",
        "1. Calculate and print the percentage of times the outcome of intrest occurred.\n",
        "\n",
        "\n",
        "Make heavy use of your plan, as well as the previous examples we have done in class to get the syntax for this program. Notice the general structure outlined here is just the anatomy of a monte carlo we have been working with this whole unit. It may be helpful to lay out your plan in comments `# a comment is any line that starts with a \"#\"` in the code cell below. Then work on constructing the individual pieces of code to accomplish what you have laid out in comments.\n"
      ]
    },
    {
      "cell_type": "code",
      "execution_count": null,
      "metadata": {
        "id": "6GvO23vVbrtF"
      },
      "outputs": [],
      "source": []
    },
    {
      "cell_type": "markdown",
      "metadata": {
        "id": "ujNStDZBbrtF"
      },
      "source": [
        "## Answer the Question\n",
        "\n",
        "What is the *probability* of A losing? In other words, what percentage of times do you *expect* A to lose? Remember when reporting the results "
      ]
    },
    {
      "cell_type": "markdown",
      "metadata": {},
      "source": [
        "# A new question\n",
        "\n",
        "Let's go back to our model and see how we can adapt it to answer a different question.\n",
        "\n",
        "In our first iteration of the model, we wanted to know what the probability was Player A was runied. To answer that question, we played the game until one of the two players ran out of money.\n",
        "\n",
        "Our new question is: **What is the average amount of money Player A has after two rounds of the game? What is the spread in the amount of money we expect Player A to have after two rounds of the game?**\n",
        "\n",
        "To answer these questions, we need to find both the **mean** and **standard deviation** in the amount of money Player A has remaining at the end of (two rounds) of the game."
      ]
    },
    {
      "cell_type": "markdown",
      "metadata": {},
      "source": [
        "## A single trial\n",
        "\n",
        "Below is the `game()` function we used to answer our first question. In that case, we played the game until one player ran out of money. In our new question we only want to ever play 2 rounds of the game.\n",
        "\n",
        "**How can we modify the `game()` function to return the amount of money Player A has after two rounds?**\n",
        "\n",
        "\n",
        "After answering that question, make your proposed modification to the function below."
      ]
    },
    {
      "cell_type": "code",
      "execution_count": null,
      "metadata": {},
      "outputs": [],
      "source": [
        "def gameTwoRounds():\n",
        "\n",
        "    moneyA = 3 #amount of money for person A\n",
        "    moneyB = 2 #amount of money for person B\n",
        "\n",
        "    while moneyA > 0 and moneyA < 5: #run loop while moneyA is between 0 and 5.\n",
        "\n",
        "        coin = rand.randint(0,1)\n",
        "        if coin == 0: #tails\n",
        "            moneyA = moneyA + 1\n",
        "            moneyB = moneyB - 1\n",
        "        else: #heads\n",
        "            moneyA = moneyA - 1\n",
        "            moneyB = moneyB + 1\n",
        "\n",
        "    return moneyA"
      ]
    },
    {
      "cell_type": "markdown",
      "metadata": {},
      "source": [
        "What tests or checks can you think to run to make sure your new function is working? Use the code cell below to run those checks."
      ]
    },
    {
      "cell_type": "code",
      "execution_count": null,
      "metadata": {},
      "outputs": [],
      "source": [
        "A = game()\n",
        "print(\"After a game, Person A has {:d} dollars.\".format(A))"
      ]
    },
    {
      "cell_type": "markdown",
      "metadata": {},
      "source": [
        "## Many trials - finding the average\n",
        "\n",
        "Copy the code you used to answer the first question into the code cell below.\n",
        "\n",
        "Write out a plan for what changes you need to make to your code to answer our new questions.  Let's start by trying to answer only the first question: *What is the average amount of money Player A has after two rounds of the game?*\n",
        "\n",
        "Your program will have the following general structure:\n",
        "\n",
        "1. Define variables such as the number of trials (or experiments) you will run and whatever you need to track the outcomes.\n",
        "1. Define a loop.\n",
        "1. Inside the loop:\n",
        "    1. Conduct one trial (i.e. experiment) of the model.\n",
        "    1. Save the output of the trial.\n",
        "1. Calculate the average.\n",
        "1. Report the average\n",
        "\n",
        "After you have written your plan, implement the changes and test your code."
      ]
    },
    {
      "cell_type": "code",
      "execution_count": null,
      "metadata": {},
      "outputs": [],
      "source": []
    },
    {
      "cell_type": "markdown",
      "metadata": {},
      "source": [
        "### Many trials - standard deviation\n",
        "\n",
        "Let's now turn to the second question. If we want to know the deviation of the average, we need to calculate many averages. \n",
        "\n",
        "Because we will be running our Monte Carlo many times, let us wrap it in a function. Take your code from above and put it in the function below. Rather than printing the average mount of money player A has, instead return it. "
      ]
    },
    {
      "cell_type": "code",
      "execution_count": null,
      "metadata": {},
      "outputs": [],
      "source": [
        "# A function to run all trials of the game and return the average amount of money person A has at the end of the game.\n",
        "def runMonteCarlo():\n",
        "    \n",
        "    return average"
      ]
    },
    {
      "cell_type": "markdown",
      "metadata": {},
      "source": [
        "Write out a plan for how we can answer the second question.  *What is the spread in the average amount of money Player A has after two rounds of the game?*\n",
        "\n",
        "That is, after running many Monte Carlo simulations, what is the standard deviation in the reported averages across all those simulations?\n",
        "\n",
        "Your program will have the following general structure:\n",
        "1. Define variables such as the number of monte carlo simulations you will run and whatever you need to track the outcomes of the simulation.\n",
        "1. Define a loop.\n",
        "1. Inside the loop:\n",
        "    1. Conduct one full monte carlo simulation of the model.\n",
        "    1. Save the output of the simulation (that is, average money by Player A).\n",
        "1. Calculate the standard deviations around that average.\n",
        "1. Report the standard deviation"
      ]
    },
    {
      "cell_type": "markdown",
      "metadata": {},
      "source": [
        "## Check your plan with me or Clara before continuing!\n",
        "\n",
        "Then copy your code, and make the required modifications."
      ]
    },
    {
      "cell_type": "code",
      "execution_count": null,
      "metadata": {},
      "outputs": [],
      "source": []
    },
    {
      "cell_type": "markdown",
      "metadata": {},
      "source": [
        "## Answer the question\n",
        "What is the average amount of money Player A has after two rounds of the game? What is the spread in the amount of money we expect Player A to have after two rounds of the game?"
      ]
    }
  ],
  "metadata": {
    "colab": {
      "provenance": []
    },
    "kernelspec": {
      "display_name": "Python 3",
      "language": "python",
      "name": "python3"
    },
    "language_info": {
      "codemirror_mode": {
        "name": "ipython",
        "version": 3
      },
      "file_extension": ".py",
      "mimetype": "text/x-python",
      "name": "python",
      "nbconvert_exporter": "python",
      "pygments_lexer": "ipython3",
      "version": "3.7.7"
    }
  },
  "nbformat": 4,
  "nbformat_minor": 0
}
