{
  "nbformat": 4,
  "nbformat_minor": 0,
  "metadata": {
    "colab": {
      "provenance": [],
      "authorship_tag": "ABX9TyM6JX6IFHorGTT8l6BntrI8",
      "include_colab_link": true
    },
    "kernelspec": {
      "name": "python3",
      "display_name": "Python 3"
    },
    "language_info": {
      "name": "python"
    }
  },
  "cells": [
    {
      "cell_type": "markdown",
      "metadata": {
        "id": "view-in-github",
        "colab_type": "text"
      },
      "source": [
        "<a href=\"https://colab.research.google.com/github/anthoak13/HNR-1303-F24/blob/F24/unit-02/02-04-gamblers-ruin/02-04-LLN-reading.ipynb\" target=\"_parent\"><img src=\"https://colab.research.google.com/assets/colab-badge.svg\" alt=\"Open In Colab\"/></a>"
      ]
    },
    {
      "cell_type": "code",
      "source": [
        "import matplotlib.pyplot as plt\n",
        "import numpy as np\n",
        "import random"
      ],
      "metadata": {
        "id": "REt6_VZVcHiK"
      },
      "execution_count": 1,
      "outputs": []
    },
    {
      "cell_type": "markdown",
      "source": [
        "# Reporting on Monte-Carlo Models\n",
        "\n",
        "The goal of this notebook (or \"textbook chapter\") is to discuss some of the subtleties of reporting the results of Monte-Carlo models. Namely, how do we know if we have run enough trials that are reported answer is \"close enough\" to the true answer?\n",
        "\n",
        "We left the end of first Monte Carlo notebook with two big questions:\n",
        "- How do we know we are right? We get a different answer every time!\n",
        "- How certain are we that the answer we get is close to the right answer?\n",
        "\n",
        "We're now ready to answer those questions.\n",
        "\n",
        "**Before continuing, go to the menu and seleect `Runtime->Run all`**"
      ],
      "metadata": {
        "id": "cQrIfJGSJbYr"
      }
    },
    {
      "cell_type": "markdown",
      "source": [
        "## Mean and Standard Deviation\n",
        "\n",
        "When we describe a number acquired through some experimental process, there are always two pieces of information we need to report: the value itself and the  uncertainty associated with that value. The value represents our best estimate based on the measurement, while the uncertainty reflects the range within which the true value is likely to lie, given the limitations of our measurement process.\n",
        "\n",
        "For example, suppose we are measuring the length of a table. With our meter stick, we record the length as 0.750 meters. The divisions on the meter stick mark each 0.001 meter, and it's hard to tell exactly which mark lines up with *exactly* the end of the table. Because of the difficulty aligning, we estimate that we are definitely within two divisions, or 0.002 meters. We can report the length of the table to be $0.750 \\pm 0.002$ meters. In other words, the length of the table is somewhere between 0.748 and 0.752 meters, but our measurement is not precise enough to specify exactly where within this range it falls.\n",
        "\n",
        "Just guessing how well we can make a measurement is unsatisfying. How can you know if you are estimating the uncertainty in your measurement properly? The answer is, you often cannot.\n",
        "\n",
        "### Mean\n",
        "\n",
        "Luckily, we can use some statistics to estimate the uncertainty in our measurement by repeating the measurement multiple times. Repeating the measurement multiple times allows us to take an average or **mean** of our measurements. Assuming our measurements are independent (that is, the past measurements do not impact future measurements) then the mean should be a better estimate of the true value than any single one of our measurements.\n",
        "\n",
        "The **mean**, $\\mu$, is defined as the sum of all the measurements divided by the total number of measurements. If we say we have $N$ measurement, $x_1, x_2, ..., x_N$, then the mean $\\mu$ is defined as:\n",
        "\n",
        "$$ \\mu = \\frac{1}{N}\\sum_{i=1}^N x_i$$\n",
        "\n",
        "The symbol $\\Sigma$ just means \"sum\" or \"add\". So another way to write that equation (for three measurement, $N=3$) is\n",
        "$$\n",
        "\\mu = \\frac{1}{3}(x_1 + x_2 + x_3)\n",
        "$$\n",
        "\n",
        "We can also represent this operation in code with a `for` loop:\n"
      ],
      "metadata": {
        "id": "aRy31RJpJyhi"
      }
    },
    {
      "cell_type": "code",
      "execution_count": 2,
      "metadata": {
        "colab": {
          "base_uri": "https://localhost:8080/"
        },
        "id": "LqCsq2pGJYQ6",
        "outputId": "1f18d8b1-eb1e-43bc-e0c4-c711ea1c861e"
      },
      "outputs": [
        {
          "output_type": "stream",
          "name": "stdout",
          "text": [
            "Our 5 measurement are: [2, 4, 3, 4, 5]\n",
            "The average is 3.600\n"
          ]
        }
      ],
      "source": [
        "measurements = [2,4,3,4,5]\n",
        "N = len(measurements) # len is a function that gets the number of elements in a list\n",
        "print(f\"Our {N} measurement are: {measurements}\")\n",
        "sum = 0\n",
        "\n",
        "for m in measurements:\n",
        "  sum = sum + m\n",
        "\n",
        "avg = sum/N\n",
        "print(f\"The average is {avg:.3f}\")"
      ]
    },
    {
      "cell_type": "markdown",
      "source": [
        "\n",
        "\n",
        "You have seen this idea in the Monte Carlo models we have developed up to this point. Running a single trial of a Monte Carlo tells you very little, but taking the average of many trials allows you to start to converge on an answer close to the true answer. Think back to the example of flipping a coin on the first day of this unit. Calculating the probability of getting heads by flipping a coin ten times can give you a wide range of answers. Calculating the probability of getting heads flipping a coin a million times gives you an answer much closer to the true value of 0.5.\n",
        "\n",
        "### Standard Deviation\n",
        "\n",
        "Repeating the measurement multiple times allows us to ask another question: How close are each of our measurements to the mean? If all our measurements are close to the mean, then we can have confidence that the true value is close to the mean. If our measurements have a wide spread, than we might have little confidence that the true value is close to the mean.\n",
        "\n",
        "We can quantify this using the **standard deviation**, denoted by the symbol $\\sigma$. *The standard deviation is like the average difference (or deviation) between each measurement and the mean.* Importantly, we only care about how far away the measurement is, not if the measurement is higher or lower. Rather than take the average of the difference, we instead take the average of *the square* of the difference since that is always a positive number. To make the standard deviation more interpretable, we then take the square root. In equation form the standard deviation is given by:\n",
        "$$\n",
        "\\sigma = \\sqrt{\\frac{1}{N} \\sum_{i=0}^N(x_i - \\mu)^2}\n",
        "$$\n",
        "\n",
        "If we were to write out the sum explicitly for the case of three measurements ($N=3$) again we would get:\n",
        "$$\n",
        "\\sigma = \\sqrt{\\frac{1}{3} \\left[(x_1 - \\mu)^2 + (x_2 - \\mu)^2 + (x_3 - \\mu)^2 \\right]}\n",
        "$$\n",
        "\n",
        "Similarly, we can define the standard deviation as a `for` loop:"
      ],
      "metadata": {
        "id": "yBFd4AxNXg9v"
      }
    },
    {
      "cell_type": "code",
      "source": [
        "measurements = [2,4,3,4,5] # Our list of measurement values\n",
        "N = len(measurements) # len is a function that gets the number of elements in a list\n",
        "\n",
        "# print out our measurements and the number of them\n",
        "print(f\"Our {N} measurement are: {measurements}\")\n",
        "\n",
        "# Using a loop, calculate the sum of all measurements\n",
        "sum = 0\n",
        "for m in measurements:\n",
        "  sum = sum + m\n",
        "\n",
        "# Calculate the average from the sum\n",
        "avg = sum/N\n",
        "print(f\"The average is {avg:.3f}\")\n",
        "\n",
        "# Using a loop, calculate the sum of the square of the difference\n",
        "# between all measurements and the mean\n",
        "sum = 0\n",
        "for m in measurements:\n",
        "  sum = sum + (m - avg)**2\n",
        "\n",
        "# Calculate the standard deviation\n",
        "stddev = np.sqrt(sum/N)\n",
        "print(f\"The standard deviation is {stddev:0.3f}.\")\n",
        "\n",
        "# Print out our report\n",
        "print(f\"Our measured value is {avg:.3f} +- {stddev:0.3f}.\")\n"
      ],
      "metadata": {
        "colab": {
          "base_uri": "https://localhost:8080/"
        },
        "id": "o4dt-WcWb1K-",
        "outputId": "e4d6189c-833a-4726-8e23-5be45df242ed"
      },
      "execution_count": 3,
      "outputs": [
        {
          "output_type": "stream",
          "name": "stdout",
          "text": [
            "Our 5 measurement are: [2, 4, 3, 4, 5]\n",
            "The average is 3.600\n",
            "The standard deviation is 1.020.\n",
            "Our measured value is 3.600 +- 1.020.\n"
          ]
        }
      ]
    },
    {
      "cell_type": "markdown",
      "source": [
        "**The standard deviation is a measurement of our uncertainty!** In other words we can be \"pretty sure\" the true value is within the range given by one standard deviation away from the mean. Often (but not always) these follow gaussian distributions. In that case, we can say there is a 68\\% chance the true value is within one standard deviation of the mean, a 95\\% chance the true value is within two standard deviations of the mean, and a 99.7\\% chance the true value is within three standard deviations of the mean.\n",
        "\n",
        "### Questions\n",
        "\n",
        "1. You make 5 measurements of the length of a table. They are $0.754, 0.755, 0.745, 0.750, 0.744$ meters. What is the average and standard deviation of your measurement?"
      ],
      "metadata": {
        "id": "CNRPISoEc_-3"
      }
    },
    {
      "cell_type": "markdown",
      "source": [
        "## In the context of Monte Carlo models\n",
        "\n",
        "Let's look at what all this means in the context of our first example, finding the area under a curve.\n",
        "\n",
        "Recall the problem from the first reading notebook: Suppose you have a function $f(x)$, plotted below, that is defined from $x=0$ to $x=10$. You want to know how much area exists under the curve described by that function.\n",
        "\n",
        "We solved this problem by throwing virtual darts at a board and calculating how many of them were under the curve.\n",
        "\n",
        "The form below makes an estimate of the standard deviation by running 1000 measurements. In this case, each measurement is making an estimation of the area by throwing `number_darts` at the board. It then reports the value from a single measurement along with the estimated standard deviation.\n",
        "\n",
        "**How does the standard deviation vary as you change the number of darts? How often is the true area within our estimated range?**\n",
        "\n",
        "FYI: running 1000 darts takes about 5 seconds.\n",
        "\n",
        "As you increase the number of darts, notice how the standard deviation decreases, indicating that our estimate becomes more precise. This is because more samples reduce the uncertainty in our approximation. You've seen this behavior before.\n",
        "\n",
        "The difference between our single measurement and the true value tells us how far off our estimate is. Ideally, this difference should be within the range given by our standard deviation, which would indicate that our uncertainty estimate is accurate. Notice that as we increase the number of darts, we are not falling within the range any more frequently. The range is just getting smaller."
      ],
      "metadata": {
        "id": "OAO_m4lxgQ-l"
      }
    },
    {
      "cell_type": "code",
      "source": [
        "# define the function we are plotting\n",
        "def f(x):\n",
        "    return 2*np.sin(.2*x) + .3*np.cos(x)\n",
        "# Define the integral of that function (to get the true value)\n",
        "def F(x):\n",
        "    return -10*np.cos(.2*x) + 0.3*np.sin(x)\n",
        "# Define code to plot function and points\n",
        "def plot():\n",
        "  x = np.linspace(0, 10, 100)\n",
        "\n",
        "  # Plot the function\n",
        "  plt.plot(x, f(x))\n",
        "  plt.scatter(x_under, y_under, color='black')\n",
        "  plt.scatter(x_over, y_over, color='red')\n",
        "  plt.ylim(0,2.5)\n",
        "  plt.xlim(0,10)\n",
        "  plt.xlabel('x')\n",
        "  plt.ylabel('f(x)')\n",
        "  plt.show()\n",
        "\n",
        "# Code to run a single trial (or measurement) using number_darts\n",
        "def trial():\n",
        "  global under, x_under, y_under, x_over, y_over\n",
        "  under = 0\n",
        "  x_under = []\n",
        "  y_under = []\n",
        "  x_over = []\n",
        "  y_over = []\n",
        "\n",
        "  for i in range(number_darts):\n",
        "      x = random.uniform(0, 10)\n",
        "      y = random.uniform(0, 2.5)\n",
        "      if y < f(x):\n",
        "          under += 1\n",
        "          x_under.append(x)\n",
        "          y_under.append(y)\n",
        "      else:\n",
        "          x_over.append(x)\n",
        "          y_over.append(y)\n",
        "# calculate and return the average value for all measurements\n",
        "def avg(measurements):\n",
        "  sum = 0\n",
        "  for m in measurements:\n",
        "    sum += m\n",
        "  return sum/len(measurements)\n",
        "# calculate and return the standard deviation for all measurements\n",
        "def stddev(measurements):\n",
        "  mean = avg(measurements)\n",
        "  sum = 0\n",
        "  for m in measurements:\n",
        "    sum += (m - mean)**2\n",
        "  return np.sqrt(sum/len(measurements))\n",
        "\n",
        "# @title Throwing darts {\"run\":\"auto\",\"vertical-output\":true,\"display-mode\":\"form\"}\n",
        "number_darts = 10 # @param {\"type\":\"integer\",\"placeholder\":\"10\"}\n",
        "number_measurements = 1000\n",
        "\n",
        "# Estimate the standard deviation for trials with number_darts\n",
        "areas = []\n",
        "for i in range(number_measurements):\n",
        "  trial()\n",
        "  areas.append(under/number_darts*25)\n",
        "sigma = stddev(areas)\n",
        "\n",
        "# run a single trial and get the estimation\n",
        "trial()\n",
        "est = under/number_darts*25\n",
        "true = F(10) - F(0)\n",
        "\n",
        "\n",
        "print(f\"Using {number_measurements} measurements we estimate the standard deviation of our measurement to be {sigma:0.2f}.\")\n",
        "print(f\"Our estimate for the area under the curve is {est:.2f} +- {sigma:0.2f}\")\n",
        "print(f\"The true value for the area under the curve is {true:.2f}\")\n",
        "print(f\"The difference between our single measurement and the true value is {est-true:.2f}\")\n",
        "\n",
        "\n",
        "plot()"
      ],
      "metadata": {
        "colab": {
          "base_uri": "https://localhost:8080/",
          "height": 546
        },
        "id": "1AUg5eQdgnQt",
        "outputId": "021dd423-8102-479e-b6b9-baf4786f39f2"
      },
      "execution_count": 91,
      "outputs": [
        {
          "output_type": "stream",
          "name": "stdout",
          "text": [
            "Using 1000 measurements we estimate the standard deviation of our measurement to be 4.02.\n",
            "Our estimate for the area under the curve is 10.00 +- 4.02\n",
            "The true value for the area under the curve is 14.00\n",
            "The difference between our single measurement and the true value is -4.00\n"
          ]
        },
        {
          "output_type": "display_data",
          "data": {
            "text/plain": [
              "<Figure size 640x480 with 1 Axes>"
            ],
            "image/png": "[encoded data removed]"
          },
          "metadata": {}
        }
      ]
    },
    {
      "cell_type": "markdown",
      "source": [
        "## Law of large Numbers\n",
        "\n",
        "Let's return to the law of large numbers and make it more quantitative. Previously, we said \"It states that if you perform the same experiment multiple times, the average of the results will approach the expected value. The more experiments performed, the closer the average will be to the expected value.\" With the introduction of the standard deviation we can now say *exactly* what we mean by that last sentence.\n",
        "\n",
        "Recall the standard deviation is a measure of how *consistent* are measurements are. That is, if we have a small standard deviation then all of our measurements are close together (and therefore close to the mean).\n",
        "\n",
        "The Law of Large Numbers tells us **how the standard deviation changes** as we increase the number of measurements:\n",
        "\n",
        "$$\\sigma_{\\text{N measurements}} = \\frac{\\sigma_{\\text{1 measurement}}}{\\sqrt{N}}$$\n",
        "\n",
        "Here we have two different standard deviations: $\\sigma_{\\text{1 measurement}}$ , which is the standard deviation of a single measurement (akin to the variation you'd see in the output from one run of a Monte Carlo simulation), and $\\sigma_{\\text{N measurement}}$ which is the standard deviation of the average result from $N$ measurements. Essentially, $\\sigma_{\\text{N measurement}}$ tells us how much the average of $N$ measurements varies, which should be less than the variation of a single measurement. That's a bit confusing, I know. Let's dig into it a little more and see how this works.\n",
        "\n",
        "Suppose we have a Monte Carlo simulation whose output has an uncertainty of $\\sigma_0 = 1$. If we were to run that Monte Carlo 10 times, and take the average of those 10 measurements, then standard deviation of those 10 measurements would be $\\sigma = \\sigma_{0}/\\sqrt{10}$. This means we can **predict** how many trials we need to run to get a certain accuracy!\n",
        "\n",
        "Let's look at the example above to understand this. Let's use for our \"single Monte Carlo\" a simulation where we throw 10 darts at the board. When we run the simulation for `num_darts=10` it reports the standard deviation is about $\\sigma_{10} \\approx 3.9$. The subscript in the standard deviation denotes how many darts we throw. Running the 10-dart simulation four times and averaging the results is (near as makes no difference) the same as running a single simulation with 40 darts. We can **predict** what the standard deviation of the 40 dart simulation will be:\n",
        "\n",
        "$$ \\sigma_{40} = \\frac{\\sigma_{10}}{\\sqrt{4}} = \\frac{3.9}{2} = 1.95$$\n",
        "\n",
        "Here the $4$ under the square root indicates that 40 is four times larger than 10 (because run with 40 darts is the same at 4 runs with 10 darts). Run the model above with 40 darts, what do you get for the standard deviation now? When I ran it I got $\\sigma_{40}=1.93$. That's pretty close!\n",
        "\n",
        "This is critical in developing models. Thanks to the Law of Large Numbers, we can predict the standard deviation for *any* number of trials. We were able to succesfully predict the standard deviation of a 40 dart measurement using our previous calculation for 10 darts. By running a model with low $N$ many times, we can estimate the standard deviation of the model. We can then use the Law of Large Numbers to scale our expected variance to any $N$!\n",
        "\n",
        "\n",
        "### Questions\n",
        "\n",
        "1. Take the model above where $\\sigma_{10} = 3.9$. If you throw 1000 darts instead of 10 darts, what is you standard deviation on the run with 1000 darts? Use the Law of Large Numbers to make a **prediction**, then run the model with 1000 darts. How do they compare?\n"
      ],
      "metadata": {
        "id": "MHoKPNHGo7lL"
      }
    }
  ]
}