{
  "cells": [
    {
      "cell_type": "markdown",
      "metadata": {},
      "source": [
        "# Admin\n",
        "\n",
        "Reflections from week 1 graded.\n",
        "    - Feel free to update Week 2 reflections. I will grade those tomorrow if you would like to make changes based on feedback before then."
      ]
    },
    {
      "cell_type": "markdown",
      "metadata": {
        "id": "sXgA6r7m2kl4"
      },
      "source": [
        "# In Class Disscussion\n",
        "\n",
        "Look at previous Monte Carlo models we have encountered. Your task is to answer these questions (in narrative form):\n",
        "\n",
        "1. What is the question we are trying to answer with this model?\n",
        "1. What are our model inputs?\n",
        "1. What are our model outputs?\n",
        "1. What constitutes a single \"trial\" in our model?\n",
        "1. What information do we need to save from each \"trial\"?\n",
        "1. How do we use our model outputs to answer the question identified above?\n",
        "\n",
        "\n",
        "## Models and groups\n",
        "\n",
        "- Casino example (Day 2, `01-02-modeling-examples`): Ryan/Jessie, Daniel/Dalila\n",
        "- Coin Flip and Rolling Doubles (Day 3, `02-01-random` Exercises 2 and 4): Heather/Paul, Izzy M./Sterling\n",
        "- The dart fundraiser (Day 4, `02-02-game`): Lily/Brandon, Izzy J./Gray\n",
        "- Mosquito random walk (Day 5, `02-03-random-walk`): Frank/Sara, Nora/Sawyer/Olivia, Aliyah/Evan\n"
      ]
    },
    {
      "cell_type": "markdown",
      "metadata": {
        "id": "DBhc_4AH4P2e"
      },
      "source": [
        "# Reporting out"
      ]
    },
    {
      "cell_type": "markdown",
      "metadata": {
        "id": "jcIxl8o15mnB"
      },
      "source": [
        "## Casino\n",
        "\n",
        "1. What is the question we are trying to answer with this model?\n",
        "  - \n",
        "1. What are our model inputs?\n",
        " -\n",
        "1. What are our model outputs?\n",
        " -\n",
        "1. What constitutes a single \"trial\" in our model?\n",
        " -\n",
        "1. What information do we need to save from each \"trial\"?\n",
        " -\n",
        "1. How do we use our model outputs to answer the question identified above?\n",
        " -\n",
        "\n",
        "## Coins/Dice\n",
        "\n",
        "1. What is the question we are trying to answer with this model?\n",
        " -\n",
        "1. What are our model inputs?\n",
        " -\n",
        "1. What are our model outputs?\n",
        " -\n",
        "1. What constitutes a single \"trial\" in our model?\n",
        " -\n",
        "1. What information do we need to save from each \"trial\"?\n",
        " -\n",
        "1. How do we use our model outputs to answer the question identified above?\n",
        " -\n",
        "\n",
        "## Dart Fundraiser\n",
        "\n",
        "1. What is the question we are trying to answer with this model?\n",
        " -\n",
        "1. What are our model inputs?\n",
        " -\n",
        "1. What are our model outputs?\n",
        " -\n",
        "1. What constitutes a single \"trial\" in our model?\n",
        " -\n",
        "1. What information do we need to save from each \"trial\"?\n",
        " -\n",
        "1. How do we use our model outputs to answer the question identified above?\n",
        " -\n",
        "\n",
        "## Random Walk\n",
        "\n",
        "1. What is the question we are trying to answer with this model?\n",
        " -\n",
        "1. What are our model inputs?\n",
        " -\n",
        "1. What are our model outputs?\n",
        " -\n",
        "1. What constitutes a single \"trial\" in our model?\n",
        " -\n",
        "1. What information do we need to save from each \"trial\"?\n",
        " -\n",
        "1. How do we use our model outputs to answer the question identified above?\n",
        " -"
      ]
    },
    {
      "cell_type": "markdown",
      "metadata": {
        "id": "CPGzNCo16KEl"
      },
      "source": [
        "# Analyzing code\n"
      ]
    },
    {
      "cell_type": "markdown",
      "metadata": {
        "id": "rNRt_yqM6mZA"
      },
      "source": [
        "\n",
        "Go back to your assigned model. In the most complete version of the code for that model, identify what parts of the code correspond to the following questions you answered above.\n",
        "\n",
        "1. What are our model inputs?\n",
        "1. What are our model outputs?\n",
        "1. What constitutes a single \"trial\" in our model?\n",
        "1. What information do we need to save from each \"trial\"?\n",
        "1. How do we use our model outputs to answer the question identified above?"
      ]
    }
  ],
  "metadata": {
    "colab": {
      "authorship_tag": "ABX9TyOXdgt8Of46o0qAnFpij4FP",
      "provenance": []
    },
    "kernelspec": {
      "display_name": "Python 3",
      "name": "python3"
    },
    "language_info": {
      "name": "python"
    }
  },
  "nbformat": 4,
  "nbformat_minor": 0
}
