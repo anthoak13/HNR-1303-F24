{
  "cells": [
    {
      "cell_type": "markdown",
      "metadata": {
        "id": "NMkqnU-q0aVW"
      },
      "source": [
        "# Admin\n",
        "\n",
        "Reflections from week 1 graded.\n",
        "    - Feel free to update Week 2 reflections. I will grade those tomorrow if you would like to make changes based on feedback before then."
      ]
    },
    {
      "cell_type": "markdown",
      "metadata": {
        "id": "sXgA6r7m2kl4"
      },
      "source": [
        "# In Class Disscussion\n",
        "\n",
        "Look at previous Monte Carlo models we have encountered. Your task is to answer these questions (in narrative form):\n",
        "\n",
        "1. What is the question we are trying to answer with this model?\n",
        "1. What are our model inputs?\n",
        "1. What are our model outputs?\n",
        "1. What constitutes a single \"trial\" in our model?\n",
        "1. What information do we need to save from each \"trial\"?\n",
        "1. How do we use our model outputs to answer the question identified above?\n",
        "\n",
        "\n",
        "## Models and groups\n",
        "\n",
        "- Casino example (Day 2, `01-02-modeling-examples`): Ryan/Jessie, Daniel/Dalila\n",
        "- Coin Flip and Rolling Doubles (Day 3, `02-01-random` Exercises 2 and 4): Heather/Paul, Izzy M./Sterling\n",
        "- The dart fundraiser (Day 4, `02-02-game`): Lily/Brandon, Izzy J./Gray\n",
        "- Mosquito random walk (Day 5, `02-03-random-walk`): Frank/Sara, Nora/Sawyer/Olivia, Aliyah/Evan\n"
      ]
    },
    {
      "cell_type": "markdown",
      "metadata": {
        "id": "DBhc_4AH4P2e"
      },
      "source": [
        "# Reporting out"
      ]
    },
    {
      "cell_type": "markdown",
      "metadata": {
        "id": "jcIxl8o15mnB"
      },
      "source": [
        "## Casino\n",
        "\n",
        "1. What is the question we are trying to answer with this model?\n",
        "  - How much money does a casino expect to make from one person ?\n",
        "1. What are our model inputs?\n",
        " - Number of bets\n",
        " - Amount of money per bet\n",
        " - House edge\n",
        "1. What are our model outputs?\n",
        " - Amount of money person has per trial\n",
        " - Profit\n",
        "1. What constitutes a single \"trial\" in our model?\n",
        " - Single bet\n",
        "1. What information do we need to save from each \"trial\"?\n",
        " - Saved amount of money player current has\n",
        "1. How do we use our model outputs to answer the question identified above?\n",
        " - Per bet: total profit/total bets\n",
        "\n",
        "\n",
        "## Coins/Dice\n",
        "\n",
        "1. What is the question we are trying to answer with this model?\n",
        " - What's the probability of getting heads for a fair coin flip?\n",
        "1. What are our model inputs?\n",
        " - Number of times you flip coin\n",
        "1. What are our model outputs?\n",
        " - Number of times you get heads\n",
        "1. What constitutes a single \"trial\" in our model?\n",
        " - Single coin flip\n",
        "1. What information do we need to save from each \"trial\"?\n",
        " - Save if heads (increment counter)\n",
        "1. How do we use our model outputs to answer the question identified above?\n",
        " - Prob = Number heads/total flips\n",
        "\n",
        "## Dart Fundraiser\n",
        "\n",
        "1. What is the question we are trying to answer with this model?\n",
        " - What is the expected profit of the total fundraiser?\n",
        "1. What are our model inputs?\n",
        " - Radii of circles\n",
        " - Price per throw\n",
        " - Number of throws\n",
        " - Payout per circle\n",
        " - Size of board\n",
        "1. What are our model outputs?\n",
        " - Profit\n",
        " - Payout\n",
        " - Gross\n",
        " - Where darts landed (number in each circle)\n",
        "1. What constitutes a single \"trial\" in our model?\n",
        " - One dart throw\n",
        "1. What information do we need to save from each \"trial\"?\n",
        " - Where it landed\n",
        " - Which circle it lands in\n",
        "1. How do we use our model outputs to answer the question identified above?\n",
        " - Gross = throws * price\n",
        " - Payout = payout * n in circle + ....\n",
        " - Profit = Gross - Payout\n",
        "\n",
        "## Random Walk\n",
        "\n",
        "1. What is the question we are trying to answer with this model?\n",
        " - How far does a mosquito die from where it is born?\n",
        "1. What are our model inputs?\n",
        " - Number of mosquito\n",
        " - Number of moves (or stages)\n",
        "1. What are our model outputs?\n",
        " - Prob of where mosquitos ended up\n",
        "\n",
        "1. What constitutes a single \"trial\" in our model?\n",
        " - One random walk (1 mosquito moving all stages)\n",
        " - The life of one mosquito\n",
        "1. What information do we need to save from each \"trial\"?\n",
        " - Where the mosquito died\n",
        "1. How do we use our model outputs to answer the question identified above?\n",
        " - Propotion of where mosquitos died to total mosquitos"
      ]
    },
    {
      "cell_type": "markdown",
      "metadata": {
        "id": "CPGzNCo16KEl"
      },
      "source": [
        "# Analyzing code\n"
      ]
    },
    {
      "cell_type": "markdown",
      "metadata": {
        "id": "rNRt_yqM6mZA"
      },
      "source": [
        "\n",
        "Go back to your assigned model. In the most complete version of the code for that model, identify what parts of the code correspond to the following questions you answered above.\n",
        "\n",
        "1. What are our model inputs?\n",
        "1. What are our model outputs?\n",
        "1. What constitutes a single \"trial\" in our model?\n",
        "1. What information do we need to save from each \"trial\"?\n",
        "1. How do we use our model outputs to answer the question identified above?"
      ]
    }
  ],
  "metadata": {
    "colab": {
      "provenance": []
    },
    "kernelspec": {
      "display_name": "Python 3",
      "name": "python3"
    },
    "language_info": {
      "name": "python"
    }
  },
  "nbformat": 4,
  "nbformat_minor": 0
}