{
  "nbformat": 4,
  "nbformat_minor": 0,
  "metadata": {
    "colab": {
      "provenance": [],
      "authorship_tag": "ABX9TyO7UMIvUGXhUQPJXuC5ZGn0"
    },
    "kernelspec": {
      "name": "python3",
      "display_name": "Python 3"
    },
    "language_info": {
      "name": "python"
    }
  },
  "cells": [
    {
      "cell_type": "markdown",
      "source": [
        "After reading Fama's *Random Walks in Stock Market Prices* answer the following questions."
      ],
      "metadata": {
        "id": "Te1-z1voOjCP"
      }
    },
    {
      "cell_type": "markdown",
      "source": [
        "1. Where in our previous models have we encountered behavior that could count as a random walk? Why would you classify those models (or parts of those models) as random walks?\n",
        "\n",
        "1. How does Fama's description of stock prices as a random walk compare to the random walks you've identified above? What similarities or differences can you identify in these applications?\n",
        "\n",
        "1. Fama introduces the concept of an \"efficient market\" where all available information is reflected in stock prices. How does this notion of efficiency lead to using randomness to model the stock market?\n",
        "\n",
        "1. How is this use of randomness similar or different from the other senarios where we have used random walks?\n",
        "\n",
        "1. Does the past impact the future in Fama's model? How does this compare to the role of past events in the neutron transport or epidemic models?\"\n",
        "\n",
        "1. Based on Fama's explanation and the other examples you've studied how would you define a random walk? Provide an example of a random walk that we have not studied and explain how it meets your definition."
      ],
      "metadata": {
        "id": "qVmYHoMpOqfE"
      }
    }
  ]
}