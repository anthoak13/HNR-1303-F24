{
  "cells": [
    {
      "cell_type": "code",
      "execution_count": null,
      "metadata": {
        "id": "IaSkOJQVxuQI"
      },
      "outputs": [],
      "source": [
        "import numpy as np\n",
        "import matplotlib.pyplot as plt\n",
        "import random as rand"
      ]
    },
    {
      "cell_type": "markdown",
      "metadata": {
        "id": "BHNxVyc9xuQJ"
      },
      "source": [
        "# Random Walk\n",
        "\n",
        "This exercise is based on Module 9.5 in *Introduction to Computational Science* by Shiflet and Shiflet.\n",
        "\n",
        "Many physical processes are a result of an object traveling in a medium through random collisions with molecules or atoms in the medium. Examples include a pollen particle in a fluid, calcium traveling through a bone, or a photon generated in the interior of the sun traveling to the surface. One way to simulate this process is a *random walk*.\n",
        "\n",
        "In this notebook, you will:\n",
        "\n",
        "1. randomly select steps for the object.\n",
        "1. visualize the path of the object.\n",
        "1. calculate the distance traveled from its starting location.\n",
        "\n",
        "Many other processes can be simulated in a similar manner, like the price of individual stocks in the stock market.\n",
        "\n",
        "## Background\n",
        "\n",
        "Sir Ronald Ross (1857-1932) was a British medical doctor who received the 1902 Nobel Prize in Medicine for his work on malaria. He was not a mathematician by trade, but he was interested in calculating the distance of a mosquito-carried disease from a breeding pool. In September 1904, at the International Congress of Arts and Science in St. Louis, Ross gave a presentation on how to mathematically model the spread of mosquitoes from such a breeding pool.\n",
        "\n",
        "Introducing the topic, he says:\n",
        "\n",
        "\"Suppose that a mosquito is born at a given point, and that during its life wanders about, to and from, to left or to right, where it wills, in search of food or mating, over a country which is uniformly attractive to it. After a time, it will die. What are the probabilities that its dead body will be found at a given distance from its birthplace? That is really the problem which governs the whole of this great subject of the prophylaxis of malaria.\"\n",
        "\n",
        "He also says:\n",
        "\n",
        "\"The answer depends upon the distance which a mosquito can traverse, not during a single flight, but during its whole life; and so upon certain laws of probability, which must govern its wanderings to and fro upon the face of the earth\"\n",
        "\n",
        "Ross considered the mosquito's life to be divided into $n$ stages. During each stage, it travels a total distance $L$ in the air. He considered mosquitos traveling in all directions, but for mathematical simplicity he considered a single mosquito to travel along one axis only (i.e. one dimension). During each stage, the mosquito randomly decides *twice* to fly forward or backward a distance $L/2$, with equal probability 1/2 of flying forward or backward.\n",
        "\n",
        "Ross did not give this process a name; however, today mathematicians and scientists call this a *one-dimensional random walk*.\n",
        "\n",
        "Ross calculated the probability of finding a dead mosquito at a distance $L$, $2L$, $3L$, etc. for $n$ stages. As a specific example, he considered 1024 mosquitos with $n=5$ stages. The expected number of mosquitos at each possible distance from the breeding pool is shown below.\n",
        "\n",
        "Distance from the breeding pool | Number of dead mosquitos\n",
        ":---: | :---:\n",
        "0 | 252\n",
        "L | 420\n",
        "2L | 240\n",
        "3L | 90\n",
        "4L | 20\n",
        "5L | 2\n",
        "\n"
      ]
    },
    {
      "cell_type": "markdown",
      "metadata": {
        "id": "CsSF35oZxuQK"
      },
      "source": [
        "## Exercise 1\n",
        "\n",
        "1. Use Python to calculate the probability of finding a dead mosquito at each of the distances in the table above.\n",
        "(Hint: What is the number of \"good events\" at each distance step? What is the denominator or total number of mosquitos?)\n",
        "2. In a new text cell below, copy and paste the markdown for the above table, and add a third column that shows the probability you calculated for each distance."
      ]
    },
    {
      "cell_type": "code",
      "execution_count": null,
      "metadata": {
        "id": "ZrDZMz0exuQL"
      },
      "outputs": [],
      "source": []
    },
    {
      "cell_type": "markdown",
      "metadata": {
        "id": "wKc67hT0xuQL"
      },
      "source": [
        "\n",
        "## Mosquito Model\n",
        "\n",
        "Let's define a Cartesian coordinate system with $+x$ to the right and $+y$ pointing up. An object can only be at a location on the grid given by integers $(x,y)$. In other words, the location of the object given by the coordinate pair could be something like $(0,1)$ or $(-10,15)$ but not $(3.5,1)$.  A movement from one location to another is called a *displacement*.\n",
        "\n",
        "- The mosquito will fly along the x-axis at $y=0$.\n",
        "- In each stage, a mosquito will fly a total distance of $L$ by taking **two** random \"steps\", of distance $L/2$ to the right or to the left, with equal probability.\n",
        "- A step to the right is $\\Delta x = +L/2$. $\\Delta x$ is read \"delta x\" and means \"change in x\".\n",
        "- A step to the left is $\\Delta x = -L/2$.\n",
        "- Use $L=1$ for simplicity.\n",
        "\n",
        "In the rest of the notebook, we will create a grid and move the mosquito randomly along the x-axis. Since we are only moving along the x-axis, we say this is a one-dimensional random walk.\n"
      ]
    },
    {
      "cell_type": "markdown",
      "metadata": {
        "id": "cEQeXDSdxuQM"
      },
      "source": [
        "## One Mosquito\n",
        "\n",
        "Below is the code to run the random walk for a single mosquito. For each of the items below identify which line of code is responsible for that part of the walk. Copy that line(s) of code and add it to the markdown in this text cell. In markdown you can format code like \\`code\\`, which will format like `code`. I have done this for the first item in the list.\n",
        "\n",
        "- Set the number of stages we will walk: ` N = 5 #total number of stages`\n",
        "- Set the initial position of the mosquito:\n",
        "- Loop over the total number of stages:\n",
        "- Randomly pick 0 or 1 to determine if we step right or left:\n",
        "- Calculate the total distance traveled in the stage:\n",
        "- Update the x position after each stage:\n",
        "- Print the x position after each stage:"
      ]
    },
    {
      "cell_type": "code",
      "execution_count": null,
      "metadata": {
        "colab": {
          "base_uri": "https://localhost:8080/"
        },
        "id": "7iR8Gy6hxuQM",
        "outputId": "93ccff29-1c7f-4305-a376-2d7461e5683a"
      },
      "outputs": [
        {
          "name": "stdout",
          "output_type": "stream",
          "text": [
            "Stage 0, x = 0\n",
            "Stage 1, x = 0.0\n",
            "Stage 2, x = -1.0\n",
            "Stage 3, x = -1.0\n",
            "Stage 4, x = 0.0\n",
            "Stage 5, x = -1.0\n"
          ]
        }
      ],
      "source": [
        "N = 5 #total number of stages\n",
        "L = 1 #length of two steps in the same direction\n",
        "\n",
        "#starting position\n",
        "x = 0\n",
        "\n",
        "print(f\"Stage 0, x = {x}\")\n",
        "\n",
        "#loop over the number of stages\n",
        "for i in range(N):\n",
        "\n",
        "    #step right or left\n",
        "    r = rand.randint(0,1)\n",
        "    if r == 0:\n",
        "        dx1 = L/2 #step right\n",
        "    else:\n",
        "        dx1 = - L/2 #step left\n",
        "\n",
        "    #step right or left\n",
        "    r = rand.randint(0,1)\n",
        "    if r == 0:\n",
        "        dx2 = L/2 #step right\n",
        "    else:\n",
        "        dx2 = - L/2 #step left\n",
        "\n",
        "    dx = dx1 + dx2 #total displacement\n",
        "    x = x + dx #update the value of x\n",
        "\n",
        "    print(f\"Stage {i+1}, x = {x}\")\n"
      ]
    },
    {
      "cell_type": "markdown",
      "metadata": {
        "id": "J3JZWXVqxuQN"
      },
      "source": [
        "## Using Python Functions\n",
        "\n",
        "Use a Python function to do a random walk and return the final x position. I took the previous program, removed the `print` statements, and put it into a function. The variable `N` is passed to the function.\n"
      ]
    },
    {
      "cell_type": "code",
      "execution_count": null,
      "metadata": {
        "id": "xrDHVeN6xuQN"
      },
      "outputs": [],
      "source": [
        "# input: N, the number of stages\n",
        "# returns: final position of mosquito\n",
        "def randomwalk1D(N): \n",
        "    L = 1 #length of two steps in the same direction\n",
        "\n",
        "    #starting position\n",
        "    x = 0\n",
        "\n",
        "    #loop over the number of stages\n",
        "    for i in range(N):\n",
        "\n",
        "        #step right or left\n",
        "        r = rand.randint(0,1)\n",
        "        if r == 0:\n",
        "            dx1 = L/2 #step right\n",
        "        else:\n",
        "            dx1 = - L/2 #step left\n",
        "\n",
        "        #step right or left\n",
        "        r = rand.randint(0,1)\n",
        "        if r == 0:\n",
        "            dx2 = L/2 #step right\n",
        "        else:\n",
        "            dx2 = - L/2 #step left\n",
        "\n",
        "        dx = dx1 + dx2 #total displacement\n",
        "        x = x + dx #update the value of x\n",
        "\n",
        "    return x\n"
      ]
    },
    {
      "cell_type": "markdown",
      "metadata": {
        "id": "7GZ8prbixuQO"
      },
      "source": [
        "To get the final x position of a mosquito, call the function and pass it the number of stages as shown below."
      ]
    },
    {
      "cell_type": "code",
      "execution_count": null,
      "metadata": {
        "colab": {
          "base_uri": "https://localhost:8080/"
        },
        "id": "Rj0gTZw4xuQQ",
        "outputId": "6cdff657-1a10-470b-f4df-e0ee95ac26c0"
      },
      "outputs": [
        {
          "name": "stdout",
          "output_type": "stream",
          "text": [
            "final x = 2.0\n"
          ]
        }
      ],
      "source": [
        "Nstages = 5\n",
        "\n",
        "x=randomwalk1D(Nstages)\n",
        "print(f\"final x = {x}\")"
      ]
    },
    {
      "cell_type": "markdown",
      "metadata": {
        "id": "Vvsd__T0IYBM"
      },
      "source": [
        "Using the above code as an example, calculate and print the distance traveled by a single mosquito after undergoing a random walk for 10 stages in the code cell below."
      ]
    },
    {
      "cell_type": "code",
      "execution_count": null,
      "metadata": {
        "id": "S4DtWCWqIXMh"
      },
      "outputs": [],
      "source": []
    },
    {
      "cell_type": "markdown",
      "metadata": {
        "id": "_Z8S09SWxuQR"
      },
      "source": [
        "## Modeling Many Mosquitos\n",
        "\n",
        "We want to model the *random walk* of 1024 mosquitos. Our overall goal will be to calculate the number of mosquitoes that end up 1, 2, 3, etc. units away from the starting point.\n",
        "\n",
        "We need a loop to run 1024 times. **Create a loop below and call the function `randomwalk1D`.** Run the loop 1024 times. Note that when testing, run the loop fewer times (maybe 10 times) and print each final x-position.\n",
        "\n",
        "Hints: You can use your solution to Exercise 1 of the 02-01-random notebook as an example. How will you need to change that to run the random walk rather than roll a di?"
      ]
    },
    {
      "cell_type": "code",
      "execution_count": null,
      "metadata": {
        "id": "m6waLCmExuQR"
      },
      "outputs": [],
      "source": [
        "Nmos = 10 #number of mosquitos\n",
        "\n",
        "#loop\n"
      ]
    },
    {
      "cell_type": "markdown",
      "metadata": {
        "id": "gV73EZ7GxuQR"
      },
      "source": [
        "Now we need to track where the mosquitos end up. After you know your program is working, copy and paste it into the cell below (don't forget to adjust the number of mosquitos up to the full 1024 and remove the print statements!).\n",
        "\n",
        "To track the mosquitos we need to...\n",
        "1. Add variables to track the final position of the mosquito (i.e. `N0`, `N1`, `N2`, etc.)\n",
        "1. Add code *inside the loop* to:\n",
        "  - calculate the distance of the final x position of the mosquito (hint: $|x|$ can be expressed in Python code as `np.abs(x)`)\n",
        "  - count the number of times each distance $L$, $2L$, $3L$... occurs by updating the variables we created in step 2. (hint: this is similar to how we tracked which circle the dart landed in on Wendsday. You will need a series of conditional statements.)\n"
      ]
    },
    {
      "cell_type": "code",
      "execution_count": null,
      "metadata": {
        "id": "yuIOlrg7xuQR"
      },
      "outputs": [],
      "source": []
    },
    {
      "cell_type": "markdown",
      "metadata": {
        "id": "WMLAK5PExuQR"
      },
      "source": [
        "Once you are confident your code is working in the cell above (i.e., you are properly tracking the final positions of the mosquitos.)\n",
        "\n",
        "Copy and paste your program into the cell below. Then, after the loop, calculate the percentage of mosquitos that die at each distance--this is the probability--and compare your results to the table given by Ross. (In Excerise 1 you already calcualted the probability, how can you adjust that code?)"
      ]
    },
    {
      "cell_type": "code",
      "execution_count": null,
      "metadata": {
        "id": "SXp2ypgrxuQS"
      },
      "outputs": [],
      "source": []
    },
    {
      "cell_type": "markdown",
      "metadata": {
        "id": "b1uJUnn2xuQS"
      },
      "source": [
        "## Exercise 2\n",
        "\n",
        "Run your program modeling 1024 mosquitos multiple times and observe the results each time. Remember to record your answers in narritive format (i.e. full sentances)\n",
        "\n",
        "1. Do the percentages (i.e. probabilities) for each distance change?\n",
        "\n",
        "2. How can you change your program in order to better estimate the expected percentage of mosquitos at each distance? Make your suggested change.\n",
        "\n",
        "Compare your results to the table by Ross."
      ]
    },
    {
      "cell_type": "code",
      "execution_count": null,
      "metadata": {
        "id": "Ihvs-pdxxuQS"
      },
      "outputs": [],
      "source": []
    },
    {
      "cell_type": "code",
      "execution_count": null,
      "metadata": {
        "id": "bCmCs3qHxuQS"
      },
      "outputs": [],
      "source": []
    }
  ],
  "metadata": {
    "colab": {
      "provenance": []
    },
    "kernelspec": {
      "display_name": "Python 3",
      "language": "python",
      "name": "python3"
    },
    "language_info": {
      "codemirror_mode": {
        "name": "ipython",
        "version": 3
      },
      "file_extension": ".py",
      "mimetype": "text/x-python",
      "name": "python",
      "nbconvert_exporter": "python",
      "pygments_lexer": "ipython3",
      "version": "3.7.7"
    }
  },
  "nbformat": 4,
  "nbformat_minor": 0
}
