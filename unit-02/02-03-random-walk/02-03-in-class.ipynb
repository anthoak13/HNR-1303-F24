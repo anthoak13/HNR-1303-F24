{
  "nbformat": 4,
  "nbformat_minor": 0,
  "metadata": {
    "colab": {
      "provenance": [],
      "authorship_tag": "ABX9TyO0KNXbmBYnbiDJ12F7NCGL"
    },
    "kernelspec": {
      "name": "python3",
      "display_name": "Python 3"
    },
    "language_info": {
      "name": "python"
    }
  },
  "cells": [
    {
      "cell_type": "markdown",
      "source": [
        "# In Class Discussion"
      ],
      "metadata": {
        "id": "d66bGKCXfXTV"
      }
    },
    {
      "cell_type": "markdown",
      "source": [
        "## Administrative Updates\n",
        "\n",
        "- Reflections will be graded by Tuesday (hopefully today but depends)\n",
        "- Reminder of Blackboard resources on the various tools used in this course (Jupyter, markdown, latex, python, etc). It's located in `Course Information/Tools`.\n",
        "\n",
        "![image.png](data:image/png;base64,iVBORw0KGgoAAAANSUhEUgAAAQAAAAC2CAYAAAA2llO6AAAfxUlEQVR4Xu2dO1orOROGi5VMMj6BH6/ArOD3JESkziDECZlDMhITQuaUiGTMCmAFfgiOCc6shL8ktboltVqXvkkN5WjmoO7W9VOppHp19oU/+IG///77D/76668fWHJRZCo/tT/r/2d//vz5kQLwY0c+FZxqQKmBM7IAfmZ/IAuALABuAZAAkAD8xBogARQCSALwE3s/+QDIB1L4wEgASAB+ZA2QBUAWAO0C0C7IjxQ/dRdIswA+X69hvXqCd14tS7ja7eHx5u+8KunzAc5nz3B5eoMuWdNngE94OJ/BRhRclP5qB/vHG8is9L21hW0G/Hw4h9nHFr4e/9fbd8wXfb4+wD38A4//S1uzZAGYFgAO/rPVEXZyYPGBtgH8B3jrMtJ67Eqs86zvNvD+vqzy2fL9NgF4vizK+vkK17MVHDMqe8tiNj6WSgBer89gBYdBRSakrkgANAEQM2A5AIoa5DPC8yWc3nKYCXFQnr/AxXYOd6thLAC1/GPMhiEddag0qQRgqPLEvpcEQBWAILNaiMTH5QHgeQVPC6ni+O/Xa9g8Ffbz8goO+0cQFh4O2rMVwOELTb5SVdCy+IDtF6Yp/47vvMN3slew59/Y3xp+QXn1dwenBYCPVwIwq4sjz0NRBvzv6/UG877Ep96NpUNRZ9sTzF9kHeWxtAoSAGYJrYt2YUvCAy4JC9P98wGXi5tiuYhttsM2l4ai62/MAribK1al4xv+VmyfggSgJgByUDaOPLFOBjbAb3GAsxEuLYcD7G/+x9fLutUQJgBPy11hZXzC6/XMbSKOIQDFEkAKl2kJaeKA4vdx8VYInBzwUvAK3wKvs0IU+VKLaaJD5Nr36+An/QJgWIW8Tu5gzpaIoAgg1/lrOH+5QJ8J9gFVHM2/8aSqADi+MbCLgATAIQB8nfYk+xJ2Xt5Zzc7NR7sym8v06qAPEwDNQvANkAEFQHMCaut/Vo6i8/9tqQdp3Hx+wul+psxwtrTqu4LHa+8JvQJgadtq8J64ZXfcVcJfZVC0uf1vhgA4vzGsApAAhCwBtAYKFQA1XQsBsIqK0v8HFIDKB1D3ieidH30RxQwud07Y0mWxADgeUTmlM9EmmnzZI8Wk93Ed/EKvAHAhfoLlki1txO/9HZc4UhjRIni4v4NnXLe9G0sAcPxNswB83wguTXxCEoAAJyAz7c7u5qV5zn0A26b1/PQtAM0JqpVdmLm8LrYfMENzl2+VeWew72UBNC4OsW5mZT/RUzGBVP+mCYBP7OPHdfATJABN24Do6Llhjp7aVpitM9dnSn29bP6drfHXuLxYFMsKYSE8XR3gxNaPOGNm4QPg3cicqcX/H5fvsJAiaHbgoDrL1AJgszY6/Ewr6AMdmMLxh23zcA+/f93CzexfOF8D7OXukLpsY3XS9LcGH4D1GwOfEyABsJwEdB8Ealr7unYBxMx5Lg8XMVMRt/GeV8YuwG6HOwvMk47pS4egIebFuQTlrA4mkP6JYOEvE/p2ASoHZ+WxFr4R/QzC6/U5/huaxsxUXmzhEl2Yz6WXexoWABdtdIDUDj9pHnr9cFRVbr73ge2KzsFi68b9N9cuwHgHsEgAsjgKbPERxI/lVk+06QB5nYtoVewGAez2rik+3ab9p1jOpjzL8icOBpqSAKTL6xAdjwYA8QAyCAdON6iiBoD0Vn+j+ICo8g+hQInfSeXPYgmQrhdQB6AZkJiQxARMp0D0ZaqBDGogsQ8gXQ2QBUAWAFkAhARLp0CJv0wCSAKYgRMw3SigAUADgCwAsgDSKVDiL5MAkgCSBUBMvMQylO7zJIDRR4HTNZb4sowjKIiFHffkzQ6gh0Dj53xgkqjqaA4hjnpNj4lt5ddAHazGByNCpa8PEoCJMQHFeXUMIjoxsIYdYRYzPtwDgMU3IPzkKEElMW+2pU3f4c1cjS0AjBL0LwskKgKLapGlXas48nkSgIBw4OFmgMjWwuQmSqpr3rwDwAcmiSoCCYCNBKSFlkfVZ/fEJAAhQBCtnjNhAhZ56grtjBYAJ/vPBz6ZigAg4eefWdnqp38xdFuFwrr4fY31YyLXWQTnLfzmbAkHK7HxW039ME4USACmygQs/AE2inFMF4hbAoiQ52b23/cQgAoDp9SkwmvU6lxlBLIlmbN+7CzADeyQlXgjALKaxeViBaqcRcmmjGl5kZYEYKpMwGI5sOq4Pu/iBPyssf++hwA4nYBe+lE1COv1YxcAfQmggFJM6Ki2BARBp1bJVPHjnwRAuxuwibOXIROwdAZ2pOp6lwBGp3Kz/36AAHj4fe76iRSAk4tHSALQQu9qjxg8gAavemZMwL4Gv80ErPHq1Srzzn4/QABc/D5v/UQKgMUCUOwLsgB6UIA6EEReDZYpE1DfBuxeA1EWQCD7T+Xp6ezDqTgB9WvgbHzHRkZgedkLto3lajX/LoANvW7hESJ2jJYA/fX/iMtBUzIBC3hordx9MQHr24zmp9zsP+HEamYfskM14iadXO5aDBHA2lZrECPQxkZkoiDumnznHEe5C6AQpk0Ia+O3+hFTcgJmAQSZCBGou+Bm9wYaABQLkEEsAAlAKmUgASABIAGgYKBU+pP8uySAWSwB0vUD6gA0AxIPgJiA6RSIvkw1kEENEBMwg0ZIkQWygMgCysAHkKLri2/SAKABQEsAQoKlU6DEXyYBJAEkC4B2ARLLULrPkwDSLgCQCfhXuhGY+MskAJNjArLTtuIqbvarXWUd2aFCjsKyV36+PsA9/AOPmaCsIovZmFwvvwnt4BUMu/0j3LBY/bF+roCjnvNAAjAxJmAJjFCYgJvFAb4ei0vpIztIqABwWCjI7/RzDj0yq4MktwmAFsz0gDQgxmDsGHYdlXkSgKjq6pI4KBy4K3evSwbNZ61MwI/t4AKg5+OnCAAzfVjwzgdsSQD67MbZvEsXgCYgiJbdnJiAQ1OBq4I3h7Fa8pBi0LTsUl4LABFfq+MlnN5u4G9EsvMQ3MsDwPMKnqTl5eQkSrF0cf8e4Hq9Ab6qY0uO7Rxfr4qOQI1timUfR7XjsoSvxmSeXFxBR93QEmCiTEDJ719eIcASzf+2S9SYJUCFytItANNC6goqbTmWWz3m9QHAEiOX9+gDYDVs4/D5OIDqM8WgdXH/+L0PM/TxyBBvKbDYzjeinW18gg0LL5aiEEFyJgGYMBNQXBKCnaVcm8ePgT4EAN2ScH12B/PTGw6UaS0P3BaAXAJsYHFgMfv+stU5gLZn3Nw/bdlhtabU6FHP+z0zAwlACBY8QyZgOdQ7mtv9CIAKEjmhGLzAxZhr5njdK5/wCgCmrBygMyuFx80B9AxQzv0D3cmotqm1fdV3kgB0aP7yJGwRC5A7E9DS2JkIAN+duJvDafsBs5eL1k7JLo3Z5tnOAuDlAJIF0KZdxnpmckxAPhuVKPBclgCsuYRZe1y+w6Ijqnqsxmff8QkAO/+wXjmWAIGcxEb0d+16tyYfQMUptDMKHVgxcgI21kBdANiyD2ezNd4OURy1gavdHh7LkyApmYDC6ytAm8MdBNIuxiguxDih8Ki8fBvbTzgmmdOM+QLGHMbtvxXiBKza3972bk5igIle7iJ02QUgAWjTC6wC0OZF3Z75HkiwnM5LhLYHOcEoGCiDYKDvIADpyhA62G3pSABIAEgAukYDyttyrnZ4JoEdmJnOjwSABCADAUg3YGgA0ACgaFBiAqZTIPoy1UAGNUBMwAwaIUUWyAIiC4iWAF19AClGbk/fJAEgASABIAHoSU6m9xoSQEKCERKMBHB6ytVTjjM5CNRTaVq8hmYAMoFpF8DAgruPArcYZQM9wk/edcRV2aIBtaPA7HTqrjqH3m9R/OG1/X6v/raaAKrXmyML4OqAx8AFeeNb/mgCmBoTUHZD7Z55BE207J6h4cAtX+95LDcBkKcZT3zQs4lgtjpOKrYhtp1IADQBsIcD53jGnQWgvMACnp6MWPLIHkACoCwBaqG9jPZzD3A7MhU4sg27JCcBCAGCaDWcAROQddT7X/B28VKHSUT2hnABGIKHZ1gAhVUj6DuRBWmZXCu//D4uearoT+XFIey/KF5gy0z3+BgJwOSYgGzQrAH2GHJro8lEdg6/D0CG9w7HwxOx8sL8Pg7mb7BXjFn+yv+zRPbmFva3yOGT8E0Mw/64eCvEyVy+tKmfyMYaIDkJwNSYgCzwRhJ3IuCPTX0n2gJwwD6ieXglPxApu3cKZXeAjh5a/tLFwi5CuWOkXjvfIKys+lfrz4xY0IZPkQCELAGyYQKq8E1s0QwEoBMPT9Jw0Nv+jnyTFCAR9wDQfULxZa3gMgzlvVgAHI/otLkcalclXlBIAAKcgCXvTmXDqzOhl9xqiZXXnrH83Ta4S89/vaGvWq6bO1kAXXl4CkH44oXRhCQKO74jt31CLb/N2VsCQW9/1y4Iab4rociNt37a5rq/50gAmrYBcf/3hu3/fuLgnKlrU9vWVX33wMZt066c4lgveeWUEIAnZPyfOOM/kPWX2gLoiYcnfAByDb0rLuHor5O73mR1Ah7ENqDAcxc8wJlxQ1BIv/DWzzhlDC5/+uyMngPrScC8mYBKHaUWAL4KEReVLpdLQBooXOItBc9zaeL6eHgNjrQOdx3G9qBmJyB7Ex4EUniQ8WX11U9sbvtPTxZAFrEA6XBa1AHoKDAdBTaOAvevs743kgD4amiov5MAkgBmEA5MAjDUAPe9lwSABCADAfB10+H+TgOABgAtAYgJOJzC0JupBiZQA8QEnEAjDZFFsoDIAqIlABFxhtCWSbyTBDCLbcB0fYU6AM2A5ANIvg1IApCqBkgASQBpCUBLgFT6k/y7JICWJUDeTMAibkDpOm0Dgdgr9A5QnMcXN4+LH0ax7ba3Ii6ip98nC7WFfwJYe8Mjw/ovfz3PenmHL1NMM5EATI4JyATgBS6+2nMA1Q5iGwBq0NLn6z2skRLaJ6WnjLDzYn+GHyz9l7+eZ728w5eJBCC8BoxgoAkwAVmEGQcC9XMLr3sAiIpMx0QcfrD0X35fnn1/D++8faQkCyAECKLVdGImIBeAZ8SBviOthpno3cJnQwaACIt9Ro4FYsjYSiCEjbc9wfxlDRuRSSOq7gzuyohB9j60atYYDs2XHiqKe/jBMlz5K65hCDfgei3oQ4DtuhzxmnUSgKkxAWUI8AmXAAVQY9MhfDZoAIAaq8BIuaFsPJZH7NNG2LJtQJTLDh5nfwdzLjaZCECL8gvGgZg53ALgq88+5vnmd5AATI0JaLYlG1x389YQjXgB0DMQxsbTUWbagHBScwABqDNQB1Pfw2GM8nstAKVQY3MDSQBClgDZMAEt3b8jFCRoABhLgHg2nkMAeP6fBFCk+L0jIFDcRpSJAHQsv08A3PXZt+Tp7yMBmBITEFFhtRlxBAtAcwJ6OXc+CpBhElt5irKT5rEE6Fp+pwB465MEYMgaqCPB+IyE10FlygSUnfGwvyl9ANW2XXxV+SwAOTuV24Bezl2kAJSiVnD4GA/x4R5+/2JnD9JbAH2UP0oAaqzB+DaNeYIsgOiDQE2zknDmCK83c2Yj4XZfOMGEJwjO0dQVjm52uGYOz6sP2PL9/MLJttsBPDNvMEvT5N1nwFAGFBXfWSJIdM9Bou1+bQ7CxLPxHEsAlm1tF4CVaYdlEtucnw/XsN4gSnugC0P6L389z7oA2P7u4iq2a9fQp0gAsggGIiJQaIftOx0NAIoFyCAWgASg74Ed+j4SABIAEgAKBgrVi2+XjgQwiyVAun5FHYBmQOIBEBMwnQLRl6kGMqgBYgJm0AgpskAWEFlAGfgAUnR98U0aADQAaAlASLB0CpT4yySAJIBkAdAuQGIZSvd5EkDaBQAyAf9KNwITf5kEIPoocOIW4ydn8XiscqxYO3IcmT2zA3B81RMeYzaQYzwG4WMLX16MV2QGEievDQD1yLYGJ0mc0YE+bxWAEvhSfJQdXcdj7RwGw38+7mFzZsN5kAMV2HhtczCQQr85n20GO4seXUwZrFTkryuuyy4AmCuMMVAH+88QAHkiUwQmMaGdscAw2ReiGyv/B2wCyMKzrw4yOKuacCoupI972FzucB7kOHVnCED+TEAzsKRrNdkE4A6uAJ6OFQKMaf5PsABqobkswOse4Fad/brWeF7P+6JByzmftf/zZQGeGT5Me6xa0gXAZN9Zc5GSCdh/xVsFAHl9e1grDW4TAFf0Y0MdOVmCYzW5/h2t/Lz9N7DAyMPHyt6tHmjMvzlxFHh1BdUmBPQSdscNaOHbquj42IiXB4wWRXZiBwScWcv18ivsRzWxNjbsFoDgPFpCuJUyItLa4EE+IA8yDQ+RFc8iADJEt6lDFo2Ls+Rhf4sx+TxolYM6nrGB9hjELsJYVcW0BPtos03B+i9DgFnI7wxWoJvhGFOM9bfC5YgaNmyuz+IGUpMAvN2cxLcOgm2nWwC+8jbUkZMlGJfvvlKb5a/8K0sMS97C/hbbk6993ew+rX4KcCu8L4pw72rA3P5W+4Var7OiD7FBhB+0sBE3Wp/rpwbqAtDU/w0upIFqUy1T01pU/7/GRkjcJ5wCIBxisqKlY8wyC1upNmqFhQmAHGz8i1bUVyUUEgjC2QBHaZrFd4pmAcBOqORhpi4BvOX1Wypjs++aaqbJC86dVXdiZrL5AGr5V+uEORJ/X8D2YwUvF0xA1bscVDaCUk8zZn3og68aLMOBUYYQAEGRlmXR+4JrCZuiT4QtAbJhAoaKT7gQOAWA6xCKIFoip/ldtQtgFQA1b3YBSMm+ixUAkV437f0sRH5hA/y6P+MDn832a1xMvf26h7OXi9KpWg0CZmUVl7wkYiP2vwSoLGIOczWErQZHKXa0GCRnsQA4HnHGvSysoPBu3DplkBOQz4QleTd0EA5hAZiIab7WqM0cMbXhEwB5J8CC+QWh2AZsYwEkZt+FCIBtR6X0Wt/+dszQYn9MdO4DXD6/wK83JD0Vl7hsL5/hjgmB9CvI/rT9gJkUhkRsxL6cgLWZnZURy6ZNHGUdyWWOy+ppy7iK6f2mD6A0vfNlAkqzfIf3AjBuPvcVHNtfDuIVAOnP2CCCrNwarO+W6IMnQCRHZt+FCIAQO3QCyi2w8v/rM5lYo6/gqKLK+MA+4umBy+LmJmHuHxF4fImWQeVXlP/+Dovy/gBZZ+OyEfvcBtQue+H+qhfsMzij82WQaAEnEj5Bn6ifA2AdXj1oY9xqYzsEUZqLozABLQeB2GwTJ3xl6hABkGXWLyAJ2AVQLscQjZ+OfRckAJ629+dfWH2qKHALwiLQwr9k+Bca2Yh+n0rL5rcHg3kPAvm5h3Kwm4fKTEvBX6dtSxb2nFUAwh7tMxUhwfqszZh3NTkBY97RJm3XA1xtvml7JlX5+8p/1/eQAPxH0WDjx0KkE3xzwJAAZBEMlK5DUAcYWQClt3/EC0BdsyS1fxYC0NWQaf88dYCRBaB9Uw3yJLV/IQB//vz5GqSG6aVUA1QD2dcAMQGzb6JhMkgzIFlARAQiItAw6jKBt5IAkg+AiEAkgBOQqmGymMk24DCFC3krzQBkAo+/DRrSM8dJQwJA5wDIAiILCDQnoPso8DjKZP9KEQ5c+6M9ZDUkp7ajwHUOQcibQtNIVoAtfqEon4EjC31zm3S2s/DlNe69MgHrx3lz4OORBWj6AAzmngwQGep++jadVnvGyg0If2syAeCxRVWQCMsxPx6rBR2Fl6NtSr38bibg58M1/PvrFm6QFxj/s1N0hhVbfy5JADQBqEe5lR2z5KH5K3XMFF0ZgakE4APji5+O84Ixx2qsipB77xF55WsLNxCDBTxVTMBudd13QI+9r/rKa/6dBEAVgOyZgGbzqXSZ2KYX6Z0CUBxbVd/MZ23AsNcKlcT/zCiy8zuGRVNgDk5wiEjPoREKcuyA+JExZ8W6ANiYgMWyBa0W8SvoUFEMP4H8kuXlkqfx8apw4PnLGjZP7GNLuNrtKz4hIw1huDH/vWMosWFBtekBJAA1AciZCag3cR8RZcEWgAZFUfKh/Dv2cA9IlD2nzIRMSDho5RfcY9z8HPHbjKaTTABY7spQcJMJaB+wpeB5GX4ukGZF0RHcPwzvZv+kLe8MsW9qj0gVIAFwCEB+TEC1dfsxKcMEoMnSMP+9gXenwQrq6LBnnOneF4I2NDY3vmkA2JiATpiFNqPbGH5hAqBaCHJZxITxBhBWwoljNxw625UEJXsSCUDIEiAbJqAiAB1RYE0dwDYAm9a+tn+38u60WckYCIbTNRcBEFnW19laeaMZfh0F4G+yACKNm6DkxjmABsdKRkxAWaq+BorXAggw/TWfuI135xIAo5n6KldQ62MitfxOJmBhnZTYq2iGX1cBkLsk6BlAxBgAIsflUiG0sJZ0ZAE0bQMe9mK7p8Yps5neYYy8ykHGWH6I835aFHfwVfvfJ+xoeClVw70A5fDXmP0d2t/tBGxyijqdpTbeXfjSRRMADtX8QJ7ecDfzWJ2ANiYgLmOanHbsGjFmLbw+3MNvvk04whKgS6Mrz5IARF8O2rT2djHyhEOnPGDCLlvczvGSF+lwtF344QB99uQAYv3AZQGU+/JKh1kiBJPfGsT2641/l9RbK++uTOv2XWgCIJcHB1wDt4UeegaKWX7nIbACEvpu3QXAmbmEfDRg0fEcwXqDkMwCJGoXFPVsRN2nolb7Ei+S2aJPoEvVkABkEQz0vYhAfexO9DTBeV8zmQHAJhDEbO+5hSj8E4wIrZN4vcWtJZhM+eOLFvREJrEA30kA0pUlqMWNRFMZAPJ6LbFEJAFo09a2Z0gA+gwGyox3F9JJpiIA8m5CdkBoKbyAeNkA3l1Y3EUZUlbXAGj7/NSfy0QA0lXjdAbAMHVE5adwaE4EIibgMAOM3ko1MIUaICbgFFppgDySBUAWADEBCQgxgLRM45UkgFlsA6brLNQBaAYkJBj6AL7wl24YpvsyCQAJAAkACUA6BUr8ZRJAEsCaDyBfJqAYLfJKZfbf1fHTdiPJGwzU7rXep+TBFhYCnPJnE4Dc27/P+iIBnBoTUEIiTgwa4Qsa8ncVEgBjBpwaE9LfxM4UJAATYwLWZs6OgUEkAKoATI8J2XH814LBur5vas/rJwGnwAS0WABdAkKcAjAIE1B0kSyXAF3aH5+9Xm/g6Z0d08XjukZkoJ+VmGbokAUwQSbgK7L3VkVc6BIZ+lWEWHwnCrYAAsAgYUzA3AWgJRMS+Q4fF28ccKpxDyXwVKFK5yJ+LKckABNjAuqhtmP5APpkAk5HAIKZkIbufn5+wuleDdUNYSXGi3cfT5AATIoJaAFNdGQDhlgA/TIBcxeAZ7hkEE6Vc+ZjQrI5v6AJo+0PiwXA8YjgDwWR7mcl9jGc499BAhDgBOR4Zo6vZkTW0EGoxsVbYuS1TmX5u/XGn9Bvh3cErwAEmP5xTMCMBcCAgJa12KL9a6LpZSWGt1mfKUkAJsYE5GbpUeLCBl4CDMIE5NMlPKxX1SUiI7D/mgZNbQCUGLIIJqRphdU4kuzrPlZin8M6/F0kAJNjAkqgqGDyDXkQaAgmoHynlu8R2H/BAqCY80UN67fz2CxANryv0TErYR14x8ElXm/yPFduSeJpULyf2l/kGj6sw1OSAGQRDJQOozVEByAmoH0A5lgvQ7R/uPykT5kJEeg7CUC6srTpTuMNgDzrZbzyt2md4Z8hASAmIAweDZcxK5EEIIslwPBKF7MGTpeb8b9MA4CiAYkJOP64oy9SDWRVAwQEyao5xssMWQBkARATkJiA4ylOZl8iASQfwPBOsMw6vZodGgBkAZAFQBZAxhI1bNZIAMkCIAuABHBYlcn47dZzAHkz4fRryBkP4K0DV88+A4igow2YV5TXg5E+Xx/gHv7BOHgtJCiyyd1Xhke+LCq5NRgKA/nU39VBvbI76vXZJyYLYGJMQC0YyBp0EtfnrB2gCAIChNtc7tXQ2PpA5fmBA3SDe+YlAF0IS3G1nz41CUBAOHA+Z7gbwobLUOX4DmXrAJJYc8ChrQ+GoQbqUO/114fNAiAB8Nfbd0mhLwG6MOFYlBhiodj1zfyHYIjDnpF72f+E8gAOAHcr5MoVz7/h81pN+94T3yx1AVAGI6gcBPZuuwUgBgzwZUMj+66Rmae+9wTzF1mHSyMKL75sIU+ECYCHw5Bp2dqUP+SZ75TGIgAtmXC88yOfr7ivXbcafANX/P1p6Y/zlyb3Cdf9DE7yej3rFGJaE4AaqOQO5iUhxyUAmBtkFc6s7LsZF8cmZp4UFuZzOOxvhGhagSj9dz2/DwCF/OsRZqxsH9tyqVNx/ULLpkwII5UtpLZoCTAxJiC3Js4rK2G3ncPzyidazV3B7AAmsFIn27gFQEIvhGA0m/V1Zp4tbROHMKRbh6cJswCY8fMA5zNZz9MoW0gtkABMigloadJemYCF979YxZRfUywTZuZ/bCuvuIm+amLfuZl5ExAAdfkzU8XAxwNMVzYSAH8NGNuA9osh8mEC1gvU1UGpzQBWH4ibaBvEvrOIlM+y0K0Jf0O2TRFsAXBXDvpEXi7gNL+rlgMZly2kTsgCmBQT0BCoYhsQF6kFjz6kyfU0agewi4n6TeHoc1kAVvadl5mXbpaMEgDuzH0BuMKDAhdFnWdctpDeQAIwNSYgG/QI1BSbDd095VUHaLB++PK3cu6hNw/WGxwAO8G7syHDbew7NzMvLwFYOQ4CibIJx6Dcocm1bCQA/hqwngT0P9Z3inS4qCFmgK7Lkr5r1/W+Ico/Zv67fovKn0UswHcSgHRlaTMYaABQNGAG0YDpBk2vAyBj9l2TOPRa/jYKlPgZKn8WFkC6XkAdgGbAwaGo6bq398ulD+DPnz9f3tSUgGqAauBb1sD/ARd2sf4j+ywKAAAAAElFTkSuQmCC)"
      ],
      "metadata": {
        "id": "kQmQYEkIl4sj"
      }
    },
    {
      "cell_type": "markdown",
      "source": [
        "## Random walks"
      ],
      "metadata": {
        "id": "CY7_viXDYmhw"
      }
    },
    {
      "cell_type": "markdown",
      "source": [
        "\n",
        "## Anatomy of a Monte Carlo simulation\n",
        "\n"
      ],
      "metadata": {
        "id": "1_XY2geZjUnh"
      }
    },
    {
      "cell_type": "markdown",
      "source": [
        "\n",
        "### In your groups: What are the main parts that make up all of the simulations we have seen so far?\n",
        "\n",
        "- What is the problem we are trying to answer?\n",
        "  - Should use MC? Yes\n",
        "- Define variables (model inputs)\n",
        "- Define model outputs\n",
        "- Need to write code for a single trial\n",
        "  - incorperate randomness\n",
        "  - Calculate answer to question for trial\n",
        "  - Save the results\n",
        "- Loops to do many times\n",
        "- Simply results (calculate a percentage or graph etc)\n",
        "- Somehow report the answer in code\n",
        "- Report the model (in english)\n",
        "\n"
      ],
      "metadata": {
        "id": "a9bwuczZYuV3"
      }
    },
    {
      "cell_type": "markdown",
      "source": [
        "### My anatomy of a Monte Carlo program\n",
        "\n",
        "- Define inputs to the model (in the form of variables)\n",
        "- Define the outputs of the model (in the form of variables)\n",
        "- How do run a single trial? (could be single random number for dice throw, or $(x,y)$ position for dart throw, or a random walk for a single mosquito). The single trial is usually where the randomization is.\n",
        "- Run many trials in a loop (enough that the Law of Large numbers takes hold so the results are interpretable)\n",
        "- For each trial, evaluate the results and save results in our outputs.\n",
        "- After running all trials calculate the output we are intrested in studying if needed (this might be percentage or the profit in some fundraiser)\n",
        "- Report (print results or graph)"
      ],
      "metadata": {
        "id": "PlCXsrv_YdbZ"
      }
    },
    {
      "cell_type": "markdown",
      "source": [
        "## Practice identifying parts of a monte carlo simulation.\n",
        "\n",
        "Copied below is my completed program template from last Wendsday's notebook (you can also open this on your own laptop so it's easier to see). Identify which lines correspond to the parts of a monte carlo simulation we discussed above:\n",
        "\n"
      ],
      "metadata": {
        "id": "MVrQ_uAEn0L8"
      }
    },
    {
      "cell_type": "code",
      "source": [
        "import random as rand #for random numbers\n",
        "import numpy as np\n",
        "\n",
        "## Start of inputs\n",
        "P = 5 #price per dart\n",
        "Ntosses = 100 #number of darts thrown\n",
        "\n",
        "L = 45 #the length of one side of the dart board in cm\n",
        "Rpurple = 45/2\n",
        "Rblue = 27/2\n",
        "Rred = 9/2\n",
        "\n",
        "Ppurple = 1\n",
        "Pblue = 5\n",
        "Pred = 10\n",
        "## End of inputs\n",
        "\n",
        "## Start of outputs (updated each trial)\n",
        "Npurple = 0\n",
        "Nblue = 0\n",
        "Nred = 0\n",
        "\n",
        "xmodel = []\n",
        "ymodel = []\n",
        "## End of outputs\n",
        "\n",
        "## Run many trials\n",
        "for i in range(1,Ntosses+1):\n",
        "\n",
        "    ## Start of single trial\n",
        "    x = rand.uniform(-L/2, L/2) #should be a random number\n",
        "    y = rand.uniform(-L/2, L/2) #should be a random number\n",
        "    ## End of single trial\n",
        "\n",
        "\n",
        "    ## Start evaluating results of trial and saving result\n",
        "    xmodel.append(x)\n",
        "    ymodel.append(y)\n",
        "\n",
        "    ######\n",
        "    # See if the x,y coordinates of a dart is within each circle and count Npurple, Nblue, or Nred\n",
        "    d = np.sqrt(x**2+y**2)\n",
        "    if d < Rred:\n",
        "      Nred += 1\n",
        "    elif d < Rblue: # could also do: if d > Rred and d < Rblue\n",
        "      Nblue += 1\n",
        "    elif d < Rpurple: # could also do: if d > Rblue and d < Rpurple\n",
        "      Npurple += 1\n",
        "    ######\n",
        "\n",
        "    ## End evaluating results of trial and saving result\n",
        "\n",
        "## Start calculating output to study\n",
        "gross = P*Ntosses\n",
        "loss = Ppurple*Npurple + Pblue*Nblue + Pred*Nred\n",
        "## End calcualting output to study\n",
        "\n",
        "## Start reporting results\n",
        "print(\"Percent in red = {:.2f}%\".format(Nred/Ntosses*100))\n",
        "print(\"Percent in blue = {:.2f}%\".format(Nblue/Ntosses*100))\n",
        "print(\"Percent in purple = {:.2f}%\".format(Npurple/Ntosses*100))\n",
        "print(\"Percent not in a circle = {:.2f}%\".format((Ntosses-Npurple-Nblue-Nred)/Ntosses*100))\n",
        "print(\"Gross = ${:.2f}\".format(gross))\n",
        "print(\"Loss = ${:.2f}\".format(loss))\n",
        "print(\"Profit = ${:.2f} = {:.2f}% of gross\".format(gross-loss, (gross-loss)/gross*100))\n",
        "## End reporting results"
      ],
      "metadata": {
        "id": "C37QDTKAolfa"
      },
      "execution_count": null,
      "outputs": []
    },
    {
      "cell_type": "code",
      "source": [],
      "metadata": {
        "id": "ZfR_Ksb-pE7r"
      },
      "execution_count": null,
      "outputs": []
    }
  ]
}