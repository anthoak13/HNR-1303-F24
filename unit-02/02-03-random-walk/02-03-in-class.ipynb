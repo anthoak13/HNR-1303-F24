{
  "nbformat": 4,
  "nbformat_minor": 0,
  "metadata": {
    "colab": {
      "provenance": [],
      "toc_visible": true,
      "authorship_tag": "ABX9TyOvdvkpNOvsCL8dIhayDzhv"
    },
    "kernelspec": {
      "name": "python3",
      "display_name": "Python 3"
    },
    "language_info": {
      "name": "python"
    }
  },
  "cells": [
    {
      "cell_type": "markdown",
      "source": [
        "# In Class Discussion"
      ],
      "metadata": {
        "id": "d66bGKCXfXTV"
      }
    },
    {
      "cell_type": "markdown",
      "source": [
        "## Administrative Updates\n",
        "\n",
        "- Reflections will be graded by Tuesday (hopefully today but depends)\n",
        "- Reminder of Blackboard resources on the various tools used in this course (Jupyter, markdown, latex, python, etc). It's located in `Course Information/Tools`."
      ],
      "metadata": {
        "id": "kQmQYEkIl4sj"
      }
    },
    {
      "cell_type": "markdown",
      "source": [
        "## Random walks"
      ],
      "metadata": {
        "id": "CY7_viXDYmhw"
      }
    },
    {
      "cell_type": "markdown",
      "source": [
        "\n",
        "## Anatomy of a Monte Carlo simulation\n",
        "\n"
      ],
      "metadata": {
        "id": "1_XY2geZjUnh"
      }
    },
    {
      "cell_type": "markdown",
      "source": [
        "\n",
        "### In your groups: What are the main parts that make up all of the simulations we have seen so far?\n",
        "\n",
        "-"
      ],
      "metadata": {
        "id": "a9bwuczZYuV3"
      }
    },
    {
      "cell_type": "markdown",
      "source": [
        "## Practice identifying parts of a monte carlo simulation.\n",
        "\n",
        "Copied below is my completed program template from last Wendsday's notebook (you can also open this on your own laptop so it's easier to see). Identify which lines correspond to the parts of a monte carlo simulation we discussed above:\n",
        "\n"
      ],
      "metadata": {
        "id": "MVrQ_uAEn0L8"
      }
    },
    {
      "cell_type": "code",
      "source": [
        "import random as rand #for random numbers\n",
        "import numpy as np\n",
        "\n",
        "P = 5 #price per dart\n",
        "Ntosses = 100 #number of darts thrown\n",
        "\n",
        "L = 45 #the length of one side of the dart board in cm\n",
        "Rpurple = 45/2\n",
        "Rblue = 27/2\n",
        "Rred = 9/2\n",
        "\n",
        "Ppurple = 1\n",
        "Pblue = 5\n",
        "Pred = 10\n",
        "\n",
        "Npurple = 0\n",
        "Nblue = 0\n",
        "Nred = 0\n",
        "\n",
        "xmodel = []\n",
        "ymodel = []\n",
        "\n",
        "for i in range(1,Ntosses+1):\n",
        "\n",
        "    x = rand.uniform(-L/2, L/2) #should be a random number\n",
        "    y = rand.uniform(-L/2, L/2) #should be a random number\n",
        "    xmodel.append(x)\n",
        "    ymodel.append(y)\n",
        "\n",
        "    ######\n",
        "    # See if the x,y coordinates of a dart is within each circle and count Npurple, Nblue, or Nred\n",
        "    d = np.sqrt(x**2+y**2)\n",
        "    if d < Rred:\n",
        "      Nred += 1\n",
        "    elif d < Rblue: # could also do: if d > Rred and d < Rblue\n",
        "      Nblue += 1\n",
        "    elif d < Rpurple: # could also do: if d > Rblue and d < Rpurple\n",
        "      Npurple += 1\n",
        "    ######\n",
        "\n",
        "gross = P*Ntosses\n",
        "loss = Ppurple*Npurple + Pblue*Nblue + Pred*Nred\n",
        "\n",
        "\n",
        "print(\"Percent in red = {:.2f}%\".format(Nred/Ntosses*100))\n",
        "print(\"Percent in blue = {:.2f}%\".format(Nblue/Ntosses*100))\n",
        "print(\"Percent in purple = {:.2f}%\".format(Npurple/Ntosses*100))\n",
        "print(\"Percent not in a circle = {:.2f}%\".format((Ntosses-Npurple-Nblue-Nred)/Ntosses*100))\n",
        "print(\"Gross = ${:.2f}\".format(gross))\n",
        "print(\"Loss = ${:.2f}\".format(loss))\n",
        "print(\"Profit = ${:.2f} = {:.2f}% of gross\".format(gross-loss, (gross-loss)/gross*100))"
      ],
      "metadata": {
        "id": "C37QDTKAolfa"
      },
      "execution_count": null,
      "outputs": []
    },
    {
      "cell_type": "markdown",
      "source": [
        "### My anatomy of a Monte Carlo program\n",
        "\n",
        "- Define inputs to the model (in the form of variables)\n",
        "- Define the outputs of the model (in the form of variables)\n",
        "- How do run a single trial? (could be single random number for dice throw, or $(x,y)$ position for dart throw, or a random walk for a single mosquito). The single trial is usually where the randomization is.\n",
        "- Run many trials in a loop (enough that the Law of Large numbers takes hold so the results are interpretable)\n",
        "- For each trial, evaluate the results and save results in our outputs.\n",
        "- After running all trials calculate the output we are intrested in studying if needed (this might be percentage or the profit in some fundraiser)\n",
        "- Report (print results or graph)"
      ],
      "metadata": {
        "id": "PlCXsrv_YdbZ"
      }
    },
    {
      "cell_type": "code",
      "source": [],
      "metadata": {
        "id": "ZfR_Ksb-pE7r"
      },
      "execution_count": null,
      "outputs": []
    }
  ]
}