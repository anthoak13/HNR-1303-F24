{
  "nbformat": 4,
  "nbformat_minor": 0,
  "metadata": {
    "colab": {
      "provenance": [],
      "authorship_tag": "ABX9TyO1qvRHS+mMRII8McMrMVDX"
    },
    "kernelspec": {
      "name": "python3",
      "display_name": "Python 3"
    },
    "language_info": {
      "name": "python"
    }
  },
  "cells": [
    {
      "cell_type": "markdown",
      "source": [
        "# Python as a tool\n",
        "\n",
        "So far in this course, you have seen quite a few examples of simple Python programs. Depending on your familiarity with coding concepts, they might have been understandable or seemingly black magic.\n",
        "\n",
        "The purpose of this notebook is to walk through, in a single place, all of the coding concepts we have introduced so far and to give you an interactive place to play around with the ideas outside of any modeling. Parts of this notebook were edited with the help of ChatGPT.\n",
        "\n",
        "## Jupyter, Markdown, and the python interpreter\n",
        "\n",
        "All of the work you have been doing in this class so far has been in a Jupyter notebook. These notebooks allow you to embed text formatted in Markdown with code written in Python. The code is actually running on Google's servers and only the output is being displayed in the notebook.\n",
        "\n",
        "Python is an **interpreted language**. That means that there is a program running on Google's servers (called the python interpreter) that reads your code line-by-line and executes the commands it sees as it moves along.\n",
        "\n",
        "One of the best things about Jupyter notebooks is that they allow you to experiment. As you work through this notebook, don't be afraid to play around with the code. Try changing values, adding new lines, or even breaking things—this is how you'll learn best.\n",
        "\n",
        "Let's look at a brief example. Before running the code, **predict** what the code cell will output."
      ],
      "metadata": {
        "id": "aQVzKA_GPqc-"
      }
    },
    {
      "cell_type": "code",
      "source": [
        "# This is a comment. Anything we type after a hashtag is ignored by\n",
        "# the python interpreter. It is just there for us humans to better\n",
        "# understand what the code is doing\n",
        "\n",
        "x = 5 # We're telling python that x is 5\n",
        "y  = 10 # Now y is 10\n",
        "print(x + y) # Here python adds x and y, then displays the result"
      ],
      "metadata": {
        "id": "u7WPCu7MVD-8"
      },
      "execution_count": null,
      "outputs": []
    },
    {
      "cell_type": "markdown",
      "source": [
        "Because the python interpreter reads the code line-by line, the order of the code matters. You cannot use a variable or function before you have told the interpreter it exists! This is why our notebooks always start with a collection of `import` statements that load any external code we will need for the rest of the notebook.\n",
        "\n",
        "The code below will run with an error the first time you run it. What can you change to fix the error?"
      ],
      "metadata": {
        "id": "wbwjC5iKZ4yd"
      }
    },
    {
      "cell_type": "code",
      "source": [
        "x = 5\n",
        "print(x + z)\n",
        "z = 10"
      ],
      "metadata": {
        "id": "N-xf9fl6Z4mV"
      },
      "execution_count": null,
      "outputs": []
    },
    {
      "cell_type": "markdown",
      "source": [
        "Whenever you encounter an error like this in Python `name ___ is not defined` it means some variable is being used but it has not been assigned a value yet, so the interpreter doesn't know what to do with it! In Google Colab, you can often hit the `Explain error` button and it will use Gemini AI to attempt to explain the error and suggest potential fixes."
      ],
      "metadata": {
        "id": "Qd1M05AdaPFk"
      }
    },
    {
      "cell_type": "markdown",
      "source": [
        "### Important tips\n",
        "\n",
        "- **Running cells**: You can run cells by pressing the play button on the left or with `ctrl+shift+enter`.  Remember, the order in which you run cells matters (not the order the cells are listed in the notebook). If you try to use a variable that does not have a value yet, you will get an erro.\n",
        "\n",
        "- **Resetting the enviroment**: If you are ever getting an error where the code is not running and you feel like it should be, it might be worth reseting everything. In Google Colab, you can easily achieve this by going to `Runtime->Restart session and run all`. This will reset the python interpreter and run all the code cells in order from top to bottom.\n",
        "\n",
        "- **Experiment!**: Don't hesitate to try things out! The only way to learn and become comfortable with coding is by doing it. So make changes and see how that effects the output. You can always reset things and try again if it breaks."
      ],
      "metadata": {
        "id": "FP5NrHpkau5u"
      }
    },
    {
      "cell_type": "markdown",
      "source": [
        "## Variables"
      ],
      "metadata": {
        "id": "waHKN_HYdO_k"
      }
    },
    {
      "cell_type": "markdown",
      "source": [
        "Let's return to our first example:"
      ],
      "metadata": {
        "id": "5UavBUYjVhxG"
      }
    },
    {
      "cell_type": "code",
      "source": [
        "# This is a comment. Anything we type after a hashtag is ignored by\n",
        "# the python interpreter. It is just there for us humans to better\n",
        "# understand what the code is doing\n",
        "\n",
        "x = 5 # We're telling python that x is 5\n",
        "y  = 10 # Now y is 10\n",
        "print(x + y) # Here python adds x and y, then displays the result"
      ],
      "metadata": {
        "id": "cJgtDrNpdbWB"
      },
      "execution_count": null,
      "outputs": []
    },
    {
      "cell_type": "markdown",
      "source": [
        "In the example above, `x` and `y` are **variables**. You can think of them as little \"boxes\" that store some piece of information, usually a number in our case. If we later update a variable, its new value will be used in the code. Take a look at the code below and **predict** what two numbers will be printed."
      ],
      "metadata": {
        "id": "KxovKe9SdWy4"
      }
    },
    {
      "cell_type": "code",
      "source": [
        "x = 5\n",
        "y  = 10\n",
        "print(x + y)\n",
        "\n",
        "x = 100\n",
        "print(x + y)"
      ],
      "metadata": {
        "id": "sr1p2Z1ZZiqk"
      },
      "execution_count": null,
      "outputs": []
    },
    {
      "cell_type": "markdown",
      "source": [
        "We can do more than *just* assign fixed numbers to a variable. We can also do arithmetic and assign the results of a computation to a variable."
      ],
      "metadata": {
        "id": "6_EDqlCSUyar"
      }
    },
    {
      "cell_type": "code",
      "source": [
        "x = 5\n",
        "y = 10\n",
        "\n",
        "sum = x + y # sum now contains the sum of x and y\n",
        "prod = x * y # prod now contains the product of x and y\n",
        "diff = x - y # diff now contains the difference between x and y\n",
        "frac = x / y # frac now contains the fraction of x over y expressed as a decimal\n",
        "print(sum)\n",
        "print(prod)\n",
        "print(diff)\n",
        "print(frac)"
      ],
      "metadata": {
        "id": "dsvRa6-HdpXB"
      },
      "execution_count": null,
      "outputs": []
    },
    {
      "cell_type": "markdown",
      "source": [
        "### Exercise\n",
        "\n",
        "In the code cell below, write a small program for calculating the area of a rectangle by doing the following:\n",
        "\n",
        "1. Define two variables for the `length` and `width`\n",
        "2. Calculate the `area`\n",
        "3. Print the `area`"
      ],
      "metadata": {
        "id": "oNGmdOVZecMT"
      }
    },
    {
      "cell_type": "code",
      "execution_count": null,
      "metadata": {
        "id": "-jLQctP9Pl1K"
      },
      "outputs": [],
      "source": []
    },
    {
      "cell_type": "markdown",
      "source": [
        "# Lists\n",
        "\n",
        "Often times we may want to store or record a collection of related data. Imagine a list as a grocery shopping list. Instead of creating a separate note for each item, you keep all the items in one list. In Python, a list does the same thing—it holds multiple items together so you can work with them more easily. After all, creating a seperate variable for each item in this collection would get tedious *very* fast.\n",
        "\n",
        "A list is what it sounds like. It is a *list* of values. In python we denote lists with square brackets `[]`. In the example below, we create a list storing four numbers and then print out the list."
      ],
      "metadata": {
        "id": "0f8KxaZGHXFV"
      }
    },
    {
      "cell_type": "code",
      "source": [
        "numbers = [1, 2, 3, 4] # create a list storing the numbers 1 to 4\n",
        "print(numbers) # print out the list"
      ],
      "metadata": {
        "id": "c5EdVB1hIN8S"
      },
      "execution_count": null,
      "outputs": []
    },
    {
      "cell_type": "markdown",
      "source": [
        "Each item store in the list is called an **element** of the list. The location of the element in the list is called its **index**. Python lists are zero-indexed. That means the first element in the list is at index 0. The second element in the list is at index 1, and so on.\n",
        "\n",
        "Just like we created the list using square brackets, we can access elements using square brackets. The code example below prints the first element of the list `numbers`. Try modifying the code below so it prints the third element in the list (8 in this case)."
      ],
      "metadata": {
        "id": "QdLnP1uFIYT3"
      }
    },
    {
      "cell_type": "code",
      "source": [
        "numbers = [1, 4, 8, 12] # create a list storing the numbers 1 to 4\n",
        "print(numbers[0]) # print out the first element in the list\n",
        "print(numbers[1]) # print out the second element in the list"
      ],
      "metadata": {
        "id": "7xi8S6EHI3J0"
      },
      "execution_count": null,
      "outputs": []
    },
    {
      "cell_type": "markdown",
      "source": [
        "Often, we may want to add new pieces of information to our lists. We can do that using the function `append()`. `append()` will 'tack-on' our new piece of information to the end of the list. In the following example, we create a list of numbers, then append a new number to the list."
      ],
      "metadata": {
        "id": "TYkfyHD_Jk__"
      }
    },
    {
      "cell_type": "code",
      "source": [
        "numbers = [1, 2, 3, 4] # create a list storing the numbers 1 to 4\n",
        "print(numbers) # print out the list\n",
        "\n",
        "numbers.append(5) # add the number 5 to the list\n",
        "print(numbers) # print out the list again"
      ],
      "metadata": {
        "id": "bmg0V3FoJy7U"
      },
      "execution_count": null,
      "outputs": []
    },
    {
      "cell_type": "markdown",
      "source": [
        "ometimes, you may not know in advance what items you'll need, so you start with an empty list and add items to it as you go. We can achieve this by creating an empty list. When creating an empty list we are telling the computer \"hey, I will want to store a bunch of information here so just set aside the space so I can fill it later.\"\n",
        "\n",
        "We can re-create the output of our first list examples using an empty list and the `append` function as follows:"
      ],
      "metadata": {
        "id": "RopA37nyJ7tP"
      }
    },
    {
      "cell_type": "code",
      "source": [
        "numbers = [] # create an empty list\n",
        "\n",
        "numbers.append(1) # add 1 to the list\n",
        "numbers.append(2) # add 2 to the list\n",
        "numbers.append(3) # add 3 to the list\n",
        "numbers.append(4) # add 4 to the list\n",
        "print(numbers) # print out the list"
      ],
      "metadata": {
        "id": "HzZIiobPKN2Y"
      },
      "execution_count": null,
      "outputs": []
    },
    {
      "cell_type": "markdown",
      "source": [
        "## Lists of increasing numbers\n",
        "\n",
        "Often times we may want a list of increasing integers like our previous examples. This gets tedious to code (imagine trying to manually type out all the number from 1 to 10,000!). Luckily, we can easily create lists of this type using a built-in python function called `range()`.\n",
        "\n",
        "`range()` does not output a list directly becuase of some unimportant subtleties in its implementation (if you are intrested you can read about it [here](https://docs.python.org/3/library/stdtypes.html#range)). However, we can force python to express its output as a list using the function `list`.\n",
        "\n",
        "How the function `range(b)` works is it generates a list of numbers from `0` to `b-1`. In other words, it generates a list of `b` numbers, starting from 0 and increasing by 1. An example will help clarify:\n"
      ],
      "metadata": {
        "id": "rEf1ZqVzJV1M"
      }
    },
    {
      "cell_type": "code",
      "source": [
        "numbers = list(range(5)) # create a list of numbers from 0 to 4\n",
        "print(numbers)"
      ],
      "metadata": {
        "id": "hMmmZPAELkJt"
      },
      "execution_count": null,
      "outputs": []
    },
    {
      "cell_type": "markdown",
      "source": [
        "Take the example code from above and modify it to create a list of numbers from 0 to 9.\n",
        "\n",
        "But what if we don't want to start the list at 0? Well there is a second version of `range`, `range(a, b)`. In this second version, the first number in the list is `a` and we increase by `1` until we reach `b-1`. Once again, I think this is easier to just see in some examples"
      ],
      "metadata": {
        "id": "cnLH4nyBLrHG"
      }
    },
    {
      "cell_type": "code",
      "source": [
        "numbers = list(range(1, 5)) # create a list of numbers from 1 to 4\n",
        "print(numbers)\n",
        "\n",
        "numbers = list(range(-2, 6)) # create a list of numbers from -2 to 5\n",
        "print(numbers)"
      ],
      "metadata": {
        "id": "1Xu2hxuoMQgo"
      },
      "execution_count": null,
      "outputs": []
    },
    {
      "cell_type": "markdown",
      "source": [
        "## Exercise\n",
        "\n",
        "In the code cell below write a small program that creates and prints three lists:\n",
        "\n",
        "1. Create a list storing the numbers `[1,2,3,4]`, then print out the second element of the list.\n",
        "1. Create an empty list. Then append the numbers `1,3,6,9` to the list. Print the final list.\n",
        "1. Create a new list `[-1,0,1]` using the `range` function then append the number 10 to the list. Print the final list.\n"
      ],
      "metadata": {
        "id": "Kkuo38jPMf_-"
      }
    },
    {
      "cell_type": "code",
      "source": [],
      "metadata": {
        "id": "O0UOxUq2RXy0"
      },
      "execution_count": null,
      "outputs": []
    },
    {
      "cell_type": "markdown",
      "source": [
        "## Loops\n",
        "\n"
      ],
      "metadata": {
        "id": "eqDjfaX2fUiq"
      }
    },
    {
      "cell_type": "markdown",
      "source": [
        "It's incredibly common that we will want to perform the same operation on each element in a list. In comes the `for` loop. Imagine you want to double every number in a list of prices. Instead of doing it manually, you can use a `for` loop to quickly go through each price and double it.\n",
        "\n",
        "A `for` loop is a construct that says: \"grab each element in the list and one-by-one store it in a dummy variable. Then run this block of code using the dumby variable for each element in the list.\"\n",
        "\n",
        "Let's take the example of printing out each number in a list."
      ],
      "metadata": {
        "id": "HgO7O87ZNj_V"
      }
    },
    {
      "cell_type": "code",
      "source": [
        "numbers = [1, 2, 3] # create a list storing the numbers 1 to 4\n",
        "\n",
        "for i in numbers: # for each element in numbers, assign it to i then run the code\n",
        "    print(i)"
      ],
      "metadata": {
        "id": "ZmsrpIWYOEzY"
      },
      "execution_count": null,
      "outputs": []
    },
    {
      "cell_type": "markdown",
      "source": [
        "That code above is short hand for the following"
      ],
      "metadata": {
        "id": "fFB0qiXkORtt"
      }
    },
    {
      "cell_type": "code",
      "source": [
        "numbers = [1, 2, 3] # create a list storing the numbers 1 to 4\n",
        "\n",
        "i = numbers[0]\n",
        "print(i)\n",
        "i = numbers[1]\n",
        "print(i)\n",
        "i = numbers[2]\n",
        "print(i)"
      ],
      "metadata": {
        "id": "Mq-0uILrOU7O"
      },
      "execution_count": null,
      "outputs": []
    },
    {
      "cell_type": "markdown",
      "source": [
        "where we manually assign each element in the list to the variable i, then run the code in the loop.\n",
        "\n",
        "Using a `for` loop is much easier to maintain. Say we decided we no longer want to print out each element in the list. Instead we want to print out 2 times each element. In the for loop that's an easy change, and it does not depend *at all* how long the list is."
      ],
      "metadata": {
        "id": "AcLSS_uqOfSF"
      }
    },
    {
      "cell_type": "code",
      "source": [
        "numbers = [1, 2, 3] # create a list storing the numbers 1 to 3\n",
        "\n",
        "for i in numbers: # for each element in numbers, assign it to i then run the code\n",
        "    double = 2*i\n",
        "    print(double)"
      ],
      "metadata": {
        "id": "NXii6NMOO-H7"
      },
      "execution_count": null,
      "outputs": []
    },
    {
      "cell_type": "markdown",
      "source": [
        "Python has a nifty shorthand that lets you use `range` directly in `for` loops. We can repeat the results of our first loop example without ever creating the list, `numbers`"
      ],
      "metadata": {
        "id": "C_Qq-OsMPXJu"
      }
    },
    {
      "cell_type": "code",
      "source": [
        "for i in range(4): # range(4) will return the list [0,1,2,3]\n",
        "    print(i)"
      ],
      "metadata": {
        "id": "ZufD18BMPnYe"
      },
      "execution_count": null,
      "outputs": []
    },
    {
      "cell_type": "markdown",
      "source": [
        "## Scope\n",
        "\n",
        "We need to now talk about **scope** or what is inside the loop and what is outside the loop. Python uses **whitespace** do denote scope. Notice in all of the loop examples above, the code running in the loop is indented with respect to the `for` loop. This means it is *within* the loop's scope. When the loop is executed only th indented code is part of the loop. The loop ends at the first line that is at the same indent level as the `for` loop.\n",
        "\n",
        "Consider the following code. **Predict** what will be printed when you run the code block."
      ],
      "metadata": {
        "id": "_VQs4DcuPUSk"
      }
    },
    {
      "cell_type": "code",
      "source": [
        "for i in range(4):\n",
        "  square = i*i\n",
        "  print(i)\n",
        "\n",
        "print(square)\n",
        "print(\"done\")"
      ],
      "metadata": {
        "id": "eDflu9hzQlH4"
      },
      "execution_count": null,
      "outputs": []
    },
    {
      "cell_type": "markdown",
      "source": [
        "The `print` statement that is indented is printed once each iteration of the loop, while the final print statement (not indented) only runs once."
      ],
      "metadata": {
        "id": "sUPbKV79Qy_0"
      }
    },
    {
      "cell_type": "markdown",
      "source": [
        "## Exercise\n",
        "\n",
        "In the code cell below, using a loop print out the square of the first 10 natural numbers (1, 2, ..., 10) and then print the word \"done\" once."
      ],
      "metadata": {
        "id": "utQQXGHiRa2K"
      }
    },
    {
      "cell_type": "code",
      "source": [],
      "metadata": {
        "id": "Q2moTJ_ARWJj"
      },
      "execution_count": null,
      "outputs": []
    },
    {
      "cell_type": "markdown",
      "source": [
        "# Conditional statements\n",
        "\n",
        "We are missing one final crucial piece of information. How do we make decisions?\n",
        "\n",
        "We make decisions based on **conditions**, a condition is a statement that is either true of false. For example, one condition might be `num == 1`. There are three parts to this condition:\n",
        "\n",
        "1. `==`: This is the **equality operator**. It asks the question, \"is the left and side equal to the right hand side?\"\n",
        "1. `num`: This is the left hand side.\n",
        "1. `1`: this is the right hand side.\n",
        "\n",
        "If the value in `num` is `1` then the statement is true. Otherwise it is false."
      ],
      "metadata": {
        "id": "4q35HGPWRuP0"
      }
    },
    {
      "cell_type": "code",
      "source": [
        "num = 1\n",
        "print(num == 1)\n",
        "\n",
        "num = 2\n",
        "print(num == 1)"
      ],
      "metadata": {
        "id": "x9rTVWeuVp2f"
      },
      "execution_count": null,
      "outputs": []
    },
    {
      "cell_type": "markdown",
      "source": [
        "The example above also highlights the difference between `=` and `==`. The **assignment** operator (`=`) means \"assign the right hand side to the variable on the left hand side.\" The **equality** operator (`==`) asks the question \"are the two sides equal?\". `==` is a question. `=` is a statement."
      ],
      "metadata": {
        "id": "0eIzhd9Vb6yp"
      }
    },
    {
      "cell_type": "markdown",
      "source": [
        "There are a number of **comparison operators** that we can use. Here is a short list of the operators and the questions they ask:\n",
        "1. Equality: `a == b` \"is `a` equal to `b`?\"\n",
        "1. Inequality: `a != b` \"is `a` NOT equal to `b`?\"\n",
        "1. Greater than: ` a > b` \"is `a` greater than `b`?\"\n",
        "1. Greater than or equal to: `a >= b` \"is `a` greater than or equal to `b`?\""
      ],
      "metadata": {
        "id": "Pfm25C3qVyY1"
      }
    },
    {
      "cell_type": "markdown",
      "source": [
        "We can make decisions based on these conditions using a conditional statement, also known as an `if` statement. In english a conditional statment says \"if this condition is true, then execute this code. Otherwise, exectute this other code.\"\n",
        "\n",
        "They are structured like this:\n",
        "```\n",
        "if (condition):\n",
        "    #code block to execute if condition is TRUE\n",
        "\n",
        "else:\n",
        "    #code block to execute if condition is FALSE\n",
        "```\n",
        "\n",
        "Notice we have the same notion of scope we had for the `for` loop. The block of code that is executed if the condition is true is indented. That block of code ends at the `else:` line which is not indented. Let's look back at our first example:"
      ],
      "metadata": {
        "id": "JStugNqxXCr_"
      }
    },
    {
      "cell_type": "code",
      "source": [
        "num = 1\n",
        "\n",
        "if num == 1:\n",
        "    print(\"num is 1\")\n",
        "else:\n",
        "    print(\"num is not 1\")"
      ],
      "metadata": {
        "id": "AKweAnLcXyK-"
      },
      "execution_count": null,
      "outputs": []
    },
    {
      "cell_type": "markdown",
      "source": [
        "Run this code, then change the value of num to something other then 1. How does the output change?"
      ],
      "metadata": {
        "id": "dD6Hccc4X2Op"
      }
    },
    {
      "cell_type": "markdown",
      "source": [
        "## Exercise\n",
        "\n",
        "In the code cell below, create a small piece of code that defines two variables `num1` and `num2`, each holding a number. Then check if `num1` is larger than `num2`. If it is, print out \"num 1 is larger\". Otherwise print out \"num 1 is not larger\". To check if you code works, try setting `num1` and `num2` to different values and see if your output makes sense.\n"
      ],
      "metadata": {
        "id": "gBjISlE_YMSE"
      }
    },
    {
      "cell_type": "code",
      "source": [],
      "metadata": {
        "id": "SWuj_u4FfoTl"
      },
      "execution_count": null,
      "outputs": []
    },
    {
      "cell_type": "markdown",
      "source": [
        "# Exercise - Putting it all together\n",
        "\n",
        "Let's construct a final example putting everything you have learned together. In the code cell below, I have written out comments to describe what the code will need to do. You job is to try to fill in the missing code to complete the problem. Whenever coding a larger problem like this you should **always** work iterativly. What I mean by that is write a single line of code, then test it to make sure it is doing what you think it should be. Only when you are convinved it is, should you write the next line of code. If something does break, then you know **exactly** where the problem is!\n",
        "\n",
        "We need to find and print the area of 10 squares. The length of the sides of the rectangles follow the pattern `1, 2, 3, ..., 10`. After we find the area of the rectangle, we have been asked to find out how many have an area larger than 50."
      ],
      "metadata": {
        "id": "4y20XOHCYzv8"
      }
    },
    {
      "cell_type": "code",
      "source": [
        "# Create a list with the side lengths\n",
        "\n",
        "# Create an empty list to hold the areas\n",
        "\n",
        "# Loop through the list of side lengths.\n",
        "    # in loop: Calculate the area\n",
        "    # in loop: append area to list of areas\n",
        "\n",
        "# print the list of areas\n",
        "\n",
        "# Create a variable to count the number of areas larger than 50\n",
        "numLarger = 0\n",
        "\n",
        "# Loop through the list of areas\n",
        "    # in loop: if area > 50, then increase numLarger by 1\n",
        "\n",
        "# print numLarger"
      ],
      "metadata": {
        "id": "KCQPLJRvZxPF"
      },
      "execution_count": null,
      "outputs": []
    }
  ]
}