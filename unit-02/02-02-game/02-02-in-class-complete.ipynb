{
  "cells": [
    {
      "cell_type": "markdown",
      "metadata": {
        "id": "ds2egWoHvJ2t"
      },
      "source": [
        "# Review of Monday"
      ]
    },
    {
      "cell_type": "markdown",
      "metadata": {
        "id": "OFF9T-wvvQUA"
      },
      "source": [
        "# Calculating $\\pi$ with a monte carlo simulation\n",
        "We know that the area of a circle is\n",
        "$$\n",
        "A = \\pi r^2\n",
        "$$\n",
        "\n",
        "We can estimate the area of a circle by throwing virtual grains of rice on a board with a circle of known radius and counting the number of grains that land within the circle.\n",
        "\n",
        "**So, how can we construct a Monte-Carlo simulation to calulate $\\pi$ using this information?**\n",
        "\n",
        "1. Analyze Problem\n",
        "  - How many darts we throw ($N$)\n",
        "  - How many darts are inside ($N_{in}$)\n",
        "  - How big our square is (and therefore radius) $r$\n",
        "1. Formulate a model\n",
        "  - Randomize the location of the dart $(x,y)$\n",
        "  - Check if dart is inside ($\\sqrt{x^2+y^2} < r$)\n",
        "  - Calculate estimate for $\\pi$: $$\\pi = \\frac{N_{in}}{N}\\times 4$$\n",
        "\n",
        "1. Solve the model\n",
        "1. Verify the model\n",
        "1. Report on the model\n",
        "1. Maintain the model (we will skip)"
      ]
    },
    {
      "cell_type": "code",
      "source": [
        "import random as rand\n",
        "import numpy as np\n",
        "\n",
        "\n",
        "# Define our variables\n",
        "N = 1000000 #number of darts thrown\n",
        "r = 1/2 #radius of circle\n",
        "N_in = 0 # Number of darts inside\n",
        "\n",
        "for i in range(N):\n",
        "  # throw a dart\n",
        "  x = rand.uniform(-r, r)\n",
        "  y = rand.uniform(-r, r)\n",
        "  #print(x, y)\n",
        "\n",
        "  if np.sqrt(x**2 + y**2) < r:\n",
        "    N_in += 1\n",
        "\n",
        "pi = (N_in/N)*4\n",
        "print(pi)\n"
      ],
      "metadata": {
        "id": "Mu8jmn4g2tls",
        "outputId": "0fa11884-86f6-4103-fecd-aaa1ac70ad65",
        "colab": {
          "base_uri": "https://localhost:8080/"
        }
      },
      "execution_count": 35,
      "outputs": [
        {
          "output_type": "stream",
          "name": "stdout",
          "text": [
            "3.139476\n"
          ]
        }
      ]
    },
    {
      "cell_type": "markdown",
      "metadata": {
        "id": "K0zNo6Lt36RW"
      },
      "source": [
        "\n",
        "\n",
        "---\n",
        "\n"
      ]
    }
  ],
  "metadata": {
    "colab": {
      "provenance": []
    },
    "kernelspec": {
      "display_name": "Python 3",
      "name": "python3"
    },
    "language_info": {
      "name": "python"
    }
  },
  "nbformat": 4,
  "nbformat_minor": 0
}