{
  "cells": [
    {
      "cell_type": "markdown",
      "metadata": {
        "id": "ds2egWoHvJ2t"
      },
      "source": [
        "# Review of Monday"
      ]
    },
    {
      "cell_type": "markdown",
      "metadata": {
        "id": "OFF9T-wvvQUA"
      },
      "source": [
        "# Calculating $\\pi$ with a monte carlo simulation\n",
        "We know that the area of a circle is \n",
        "$$\n",
        "A = 4 \\pi r^2\n",
        "$$\n",
        "\n",
        "We can estimate the area of a circle by throwing virtual grains of rice on a board with a circle of known radius and counting the number of grains that land within the circle.\n",
        "\n",
        "**So, how can we construct a Monte-Carlo simulation to calulate $\\pi$ using this information?**\n",
        "\n",
        "1. Analyze Problem \n",
        "1. Formulate a model \n",
        "1. Solve the model \n",
        "1. Verify the model \n",
        "1. Report on the model\n",
        "1. Maintain the model (we will skip)"
      ]
    },
    {
      "cell_type": "markdown",
      "metadata": {
        "id": "K0zNo6Lt36RW"
      },
      "source": [
        "\n",
        "\n",
        "---\n",
        "\n"
      ]
    }
  ],
  "metadata": {
    "colab": {
      "authorship_tag": "ABX9TyM5DLkwi28wQw3ZaHUr6Ixq",
      "provenance": []
    },
    "kernelspec": {
      "display_name": "Python 3",
      "name": "python3"
    },
    "language_info": {
      "name": "python"
    }
  },
  "nbformat": 4,
  "nbformat_minor": 0
}
