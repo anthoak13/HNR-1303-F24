{
  "nbformat": 4,
  "nbformat_minor": 0,
  "metadata": {
    "colab": {
      "provenance": [],
      "authorship_tag": "ABX9TyM5DLkwi28wQw3ZaHUr6Ixq"
    },
    "kernelspec": {
      "name": "python3",
      "display_name": "Python 3"
    },
    "language_info": {
      "name": "python"
    }
  },
  "cells": [
    {
      "cell_type": "markdown",
      "source": [
        "# Review of Monday"
      ],
      "metadata": {
        "id": "ds2egWoHvJ2t"
      }
    },
    {
      "cell_type": "markdown",
      "source": [
        "# [Buffon's Needle](https://en.wikipedia.org/wiki/Buffon%27s_needle_problem) (calculating $\\pi$ with a monte carlo simulation)\n",
        "\n",
        "## The Question\n",
        "Supose the floor is divided into vertical strips. We then randomly drop sticks on the floor. What is the probability that a stick intersects the lines dividing the vertical strips. In the image below, stick a intersects and stick b does not intersect.\n",
        "\n",
        "It turns out, the probability, $p$, is given by:\n",
        "$$ p = \\frac{2}{\\pi}\\frac{l}{t}$$\n",
        "where $t$ is the distance between the vertical strips, and $l$ is the length of the sticks being dropped (assuming $t \\le l$).\n",
        "\n",
        "**So, how can we construct a Monte-Carlo simulation to calulate $\\pi$ using this information?**\n",
        "\n",
        "1. Analyze Problem (define variables)\n",
        "  *  $t$: distance between lines\n",
        "  *  $l$: length of stick\n",
        "  *  $N_{int}$: Number of sticks that intersect lines\n",
        "  *  $N$: Total number of sticks\n",
        "1. Formulate a model (steps to run the simulation)\n",
        "  1. Set-up our board (side lengths/area)\n",
        "  1. Add divisions to the board\n",
        "  1. Per stick: get length, **angle**, **position**\n",
        "  1. Count the number of sticks that intersect\n",
        "  1.\n",
        "1. Solve the model (write the simulation)\n",
        "1. Verify the model (do we get $\\pi$?)\n",
        "1. Report on the model (we will skip)\n",
        "1. Maintain the model (we will skip)\n",
        "\n",
        "\n",
        "![Image depicting Buffon's Needle problem](https://upload.wikimedia.org/wikipedia/commons/thumb/5/58/Buffon_needle.svg/1920px-Buffon_needle.svg.png)\n",
        "\n",
        "\n"
      ],
      "metadata": {
        "id": "OFF9T-wvvQUA"
      }
    },
    {
      "cell_type": "markdown",
      "source": [
        "\n",
        "\n",
        "---\n",
        "\n"
      ],
      "metadata": {
        "id": "K0zNo6Lt36RW"
      }
    },
    {
      "cell_type": "code",
      "source": [
        "import random as rand\n",
        "import numpy as np\n",
        "import matplotlib.pyplot as plt\n",
        "\n",
        "# Define varibles to describe model\n",
        "t = 1\n",
        "l = 0.5\n",
        "N = 10000\n",
        "NInt = 0\n",
        "divisions = [] # x-location of division on the board\n",
        "L = 10         # Length of board\n",
        "\n",
        "\n",
        "# Setup the board to drop stick on\n",
        "plt.figure(figsize=(8,8))\n",
        "plt.title(\"Buffon's Needle Board\")\n",
        "plt.xlabel(\"x (cm)\")\n",
        "plt.ylabel(\"y (cm)\")\n",
        "plt.xlim(-L/2, L/2)\n",
        "plt.ylim(-L/2, L/2)\n",
        "\n",
        "\n",
        "# Returns true if a vertical division lies between xs[0] and xs[1]\n",
        "def crosses_division(xs):\n",
        "  xs.sort()\n",
        "  for divx in divisions:\n",
        "    if xs[0] < divx and divx < xs[1]:\n",
        "      return True\n",
        "  return False\n",
        "\n",
        "\n",
        "# Plots a line centered at (x,y) with a given length and angle, angle is defined with respect to x axis.\n",
        "# angle is assumed to be in radians\n",
        "# returns true if the line intersects a division, false otherwise\n",
        "def plot_line(x, y, length, angle, plot=True):\n",
        "  dx = length/2 * np.cos(angle)\n",
        "  dy = length/2 * np.sin(angle)\n",
        "  px = [x+dx, x-dx]\n",
        "  py = [y+dy, y-dy]\n",
        "  if crosses_division(px):\n",
        "    # If this crosses one of our divisions draw it in gold and update the counter\n",
        "    if plot:\n",
        "      plt.plot(px,py,'-',color='goldenrod')\n",
        "    return True\n",
        "  elif plot:\n",
        "    # If this does not cross one of our divisions draw it in red\n",
        "    plt.plot(px,py,'-',color='red')\n",
        "    return False\n",
        "\n",
        "### Begining of Monte-Carlo code ###\n",
        "\n",
        "# Calculate divisions on board\n",
        "divisions =  np.arange(-L/2, L/2+.00001,t)\n",
        "print(divisions)\n",
        "\n",
        "# Draw vertical lines\n",
        "for div in divisions:\n",
        "  plt.plot([div, div], [L/2, -L/2], '-', color='black')\n",
        "\n",
        "\n",
        "# Run the Monte Carlo\n",
        "for i in range(N):\n",
        "  x = rand.uniform(-L/2, L/2)\n",
        "  y = rand.uniform(-L/2, L/2)\n",
        "  angle = rand.uniform(0, 2*np.pi)\n",
        "  if plot_line(x,y,l,angle, False):\n",
        "    NInt = NInt +1\n",
        "\n",
        "\n",
        "prob = NInt/N\n",
        "pi = 2*l/(prob*t)\n",
        "print(f\"Probability of crossing a division: {prob:.3f}\")\n",
        "print(f\"Estimation of pi: {pi:.3f}\")"
      ],
      "metadata": {
        "colab": {
          "base_uri": "https://localhost:8080/",
          "height": 771
        },
        "id": "OH5lbuZYyMXR",
        "outputId": "49ee1b8d-2afc-4c6b-d9d7-e9f084b8b2cc"
      },
      "execution_count": 34,
      "outputs": [
        {
          "output_type": "stream",
          "name": "stdout",
          "text": [
            "[-5. -4. -3. -2. -1.  0.  1.  2.  3.  4.  5.]\n",
            "Probability of crossing a division: 0.320\n",
            "Estimation of pi: 3.124\n"
          ]
        },
        {
          "output_type": "display_data",
          "data": {
            "text/plain": [
              "<Figure size 800x800 with 1 Axes>"
            ],
            "image/png": "[encoded data removed]"
          },
          "metadata": {}
        }
      ]
    },
    {
      "cell_type": "code",
      "source": [],
      "metadata": {
        "id": "8tz5dSHw9Qdi"
      },
      "execution_count": null,
      "outputs": []
    }
  ]
}
