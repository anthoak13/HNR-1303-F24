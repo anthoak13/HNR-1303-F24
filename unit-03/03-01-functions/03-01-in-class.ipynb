{
  "cells": [
    {
      "cell_type": "markdown",
      "metadata": {
        "id": "dEuRbwnxSyW3"
      },
      "source": [
        "# Administration\n",
        "\n"
      ]
    },
    {
      "cell_type": "markdown",
      "metadata": {
        "id": "3kEpM34zTS1u"
      },
      "source": [
        "## Unit 3 Schedule\n",
        "\n",
        "Group assesment is given end of our review class on Mon 9/30 and due at the start of class on 10/2. Individual assesment is given Wed 10/2 and due Friday 10/6 at 11:59pm (this is the Friday before Fall Break). We will start Unit 4 the Monday after Fall Break.\n",
        "\n",
        "\n"
      ]
    },
    {
      "cell_type": "markdown",
      "metadata": {
        "id": "2DqeHZoxTQh6"
      },
      "source": [
        "## New groups\n",
        "\n",
        "Group Number | Names\n",
        "--- | ---\n",
        "1 | Ryan and Evan\n",
        "2 | Paul and Jessie\n",
        "3 | Lily and Heather\n",
        "4 | Sterling and Brandon\n",
        "5 | Daniel and Sara\n",
        "6 | Nora, Dalila and Olivia\n",
        "7 | Izzy M. and Gray\n",
        "8 | Izzy J. and Frank\n",
        "9 | Aliyah and Saywer\n"
      ]
    },
    {
      "cell_type": "markdown",
      "metadata": {
        "id": "6_5bYuCQTLCJ"
      },
      "source": [
        "# Functions\n",
        "\n"
      ]
    },
    {
      "cell_type": "markdown",
      "metadata": {
        "id": "UlNhCqFc0bSW"
      },
      "source": [
        "Think about where you have encounted functions in the past (could be math, programming, etc.). How would you define a function? You might have multiple definitions depending on the type of function you are talking about."
      ]
    },
    {
      "cell_type": "markdown",
      "metadata": {
        "id": "tbSbe0xS0bSW"
      },
      "source": [
        "- variables\n",
        "  - Mathmatics: constants ($a$, $b$, $c$) and variables ($x/y$) Typically independent ($x$) and dependent ($y$) variable\n",
        "  - Coding: place to hold something (number, list, etc)\n",
        "- Input -> output"
      ]
    },
    {
      "cell_type": "markdown",
      "metadata": {
        "id": "hVd-jSfz0bSX"
      },
      "source": [
        "# Mathmatical Functions\n",
        "\n",
        "\n",
        "$$y = mx+b$$\n",
        "- Input: $x$ - indpendent variable, $m$ and $b$ are constants (change the behavior)\n",
        "\n",
        "- Output: $y$"
      ]
    },
    {
      "cell_type": "markdown",
      "metadata": {
        "id": "e1OUmgYA0bSX"
      },
      "source": [
        "# Python (and coding in general) Functions\n",
        "\n",
        "```python\n",
        "def line(x,m,b)\n",
        "  return m*x+b\n",
        "```\n",
        "- Input: Function arguments (`x,m,b`)\n",
        "\n",
        "- Output: Whatever follows `return`. Called the return value (`m*x+b`)"
      ]
    },
    {
      "cell_type": "markdown",
      "metadata": {
        "id": "BEFGbGiWVVf5"
      },
      "source": [
        "## Empirical Models\n",
        "\n",
        "Data driven model. Only valid where we have data (can interpolate only, never extrapolate)"
      ]
    }
  ],
  "metadata": {
    "colab": {
      "provenance": []
    },
    "kernelspec": {
      "display_name": "Python 3",
      "name": "python3"
    },
    "language_info": {
      "name": "python"
    }
  },
  "nbformat": 4,
  "nbformat_minor": 0
}