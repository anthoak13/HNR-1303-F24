{
  "cells": [
    {
      "cell_type": "markdown",
      "metadata": {
        "id": "dEuRbwnxSyW3"
      },
      "source": [
        "# Administration\n",
        "\n"
      ]
    },
    {
      "cell_type": "markdown",
      "metadata": {
        "id": "3kEpM34zTS1u"
      },
      "source": [
        "## Unit 3 Schedule\n",
        "\n",
        "Group assesment is given end of our review class on Mon 9/30 and due at the start of class on 10/2. Individual assesment is given Wed 10/2 and due Friday 10/6 at 11:59pm (this is the Friday before Fall Break). We will start Unit 4 the Monday after Fall Break.\n",
        "\n",
        "\n"
      ]
    },
    {
      "cell_type": "markdown",
      "metadata": {
        "id": "2DqeHZoxTQh6"
      },
      "source": [
        "## New groups\n",
        "\n",
        "Group Number | Names\n",
        "--- | ---\n",
        "1 | Ryan and Evan\n",
        "2 | Paul and Jessie\n",
        "3 | Lily and Heather\n",
        "4 | Sterling and Brandon\n",
        "5 | Daniel and Sara\n",
        "6 | Nora, Dalila and Olivia\n",
        "7 | Izzy M. and Gray\n",
        "8 | Izzy J. and Frank\n",
        "9 | Aliyah and Saywer\n"
      ]
    },
    {
      "cell_type": "markdown",
      "metadata": {
        "id": "6_5bYuCQTLCJ"
      },
      "source": [
        "# Functions\n",
        "\n"
      ]
    },
    {
      "cell_type": "markdown",
      "metadata": {},
      "source": [
        "Think about where you have encounted functions in the past (could be math, programming, etc.). How would you define a function? You might have multiple definitions depending on the type of function you are talking about."
      ]
    },
    {
      "cell_type": "markdown",
      "metadata": {},
      "source": [
        "- \n",
        "- "
      ]
    },
    {
      "cell_type": "markdown",
      "metadata": {},
      "source": [
        "# Mathmatical Functions\n",
        "\n",
        "- Input:\n",
        "\n",
        "- Output:"
      ]
    },
    {
      "cell_type": "markdown",
      "metadata": {},
      "source": [
        "# Python (and coding in general) Functions\n",
        "\n",
        "- Input:\n",
        "\n",
        "- Output:"
      ]
    },
    {
      "cell_type": "markdown",
      "metadata": {
        "id": "BEFGbGiWVVf5"
      },
      "source": [
        "## Empirical Models"
      ]
    }
  ],
  "metadata": {
    "colab": {
      "authorship_tag": "ABX9TyOvVfdB0O6HmHuHl4Hb3xrX",
      "provenance": []
    },
    "kernelspec": {
      "display_name": "Python 3",
      "name": "python3"
    },
    "language_info": {
      "name": "python"
    }
  },
  "nbformat": 4,
  "nbformat_minor": 0
}
