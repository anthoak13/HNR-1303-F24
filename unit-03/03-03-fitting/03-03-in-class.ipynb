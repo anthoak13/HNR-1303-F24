{
  "cells": [
    {
      "cell_type": "markdown",
      "metadata": {},
      "source": [
        "# Unit 2 assesment summary stats\n",
        "\n",
        "### Individual\n",
        "$\\mu\\pm\\sigma$: $85.4\\pm11.1$\n",
        "\n",
        "median: 91\n",
        "\n",
        "### Individual + Group\n",
        "$\\mu\\pm\\sigma$: $83.0\\pm9.8$\n",
        "\n",
        "median: 85.9"
      ]
    },
    {
      "cell_type": "markdown",
      "metadata": {},
      "source": [
        "# Monte Carlo vs Emperical models\n",
        "\n",
        "1. What is the main difference between Monte Carlo and Emperical models?\n",
        "    - \n",
        "1. When is it better to use a Monte Carlo model rather than an emperical model?\n",
        "    - \n",
        "1. When is it beter to use an emperical model than a monte carlo model?\n",
        "    - \n"
      ]
    },
    {
      "cell_type": "markdown",
      "metadata": {
        "id": "8A0xQBCUURa5"
      },
      "source": [
        "# Pre-class data\n",
        "\n",
        "As a table, you will work to develop a model using the data one of you found online.\n",
        "\n",
        "1. Within each group, come to a consensus on which data set to use.\n",
        "1. Come up with a proposal for some functional form that might describe the data (ask me for help if you are unsure).\n",
        "1. Add the proposed model to the narrative description in the notebook of the person who provided the data (including the function typeset in LaTex)\n",
        "\n",
        "Each table will then present their data and proposed model. We will select one tables proposal as a class and then fit the data with their proposed model"
      ]
    },
    {
      "cell_type": "markdown",
      "metadata": {
        "id": "oK6HFeGZVC_T"
      },
      "source": [
        "# Fitting data (i.e. getting the *model parameters*)\n",
        "\n"
      ]
    },
    {
      "cell_type": "code",
      "execution_count": 1,
      "metadata": {
        "id": "ZPQKd8SMVIim"
      },
      "outputs": [],
      "source": [
        "import numpy as np #used for arrays and numerical functions\n",
        "import pandas as pd #used for reading a data file\n",
        "import matplotlib.pyplot as plt #used for graphing\n",
        "from io import StringIO #used to convert string to a dataframe\n",
        "from scipy.optimize import curve_fit #used to find the fit parameters"
      ]
    },
    {
      "cell_type": "markdown",
      "metadata": {
        "id": "8DNPcD6QWukO"
      },
      "source": [
        "Below is some skelaton code for fitting data using the `scipy.optimize` package. It's mostly here so I can refrence it when I forget a random function name."
      ]
    },
    {
      "cell_type": "code",
      "execution_count": 5,
      "metadata": {
        "colab": {
          "base_uri": "https://localhost:8080/",
          "height": 448
        },
        "id": "rjkdeYpoUQN-",
        "outputId": "8479721d-4855-4a47-a745-745d24f1b6c4"
      },
      "outputs": [
        {
          "name": "stdout",
          "output_type": "stream",
          "text": [
            "[1.28571429 0.57142857]\n"
          ]
        },
        {
          "data": {
            "image/png": "[encoded data removed]",
            "text/plain": [
              "<Figure size 640x480 with 1 Axes>"
            ]
          },
          "metadata": {},
          "output_type": "display_data"
        }
      ],
      "source": [
        "# Import data\n",
        "data = StringIO(\"\"\"x,y\n",
        "1,2\n",
        "3,4\n",
        "4,6\n",
        "\"\"\")\n",
        "df = pd.read_csv(data)\n",
        "\n",
        "# Define the model\n",
        "model = lambda x,m,b: m*x+b # Note the independent variable **must** be first, followed by the model parameters\n",
        "\n",
        "xdata = df['x']\n",
        "ydata = df['y']\n",
        "\n",
        "# Determine the optimal value of our model parameters (fit the model)\n",
        "guess = [1,1] # Our initial guess for the model parameters\n",
        "params, covariance = curve_fit(model, xdata, ydata, p0=guess) #params contains the fit model parameters\n",
        "print(params)\n",
        "\n",
        "# Generate points of the model to plot\n",
        "xmodel = np.linspace(0,4,100)\n",
        "ymodel = model(xmodel, *params)\n",
        "\n",
        "\n",
        "plt.plot(xdata,ydata,'bo')\n",
        "plt.plot(xmodel,ymodel,'r-')\n",
        "plt.show()"
      ]
    }
  ],
  "metadata": {
    "colab": {
      "authorship_tag": "ABX9TyMBfVXchtpXTyawTIeWJ1FJ",
      "provenance": []
    },
    "kernelspec": {
      "display_name": "Python 3",
      "name": "python3"
    },
    "language_info": {
      "name": "python"
    }
  },
  "nbformat": 4,
  "nbformat_minor": 0
}
