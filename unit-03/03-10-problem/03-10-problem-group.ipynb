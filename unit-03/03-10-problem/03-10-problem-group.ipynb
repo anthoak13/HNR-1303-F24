{
  "cells": [
    {
      "cell_type": "markdown",
      "metadata": {
        "id": "rqFxBryYnPpm"
      },
      "source": [
        "# Unit 3 Assessment - Emperical Modeling\n",
        "\n",
        "## Group Part\n",
        "\n",
        "## Instructions\n",
        "\n",
        "For this assignment, you will work in the following groups. Due Wendsday 10/2 at 12:05pm\n",
        "\n",
        "\n",
        "Group Number | Names\n",
        "--- | ---\n",
        "1 | Ryan and Evan\n",
        "2 | Paul and Jessie\n",
        "3 | Lily and Heather\n",
        "4 | Sterling and Brandon\n",
        "5 | Nora, Dalila, and Olivia\n",
        "6 | Izzy W. and Gray\n",
        "7 | Izzy J. and Frank\n",
        "8 | Aliyah and Sawyer\n",
        "9 | Daniel and Sara\n",
        "\n",
        "### Working Together\n",
        "- You should both be present when working on this notebook. Nobody should work on it alone. This is a group effort.\n",
        "- **One** person will save the notebook in their Google Drive folder shared with me. They should then share *the notebook* with the other person's gmail account so that both individuals will have access to (and can edit) the same notebook.  Notebooks don't work the same as Google Docs, so if you are both trying to edit a notebook at the same time you will have to manually merge the changes. **After it is completely finished**, the other person should save a copy of the notebook to their Google Drive.  \n",
        "- I will randomly select one person's Google Drive folder and notebook to grade the group's effort.\n",
        "- The quality of your writing important. Your responses should be detailed, logical, and followable. I would strongly recommend coming back to edit your answers a day or so after initially answering the questions. A fairly large chunk of the grade for this group assesment is the organizatin and writing quality.\n",
        "\n",
        "### **Using resources**\n",
        "\n",
        "You may use your Colab notebooks from class, any other notebook or reading I have given you, and any links to web sites I have provided. Basically, if it is linked on Blackboard then you can use it.\n",
        "\n",
        "You may not use any other person or person-like resource. This includes the AI features in Google Colab or any other generative AI tool (ChatGPT, etc.) It also includes any message-board like site such as Stack Overflow or Reddit. You are responsible for using only approved resources. If you're unsure whether something is allowed, please ask me before using it.\n",
        "\n",
        "You can disable the Gemini AI assistance by going to settings and unchecking `Consented to use generative AI features` and checking `Hide generative AI features.` as seen below.\n",
        "\n",
        "\n",
        "### **Citing Sources**\n",
        "\n",
        "Citing sources isn't just about copying and pasting code—it's about giving credit whenever you use ideas, inspiration, or guidance from another source, even if you don't copy directly. Here's how to handle it:\n",
        "\n",
        "- **When to Cite**:\n",
        "  - If you refer to a **specific code example** from class materials, notebooks, or a reading.\n",
        "    - Example: \"I used the loop structure from the `02-01-random` notebook, exercise 1.\"\n",
        "  - When you use an **idea** or approach that you didn't come up with on your own, even if you modify it.\n",
        "    - Example: \"The way I calculated the probability of finding the area of a circle was based on the pre-class notebook for Day 3.\"\n",
        "  - **Even if you don't copy-paste** code, if something influenced your thinking or the way you structured your solution, it should be cited.\n",
        "  \n",
        "- **What doesn't need citation**:\n",
        "  - Basic ideas that come entirely from your own brain.\n",
        "  - Simple language constructs like loops, if-statements, or variables, unless they come directly from an example you're referencing.\n",
        "\n",
        "- **Key points**\n",
        "  - It's always better to cite than to leave something out. You won't lose points for over-citing and I will give you feedback on what citations are required or not.\n",
        "  - Don't just cite when you copy code—cite when ideas or problem-solving approaches come from an outside source.\n",
        "\n",
        "- **Examples of Correct Citations**:\n",
        "  - **Copied/Modified Code**: \"We used the code from the `randomwalk1D` function in the `02-03-random-walk` notebook to help structure our loop.\"\n",
        "  - **Concept or Inspiration**: \"We based our approach for determining the circle a dart landed in on the exmaple we did in class estimating $\\pi$. \""
      ]
    },
    {
      "cell_type": "markdown",
      "metadata": {
        "id": "siQLvk0AnPp1"
      },
      "source": [
        "# Exercise 0\n",
        "\n",
        "Write your names at the top of the notebook as a Level 1 Heading in markdown."
      ]
    },
    {
      "cell_type": "markdown",
      "metadata": {
        "id": "wqQDqMULnPqA"
      },
      "source": [
        "## Exercise 1\n",
        "\n",
        "Find a set of data that shows a **non-linear** relationship between variables. Do not choose data that includes categorical variables (i.e. the variables should all be numbers, not labels).\n",
        "\n",
        "Here are a few places that might have intresting data, but you can find your own:\n",
        "- [Quantitative Enviromental Learning Project](https://seattlecentral.edu/qelp/Data.html)\n",
        "- [Physics hypertexbook](https://physics.info/curve-fitting/resources.shtml)\n",
        "- [UC Irvine Machine Learning Function Finding Dataset](https://archive.ics.uci.edu/dataset/41/function+finding) (this is a collection of data from historical experiments in the physical sciences)\n",
        "\n",
        "You can use data from any source. Feel free to use data you collected in a science class or research experience. You are also welcome to ask professors and other students for data. Any source is fair game. The important thing is you understand what the data means and you cite the source of the data. You will be asked to develop a model for the data in the next exercise, so make sure you select data that you can fit with a function of some sort.\n",
        "\n",
        "Add a text cell below. In about a paragraph, describe your data and cite the source. Then add a code cell and plot your data (including proper title and  axis labels.)\n"
      ]
    },
    {
      "cell_type": "markdown",
      "metadata": {
        "id": "tRZgnrmRnPqE"
      },
      "source": [
        "## Exercise 2\n",
        "Select a model (mathmatical function) that you can use to describe your data. Since your data has a non-linear relationship, your model should not be a line.\n",
        "\n",
        "1. Add a text cell below. In the text cell, describe the model, including any model parameters, and write it mathematically in LaTeX so it is nicely formated. There are examples of LaTeX in all of this unit's notebooks as well as a helpsheet on Blackboard.\n",
        "1. Add a code cell below. In the code cell determine an emperical model for your data by finding the best-fit model parameters for the model you described in the previous part. Add those results to your description of the model.\n"
      ]
    },
    {
      "cell_type": "code",
      "execution_count": null,
      "metadata": {
        "vscode": {
          "languageId": "plaintext"
        }
      },
      "outputs": [],
      "source": []
    }
  ],
  "metadata": {
    "colab": {
      "provenance": []
    },
    "kernelspec": {
      "display_name": "Python 3",
      "language": "python",
      "name": "python3"
    },
    "language_info": {
      "codemirror_mode": {
        "name": "ipython",
        "version": 3
      },
      "file_extension": ".py",
      "mimetype": "text/x-python",
      "name": "python",
      "nbconvert_exporter": "python",
      "pygments_lexer": "ipython3",
      "version": "3.10.12"
    }
  },
  "nbformat": 4,
  "nbformat_minor": 0
}
