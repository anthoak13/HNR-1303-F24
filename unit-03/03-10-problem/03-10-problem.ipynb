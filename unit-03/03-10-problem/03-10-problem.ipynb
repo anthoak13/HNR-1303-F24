{
 "cells": [
  {
   "cell_type": "markdown",
   "metadata": {},
   "source": [
    "# Unit 3 Assessment - Empirical Models\n",
    "\n",
    "## Instructions\n",
    "\n",
    "In this assessment, you are going to develop an emperical model by fitting a curve to data, and you will use your model to make predictions.\n",
    "\n",
    "Scores are determined by:\n",
    "\n",
    "- Successfully starting the C Level = 50 pts\n",
    "- Perfectly completing the C Level = 75 pts\n",
    "- Perfectly completing the B and C Levels = 85 pts\n",
    "- Perfectly completing the A, B, and C Levels = 100 pts\n",
    "\n",
    "You may use your Colab notebooks, our textbook, my notebook solutions, and any links to web sites I provide. (You may not use any other person or web site or book or resource, in general.) \n",
    "\n",
    "You may ask me for help **once**; however, you may ask for clarification as often as needed.\n",
    "\n",
    "Add additional cells for both code and markdown as needed. **Write answers to questions in narrative form in markdown.** You may print values you need in your code, and then use these values in a written response.\n",
    "\n",
    "**All graphs should have correct titles and axis labels (with units).**\n",
    "\n",
    "### **Using resources**\n",
    "\n",
    "You may use your Colab notebooks from class, any other notebook or reading I have given you, and any links to web sites I have provided. Basically, if it is linked on Blackboard then you can use it.\n",
    "\n",
    "You may not use any other person, website, book, or resource. This includes the AI features in Google Colab or any other generative AI tool (ChatGPT, etc.) You are responsible for using only approved resources. If you're unsure whether something is allowed, please ask me before using it.\n",
    "\n",
    "You can disable the Gemini AI assistance by going to settings and unchecking `Consented to use generative AI features` and checking `Hide generative AI features.` as seen below.\n",
    "\n",
    "### **Citing Sources**\n",
    "\n",
    "Citing sources isn't just about copying and pasting code—it's about giving credit whenever you use ideas, inspiration, or guidance from another source, even if you don't copy directly. Here's how to handle it:\n",
    "\n",
    "- **When to Cite**:\n",
    "  - If you refer to a **specific code example** from class materials, notebooks, or a reading.\n",
    "    - Example: \"I used the loop structure from the `02-01-random` notebook, exercise 1.\"\n",
    "  - When you use an **idea** or approach that you didn't come up with on your own, even if you modify it.\n",
    "    - Example: \"The way I calculated the probability of finding the area of a circle was based on the pre-class notebook for Day 3.\"\n",
    "  - **Even if you don't copy-paste** code, if something influenced your thinking or the way you structured your solution, it should be cited.\n",
    "  \n",
    "- **What doesn't need citation**:\n",
    "  - Basic ideas that come entirely from your own brain.\n",
    "  - Simple language constructs like loops, if-statements, or variables, unless they come directly from an example you're referencing.\n",
    "\n",
    "- **Key points**\n",
    "  - It's always better to cite than to leave something out. You won't lose points for over-citing and I will give you feedback on what citations are required or not.\n",
    "  - Don't just cite when you copy code—cite when ideas or problem-solving approaches come from an outside source.\n",
    "\n",
    "- **Examples of Correct Citations**:\n",
    "  - **Copied/Modified Code**: \"We used the code from the `randomwalk1D` function in the `02-03-random-walk` notebook to help structure our loop.\"\n",
    "  - **Concept or Inspiration**: \"We based our approach for determining the circle a dart landed in on the exmaple we did in class estimating $\\pi$. \"\n",
    "\n",
    "## Grade\n",
    "\n",
    "<font color=\"green\"></font>\n",
    "\n",
    "Level | Grade | Comment\n",
    "--- | --- | ---\n",
    "C (75 pts) | | \n",
    "B (10 pts) | | \n",
    "A (15 pts) | | \n",
    "Total | \n"
   ]
  },
  {
   "cell_type": "markdown",
   "metadata": {},
   "source": [
    "# Level C\n",
    "\n",
    "## Exercise 0\n",
    "\n",
    "1. Save a copy of this notebook to Google Drive in the folder you have shared with me. \n",
    "\n",
    "2. Add a text cell above and type your name as a level one heading in markdown. (A level one heading starts with # on its own line.)\n",
    "\n",
    "3. Run the `import` statements below to add packages."
   ]
  },
  {
   "cell_type": "code",
   "execution_count": 19,
   "metadata": {},
   "outputs": [],
   "source": [
    "import numpy as np #used for arrays and numerical functions\n",
    "import pandas as pd #used for reading a data file\n",
    "import matplotlib.pyplot as plt #used for graphing\n",
    "from io import StringIO #used to convert string to a dataframe\n",
    "from scipy.optimize import curve_fit #used to find the fit parameters"
   ]
  },
  {
   "cell_type": "markdown",
   "metadata": {},
   "source": [
    "## Exercise 1"
   ]
  },
  {
   "cell_type": "markdown",
   "metadata": {},
   "source": [
    "Rainbow trout, mountain whitefish and large-scale suckers taken from 4 different localities along the Spokane River (eastern Washington) during July, August and October of 1999 were analyzed for three heavy metals (lead, zinc and cadmium) by Manchester Laboratory for the Washington State Department of Ecology. Some of the results of the study are located in [this text file](https://raw.githubusercontent.com/anthoak13/HNR-1303-F24/refs/heads/F24/unit-03/03-10-problem/fish_data.txt). It contains the concentration of lead and zinc found in a number of fish. ([source](https://apps.ecology.wa.gov/publications/documents/0003017.pdf)). Read in and then plot the concentration of lead as a function of the concentration of zinc."
   ]
  },
  {
   "cell_type": "code",
   "execution_count": null,
   "metadata": {},
   "outputs": [],
   "source": []
  },
  {
   "cell_type": "markdown",
   "metadata": {},
   "source": [
    "## Exercise 2"
   ]
  },
  {
   "cell_type": "markdown",
   "metadata": {},
   "source": [
    "Using the data from Exercise 1, perform a linear curve fit to model the relationship between lead and zinc concentrations in the fish. Plot the best-fit line along with the original data on the same graph. Report the best-fit parameters for your model."
   ]
  },
  {
   "cell_type": "code",
   "execution_count": null,
   "metadata": {},
   "outputs": [],
   "source": []
  },
  {
   "cell_type": "markdown",
   "metadata": {},
   "source": [
    "## Exercise 3"
   ]
  },
  {
   "cell_type": "markdown",
   "metadata": {},
   "source": [
    "Using the curve fit from Exercise 2, predict the concentration of zinc in a fish for the following lead concentrations: 1 ppm, 4 ppm, and 0 ppm. Report your predictions for each case."
   ]
  },
  {
   "cell_type": "markdown",
   "metadata": {},
   "source": [
    "## Exercise 4\n",
    "\n",
    "Evaluate the predictions you made in Exercise 3. Which predictions do you believe are valid, and why? For predictions that seem less accurate or reasonable, explain why you think this is the case. What additional data or changes to the model would help make your predictions more reliable across all examples?"
   ]
  },
  {
   "cell_type": "markdown",
   "metadata": {},
   "source": [
    "# Level B\n",
    "\n",
    "In 2018 a pair of Portugese researchers published a paper [Monte Carlo Simulation to Evaluate Mould Growth in Walls: The Effect of Insulation, Orientation, and Finishing Coating](https://onlinelibrary.wiley.com/doi/full/10.1155/2018/8532167). As the paper title suggests, the reserach used Monte Carlo models to simulate the growth of mold using two different models publicly availible. For each of the models, they simulated 12 different configurations of the wall's construction. They simulated the growth of mold over one year. Time was measured in hours and the amount of mold was measured in mm. This is an odd unit to pick for amount of mold and in the paper the authors state \"with ongoing growth, unrealistic values of several hundred millimetres can be reached. Therefore, these values can only be regarded for a comparative assessment of the risk of mould development, but not as a realistic growth.\"\n",
    "\n",
    "We will be examining two of the twelve cases. In both cases, the walls had no insulation and were facing north (limiting sun exposure). [This file](https://raw.githubusercontent.com/anthoak13/HNR-1303-F24/refs/heads/F24/unit-03/03-10-problem/mold_gypsum.txt) contains the simulation where the wall was made of gypsum. [This file](https://raw.githubusercontent.com/anthoak13/HNR-1303-F24/refs/heads/F24/unit-03/03-10-problem/mold_wood.txt) contains the simulation where the wall was made of untreated wood. "
   ]
  },
  {
   "cell_type": "markdown",
   "metadata": {},
   "source": [
    "## Exercise 1\n",
    "Read in the data for the mold growth on a gypsum wall as a function of time and then plot it."
   ]
  },
  {
   "cell_type": "code",
   "execution_count": null,
   "metadata": {},
   "outputs": [],
   "source": []
  },
  {
   "cell_type": "markdown",
   "metadata": {},
   "source": [
    "## Exercise 2\n",
    "Using the gypsum wall data from Exercise 1, fit a logistic curve to model mold growth over time:\n",
    "$$y = \\frac{A}{1+e^{-B(x-C)}}$$\n",
    "where $y$ is the amount of mold and $x$ is the time. In a logistic curve, the parameters have a well defined meaning.\n",
    "\n",
    "| Parameter | Meaning|\n",
    "| :---: | :---: |\n",
    "| A | The maximum amount of mold|\n",
    "| B | The rate of growth (typically a *small* positive number near 1)|\n",
    "| C | The x-value where the model is at half the maximum value|\n",
    "\n",
    "Plot the best-fit curve on the same graph as the data and report on the best fit parameters (A,B,C).\n"
   ]
  },
  {
   "cell_type": "code",
   "execution_count": null,
   "metadata": {},
   "outputs": [],
   "source": []
  },
  {
   "cell_type": "markdown",
   "metadata": {},
   "source": [
    "## Exercise 3\n",
    "\n",
    "Read the data data for the mold growth on a wood wall as a function of time and then plot it. Fit a logistic function to this data and plot the best fit function on the same graph. Report on the best fit parameters (A, B, C). "
   ]
  },
  {
   "cell_type": "code",
   "execution_count": null,
   "metadata": {},
   "outputs": [],
   "source": []
  },
  {
   "cell_type": "markdown",
   "metadata": {},
   "source": [
    "## Exercise 4\n",
    "Based on your fit parameters, which wall does mold grow faster on? Provide evidence for your answer based on your fit parameters."
   ]
  },
  {
   "cell_type": "code",
   "execution_count": null,
   "metadata": {},
   "outputs": [],
   "source": []
  },
  {
   "cell_type": "markdown",
   "metadata": {},
   "source": [
    "## Exercise 5\n",
    "\n",
    "Based on your fit parameters, which wall can support a larger amount of mold? Provide evidence for your answer based on your fit parameters."
   ]
  },
  {
   "cell_type": "code",
   "execution_count": null,
   "metadata": {},
   "outputs": [],
   "source": []
  },
  {
   "cell_type": "markdown",
   "metadata": {},
   "source": [
    "# Level A\n",
    "\n"
   ]
  },
  {
   "cell_type": "markdown",
   "metadata": {},
   "source": [
    "One of the things a nuclear physicist often measures is the energy deposited in a detector during some nuclear reaction. This is a suprisingly complicated process, but what it boils down to is measureing the amount of charge (i.e. the number of electrons) produced in the detector. \n",
    "\n",
    "The amount of charge we have to measure is so small that we can't just grab a multimeter off the shelf to make this measurement. Instead we need to collect the charge and then amplify it with some electronics. The result of the amplification is a signal (measured in volts) whose maximum value is proportional to the amount of charge collected. \n",
    "\n",
    "This only works when the time it takes to collect the charge is very short. If the time is long, then this porpotionality breaks down. \n",
    "\n",
    "**Our question is: how can we model the relationship between the maximum voltage and the amount of time it takes to collect the charge?** \n",
    "\n",
    "This data comes from [a simulation I wrote](https://github.com/ATTPC/ATTPCROOTv2/blob/develop/macro/e12014/adam/filtering/fft/deconvolution.C#L468) a few years ago to examine the scope of this problem in the context of a particular class of detector called a Time Projection Chamber.\n"
   ]
  },
  {
   "cell_type": "markdown",
   "metadata": {},
   "source": [
    "## Exercise 1\n",
    "\n",
    "[This file](https://raw.githubusercontent.com/anthoak13/HNR-1303-F24/refs/heads/F24/unit-03/03-10-problem/charge_data.txt) contains the results of the simulation. The `width` column is our measure of how long it takes to collect the charge (for those intrested in the details, in the simulation the charge is approximated as a gaussian and this is the standard deviation of that gaussian in time). The `voltage` column is the maximum voltage recorded by the electronics in some arbitrary unit system.\n",
    "\n",
    "Read in the data and plot the voltage as a function of width.\n"
   ]
  },
  {
   "cell_type": "code",
   "execution_count": null,
   "metadata": {},
   "outputs": [],
   "source": []
  },
  {
   "cell_type": "markdown",
   "metadata": {},
   "source": [
    "## Exercise 2\n",
    "You look at the data and think it looks like an exponential decay or a power law, but it is hard to tell which.\n",
    "\n",
    "Fit the data with an exponential, plot the resulting model on the same graph, and report on the fit parameters.\n",
    "$$y=A e^{-B*x} + C$$\n",
    "\n",
    "Fit the data with a power law, plot the resulting model on the same graph, and report on the fit parameters. \n",
    "$$y = A x^B + C$$\n",
    "\n",
    "The resulting graph should have the data, and both models on a single graph."
   ]
  },
  {
   "cell_type": "code",
   "execution_count": null,
   "metadata": {},
   "outputs": [],
   "source": []
  },
  {
   "cell_type": "markdown",
   "metadata": {},
   "source": [
    "## Exercise 3\n",
    "\n",
    "Based on the results of your analysis, which model (power law or exponential) appears to fit the data better? Provide evidence to support your conclusions by refering to the plot or any relevant metrics.\n"
   ]
  },
  {
   "cell_type": "markdown",
   "metadata": {},
   "source": [
    "## Exercise 4\n",
    "\n",
    "[This file](https://raw.githubusercontent.com/anthoak13/HNR-1303-F24/refs/heads/F24/unit-03/03-10-problem/charge_data_all.txt) contains the simualted voltage for a wider range of widths. Using the fit parameters from Exercise 2, plot both the new data and your previous models (power law and exponential) on the same graph.\n",
    "\n",
    "**Note**: You are not doing any fitting in this problem. You are just using the fit parameters from exercise 2 to plot the results of your model to see how it compares to the additional data."
   ]
  },
  {
   "cell_type": "code",
   "execution_count": null,
   "metadata": {},
   "outputs": [],
   "source": []
  },
  {
   "cell_type": "markdown",
   "metadata": {},
   "source": [
    "## Exercise 5\n",
    "Using your models from exercise 2, fill in the following table. **Which model does better at predicting (i.e. extrapolating) the voltage in the expanded data ($\\text{width} > 10$)? Which model does a better job at predicting (i.e. interpolating) the voltage where we have data ($\\text{width} \\le 10$)?** Provide evidence from the following table\n",
    "\n",
    "Recall, the percent difference is defined as:\n",
    "$$ \\text{\\% Difference} = 100\\times \\frac{\\text{data} - \\text{predicted}}{\\text{data}}$$\n",
    "\n",
    "*Hint:* You can calculate the percent difference by hand or use code. If you use code, you can print entire lines of the table out like\n",
    "```python\n",
    "print(f\"| {width} | {voltage} | {voltagePower} | {100*(voltage-voltagePower)/voltage} | {voltageExp} | {100*(voltage-voltageExp)/voltage} |)\n",
    "```\n",
    "and then just copy-paste into the markdown box below (you will haveto adjust the variable names to whatever you used in your code of course)."
   ]
  },
  {
   "cell_type": "markdown",
   "metadata": {},
   "source": [
    "| Width | Voltage | Predicted Voltage (Power Law) |% Difference (Power Law) | Predicted Voltage (Exponential) | % Difference (Exponential)|\n",
    "|:---:|:---:|:---:|:---:|:---:|:---:|\n",
    "|4|3.05|    |   |   |\n",
    "|10|1.34|   |   |   |\n",
    "|20|0.71|   |   |   |\n",
    "|30|0.50|   |   |   |\n",
    "\n"
   ]
  },
  {
   "cell_type": "code",
   "execution_count": null,
   "metadata": {},
   "outputs": [],
   "source": []
  },
  {
   "cell_type": "markdown",
   "metadata": {},
   "source": [
    "## Exercise 6\n",
    "\n",
    "Repeat your fit using all of the data. Plot the data, and both models on a single graph and report the new fit parameters. How do your new fit parameters for the two models (power law and exponential) compare to the paramters from the you performed in Execise 2? "
   ]
  },
  {
   "cell_type": "code",
   "execution_count": null,
   "metadata": {},
   "outputs": [],
   "source": []
  }
 ],
 "metadata": {
  "kernelspec": {
   "display_name": "Python 3",
   "language": "python",
   "name": "python3"
  },
  "language_info": {
   "codemirror_mode": {
    "name": "ipython",
    "version": 3
   },
   "file_extension": ".py",
   "mimetype": "text/x-python",
   "name": "python",
   "nbconvert_exporter": "python",
   "pygments_lexer": "ipython3",
   "version": "3.10.12"
  }
 },
 "nbformat": 4,
 "nbformat_minor": 4
}
