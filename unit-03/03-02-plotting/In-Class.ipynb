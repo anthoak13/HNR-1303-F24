{
  "nbformat": 4,
  "nbformat_minor": 0,
  "metadata": {
    "colab": {
      "provenance": [],
      "authorship_tag": "ABX9TyO6W3sm3gwKeU0kzz9hfTEW"
    },
    "kernelspec": {
      "name": "python3",
      "display_name": "Python 3"
    },
    "language_info": {
      "name": "python"
    }
  },
  "cells": [
    {
      "cell_type": "code",
      "execution_count": null,
      "metadata": {
        "id": "05hvNU6yB_fg"
      },
      "outputs": [],
      "source": [
        "import matplotlib.pyplot as plt\n",
        "import pandas as pd\n",
        "import numpy as np"
      ]
    },
    {
      "cell_type": "markdown",
      "source": [
        "# Review (Functions)\n",
        "\n",
        "## Mathmatical functions\n",
        "\n",
        "$$f(x) = a\\sqrt{x}+bx+cx^2$$\n",
        "\n",
        "What are the parts of a function?\n",
        "\n",
        "- Depedent variable ($f(x)$)\n",
        "- Independent variable (input, $x$)\n",
        "- Constants (input, setting these is setting the model)\n",
        "\n",
        "## Programing functions\n",
        "How would we implement the above function in python?\n",
        "\n",
        "- Traditional function\n",
        "```\n",
        "def f(a,b,c,x):\n",
        "    return a*np.sqrt(x)+b*x+c*x**2\n",
        "print(f(1,2,3,4))\n",
        "```\n",
        "- Lambda function\n",
        "```\n",
        "f = lambda a,b,c,x: a*np.sqrt(x)+b*x+c*x**2\n",
        "print(f(1,2,3,4))\n",
        "```"
      ],
      "metadata": {
        "id": "jbPi1WLCCCg7"
      }
    },
    {
      "cell_type": "markdown",
      "source": [
        "## Empirical Models\n",
        "\n",
        "A mathmatical expression tht follows real world data. Can be used to make predictions where the model is valid (interpolation). Does not explain the data or describe why the data has the trend that it does."
      ],
      "metadata": {
        "id": "x-mj98EECo1t"
      }
    },
    {
      "cell_type": "markdown",
      "source": [
        "# Monte-Carlo Models vs. Emperical Models\n",
        "\n",
        "## Monte-Carlo\n",
        "\n",
        "- Randomness/probability\n",
        "- Predict beyond data\n",
        "\n",
        "## Emperical\n",
        "\n",
        "- Using old data to predict new data (purely data based)\n",
        "- Can only predict within valid data range"
      ],
      "metadata": {
        "id": "6jGoF5qKCztI"
      }
    },
    {
      "cell_type": "markdown",
      "source": [
        "## Pre-class model examples\n",
        "Pick a model from your group. Each group will then give a 1-2 minute mini presentation on their model. You should be showing the LaTeX expression that is your model, along with the graph. In addition try to answer these questions:\n",
        "- What is the model describing? What are the dependent and independent variables?\n",
        "- What is the model?\n",
        "- If you know, where is the model valid?"
      ],
      "metadata": {
        "id": "UIgmu1OFEqBx"
      }
    },
    {
      "cell_type": "markdown",
      "source": [
        "# Plotting in python"
      ],
      "metadata": {
        "id": "kgt3e5W5C5X-"
      }
    },
    {
      "cell_type": "code",
      "source": [
        "xdata = [1,2,3,4]\n",
        "ydata = [1,2,3,4]\n",
        "\n",
        "plt.plot(xdata,ydata,'g*--')"
      ],
      "metadata": {
        "colab": {
          "base_uri": "https://localhost:8080/",
          "height": 448
        },
        "id": "KGdWNpi6C4n1",
        "outputId": "58b7fd2a-6e3d-4850-92aa-61c4f509108b"
      },
      "execution_count": null,
      "outputs": [
        {
          "output_type": "execute_result",
          "data": {
            "text/plain": [
              "[<matplotlib.lines.Line2D at 0x7da78630c310>]"
            ]
          },
          "metadata": {},
          "execution_count": 6
        },
        {
          "output_type": "display_data",
          "data": {
            "text/plain": [
              "<Figure size 640x480 with 1 Axes>"
            ],
            "image/png": "[encoded data removed]"
          },
          "metadata": {}
        }
      ]
    }
  ]
}