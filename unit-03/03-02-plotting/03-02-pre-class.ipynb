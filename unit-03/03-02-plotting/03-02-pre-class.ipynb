{
  "cells": [
    {
      "cell_type": "markdown",
      "metadata": {},
      "source": [
        "## Homework\n",
        "\n",
        "Search for an emperical model of a system in any area. It could be in science, social science, economics, finance, health, etc. The emperical model must be a mathematical function, and the dependent and independent variables must represent measurable quantities. In other words, the model must describe a real system.\n",
        "\n",
        "Describe the model with a brief narrative (like the examples above), and use LaTeX to format the mathematical function. On our web site there are:\n",
        "\n",
        "1. a tutorial with examples for formatting text in markdown.\n",
        "2. examples of LaTeX to format math.\n",
        "\n",
        "Your description and result should\n",
        "\n",
        "1. have links your sources.\n",
        "1. describe the model as a mathematical function, typeset correctly.\n",
        "1. define the dependent and independent variables.\n",
        "1. plot the function for a set of 10 - 20 values of the independent variable."
      ]
    }
  ],
  "metadata": {
    "colab": {
      "authorship_tag": "ABX9TyOvVfdB0O6HmHuHl4Hb3xrX",
      "provenance": []
    },
    "kernelspec": {
      "display_name": "Python 3",
      "name": "python3"
    },
    "language_info": {
      "name": "python"
    }
  },
  "nbformat": 4,
  "nbformat_minor": 0
}
